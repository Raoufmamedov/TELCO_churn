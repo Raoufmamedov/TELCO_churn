{
  "cells": [
    {
      "cell_type": "markdown",
      "metadata": {
        "id": "view-in-github",
        "colab_type": "text"
      },
      "source": [
        "<a href=\"https://colab.research.google.com/github/Raoufmamedov/TELCO_churn/blob/main/%22%D0%9F%D1%80%D0%BE%D0%B3%D0%BD%D0%BE%D0%B7%D0%B8%D1%80%D0%BE%D0%B2%D0%B0%D0%BD%D0%B8%D0%B5_%D0%BE%D1%82%D1%82%D0%BE%D0%BA%D0%B0_%D0%BA%D0%BB%D0%B8%D0%B5%D0%BD%D1%82%D0%BE%D0%B2_%D0%B8_Uplift_%D0%BC%D0%BE%D0%B4%D0%B5%D0%BB%D0%B8%D1%80%D0%BE%D0%B2%D0%B0%D0%BD%D0%B8%D0%B5%22.ipynb\" target=\"_parent\"><img src=\"https://colab.research.google.com/assets/colab-badge.svg\" alt=\"Open In Colab\"/></a>"
      ]
    },
    {
      "cell_type": "code",
      "source": [
        "# -*- coding: utf-8 -*-\n",
        "# <nbformat>4</nbformat>"
      ],
      "outputs": [],
      "execution_count": null,
      "metadata": {
        "id": "MrMm0Offo6Aj"
      }
    },
    {
      "cell_type": "markdown",
      "source": [
        "# Модель Прогнозирования Оттока Клиентов и Uplift-Моделирование\n",
        "\n",
        "### 1. Введение\n",
        "\n",
        " Данный ноутбук посвящен разработке модели прогнозирования оттока клиентов и базового Uplift-моделирования. Проект охватывает полный цикл от сбора и предобработки данных о клиентах до построения, оценки и демонстрации развертывания модели.\n",
        "\n",
        "**Бизнес-проблема:** Удержание существующих клиентов зачастую рентабельнее привлечения новых. Прогнозирование оттока направлено на выявление клиентов склонных к принятию решения об уходе и позволяет компаниям применять целевые стратегии удержания.\n",
        "\n",
        "Uplift-моделирование предсказывает инкрементальное влияние маркетингового вмешательства (например, предложения скидки) на поведение клиента, помогая оптимизировать кампании по повышению лояльности.\n",
        "\n",
        "**Цель проекта:** построение модели надёжного прогнозирования оттока, которая была бы способна выявлять высокорисковых клиентов, а также изучения эфффекта Uplift-моделирования для персонализированных маркетинговых кампаний."
      ],
      "metadata": {
        "id": "bWSAHRspoHUx"
      }
    },
    {
      "cell_type": "markdown",
      "source": [
        "### Uplift-моделирование: Основы и реализация в ноутбуке\n",
        "\n",
        "####Uplift-моделирование (также известное как причинно-следственное моделирование воздействия, инкрементальное моделирование или Net Lift modeling) — это продвинутый подход в машинном обучении, который предсказывает приращение (инкремент) вероятности целевого события для каждого отдельного человека в ответ на конкретное маркетинговое или бизнес-вмешательство. Оно предсказывает не вероятность ухода клиента, а эффект который ожидаемо будет иметь от воздействия, сравниваемый с эффектом наблюдаемым в отсутствии воздействия, и его цель идентифицикация клиентов, которые с наибольшей вероятностью положительно отреагируют на наше вмешательство и не отреагировали бы без него.  Её задействование, значительно повышает эффективность маркетинговых кампаний, снижает затраты и предотвращает негативную реакцию.\n",
        "\n",
        "#### Всего по реакции на воздействие в анализе выделяются Четыре группы клиентов :\n",
        "\n",
        "#### **Sure Things**: Лояльные м не требующие воздейстыия,\n",
        "#### **Do-Not-Disturbs**: негативно реагирующие на воздействия, которые стимулируют их уйти,\n",
        "####**Lost Causes**: Клиенты, потерянные для компании, их не удержать никакими примелемыми для компании методами,\n",
        "####**Persuadables**: Клиенты, которые останутся только если мы на них повлияем (группа с наибольшим \"uplift\", инкрементальным эффектомом).Именно эта группа и есть наша целевая аудитория для основных маркетинговых усилий.\n",
        "\n",
        "### Ценность для бизнеса:\n",
        "#### - **Оптимизация маркетинговых бюджетов**: Ресурсы тратятся только на реагирующих.\n",
        "####- **Повышение показателя возврата инвестиций в кампании (ROI)**: Максимальная отдача от каждого вложенного доллара.\n",
        "####- **Предотвращение \"каннибализации\" (cannibalization)**: Избегается неоправданное предоставление скидок или бонусов клиентам, которые в любом случае не планировали уходить.\n",
        "####- **Снижение негативной реакции**: Клиентов, которые не хотят вмешательства, не подвергаются воздействию.\n",
        "####- **Персонализация**: Возможность создавать более эффективные, персонализированные предложения.###\n",
        "\n",
        "#### В данном пректе Uplift-моделирование реализовано имитацией данных, чтобы продемонстрировать саму концепцию (uplift и  A/B/C-тестирование)\n",
        "\n",
        "### Шаги в ноутбуке:\n",
        "#### 1) Имитация признаков клиентов: Создаются случайные числовые признаки, такие как age, income, loyalty_score, prior_purchases.\n",
        "#### 2) Имитация групп воздействия (treatment_group) реального A/B/C-теста: Клиенты случайно распределяются по трем группам:\n",
        "\n",
        "**0: Control (контрольная группа)**: не получают никакого вмешательства.\n",
        "\n",
        "**1: Treatment_A (воздействие A)**: получают один вид вмешательства.\n",
        "\n",
        "**2: Treatment_B (воздействие B)**: получают другой тип стимулирования.\n",
        "\n",
        "#### 3) Имитация исхода (outcome) с эффектом uplift: Мы искусственно вводим \"причинно-следственный\" эффект, чтобы показать, как uplift проявляется в данных: Базовый уровень для контрольной группы: Определяется базовая вероятность \"успешного исхода\" (например, клиент остается) для контрольной группы. Инкрементальный эффект для групп воздействия: Мы моделируем, что у Treatment_A больший положительный эффект для клиентов с высокой оценкой loyalty_score, а воздействие Treatment_B нацелено на клиентов с низким income. Это создает группы \"убеждаемых\" клиентов.\n",
        "\n",
        "#### 4) Дизайн A/B/C-тестирования для Uplift.\n",
        "- Гипотеза: Определяется ожидаемый эффект от вмешательства.\n",
        "- Целевая аудитория: Выбираем группу клиентов для эксперимента.\n",
        "- Группы: Клиенты делятся на контрольную и одну или несколько групп воздействия. Ключевое отличие: в A/B/C-тесте для uplift-моделирования, группы воздействия могут быть дополнительно сегментированы на основе предсказаний uplift-модели.\n",
        "- Контрольная группа: Не получает воздействия.\n",
        "- Случайное воздействие: Получает воздействие без учета uplift-скора.\n",
        "- Целевое воздействие: Получает воздействие только если uplift-модель предсказывает высокий инкрементальный эффект.\n",
        "-Разделение трафика: Клиенты распределяются по группам случайным образом (например, по customer_id), чтобы обеспечить статистическую значимость.\n",
        "Метрики: Измеряются первичные (удержание, ROI) и вторичные метрики.\n",
        "Длительность: Определяется время проведения эксперимента.\n",
        "\n",
        "####5). Анализ результатов A/B/C-теста (Концепция в ноутбуке)\n",
        "После имитации данных, посмотрим, как можно было бы агрегировать метрики по группам и проводить статистические тесты (например, Z-тест для пропорций).\n",
        "Мы группируем симулированные данные по assigned_experiment_group и рассчитываем \"conversion_rate\" (долю успешных исходов). Затем продемонстрируем, как можно сравнить конверсию в группе \"Целевого воздействия\" с \"Контрольной группой\", чтобы увидеть, есть ли статистически значимое улучшение.\n",
        "\n",
        "Uplift-моделирование является следующим логическим шагом после прогнозирования оттока, позволяя не только знать, кто уйдет, но и на кого стоит воздействовать и как, чтобы предотвратить отток наиболее эффективно.\n"
      ],
      "metadata": {
        "id": "07gPHhWtWb8g"
      }
    },
    {
      "cell_type": "code",
      "source": [
        "# Установка и импорт библиотек\n",
        "!pip install causalml optuna mlflow\n",
        "!pip install xgboost==1.7.6\n",
        "!pip install fastapi==0.111.0\n",
        "!pip install uvicorn==0.30.1\n",
        "!pip install python-multipart==0.0.9\n",
        "!pip install pandas==2.2.2\n",
        "!pip install numpy==1.26.4\n",
        "!pip install scikit-learn==1.6.1\n",
        "!pip install joblib==1.4.0\n",
        "import pandas as pd\n",
        "import numpy as np\n",
        "import matplotlib.pyplot as plt\n",
        "import seaborn as sns\n",
        "import re\n",
        "import optuna\n",
        "from sklearn.model_selection import train_test_split\n",
        "from sklearn.preprocessing import LabelEncoder, StandardScaler, OneHotEncoder\n",
        "from sklearn.compose import ColumnTransformer\n",
        "from sklearn.pipeline import Pipeline as SklearnPipeline\n",
        "from sklearn.metrics import classification_report, roc_auc_score, average_precision_score, confusion_matrix, recall_score\n",
        "import optuna\n",
        "import xgboost as xgb\n",
        "from xgboost import XGBClassifier\n",
        "import joblib\n",
        "import warnings\n",
        "warnings.filterwarnings('ignore')"
      ],
      "metadata": {
        "colab": {
          "base_uri": "https://localhost:8080/"
        },
        "id": "DEj2wKmxn6Bx",
        "outputId": "9c56b95a-9462-491e-dfbf-4f8e8aabf958"
      },
      "execution_count": null,
      "outputs": [
        {
          "output_type": "stream",
          "name": "stdout",
          "text": [
            "Requirement already satisfied: causalml in /usr/local/lib/python3.11/dist-packages (0.15.4)\n",
            "Requirement already satisfied: optuna in /usr/local/lib/python3.11/dist-packages (4.4.0)\n",
            "Requirement already satisfied: mlflow in /usr/local/lib/python3.11/dist-packages (3.1.1)\n",
            "Requirement already satisfied: forestci==0.6 in /usr/local/lib/python3.11/dist-packages (from causalml) (0.6)\n",
            "Requirement already satisfied: pathos==0.2.9 in /usr/local/lib/python3.11/dist-packages (from causalml) (0.2.9)\n",
            "Requirement already satisfied: pip>=10.0 in /usr/local/lib/python3.11/dist-packages (from causalml) (24.1.2)\n",
            "Requirement already satisfied: numpy>=1.18.5 in /usr/local/lib/python3.11/dist-packages (from causalml) (1.26.4)\n",
            "Requirement already satisfied: scipy>=1.4.1 in /usr/local/lib/python3.11/dist-packages (from causalml) (1.15.3)\n",
            "Requirement already satisfied: matplotlib in /usr/local/lib/python3.11/dist-packages (from causalml) (3.10.0)\n",
            "Requirement already satisfied: pandas>=0.24.1 in /usr/local/lib/python3.11/dist-packages (from causalml) (2.2.2)\n",
            "Requirement already satisfied: scikit-learn>=1.5.2 in /usr/local/lib/python3.11/dist-packages (from causalml) (1.6.1)\n",
            "Requirement already satisfied: statsmodels>=0.9.0 in /usr/local/lib/python3.11/dist-packages (from causalml) (0.14.4)\n",
            "Requirement already satisfied: Cython in /usr/local/lib/python3.11/dist-packages (from causalml) (3.0.12)\n",
            "Requirement already satisfied: seaborn in /usr/local/lib/python3.11/dist-packages (from causalml) (0.13.2)\n",
            "Requirement already satisfied: xgboost in /usr/local/lib/python3.11/dist-packages (from causalml) (1.7.6)\n",
            "Requirement already satisfied: pydotplus in /usr/local/lib/python3.11/dist-packages (from causalml) (2.0.2)\n",
            "Requirement already satisfied: tqdm in /usr/local/lib/python3.11/dist-packages (from causalml) (4.67.1)\n",
            "Requirement already satisfied: shap in /usr/local/lib/python3.11/dist-packages (from causalml) (0.48.0)\n",
            "Requirement already satisfied: dill in /usr/local/lib/python3.11/dist-packages (from causalml) (0.3.7)\n",
            "Requirement already satisfied: lightgbm in /usr/local/lib/python3.11/dist-packages (from causalml) (4.5.0)\n",
            "Requirement already satisfied: packaging in /usr/local/lib/python3.11/dist-packages (from causalml) (24.2)\n",
            "Requirement already satisfied: graphviz in /usr/local/lib/python3.11/dist-packages (from causalml) (0.21)\n",
            "Requirement already satisfied: ppft>=1.7.6.5 in /usr/local/lib/python3.11/dist-packages (from pathos==0.2.9->causalml) (1.7.7)\n",
            "Requirement already satisfied: pox>=0.3.1 in /usr/local/lib/python3.11/dist-packages (from pathos==0.2.9->causalml) (0.3.6)\n",
            "Requirement already satisfied: multiprocess>=0.70.13 in /usr/local/lib/python3.11/dist-packages (from pathos==0.2.9->causalml) (0.70.15)\n",
            "Requirement already satisfied: alembic>=1.5.0 in /usr/local/lib/python3.11/dist-packages (from optuna) (1.16.2)\n",
            "Requirement already satisfied: colorlog in /usr/local/lib/python3.11/dist-packages (from optuna) (6.9.0)\n",
            "Requirement already satisfied: sqlalchemy>=1.4.2 in /usr/local/lib/python3.11/dist-packages (from optuna) (2.0.41)\n",
            "Requirement already satisfied: PyYAML in /usr/local/lib/python3.11/dist-packages (from optuna) (6.0.2)\n",
            "Requirement already satisfied: mlflow-skinny==3.1.1 in /usr/local/lib/python3.11/dist-packages (from mlflow) (3.1.1)\n",
            "Requirement already satisfied: Flask<4 in /usr/local/lib/python3.11/dist-packages (from mlflow) (3.1.1)\n",
            "Requirement already satisfied: docker<8,>=4.0.0 in /usr/local/lib/python3.11/dist-packages (from mlflow) (7.1.0)\n",
            "Requirement already satisfied: graphene<4 in /usr/local/lib/python3.11/dist-packages (from mlflow) (3.4.3)\n",
            "Requirement already satisfied: gunicorn<24 in /usr/local/lib/python3.11/dist-packages (from mlflow) (23.0.0)\n",
            "Requirement already satisfied: pyarrow<21,>=4.0.0 in /usr/local/lib/python3.11/dist-packages (from mlflow) (18.1.0)\n",
            "Requirement already satisfied: cachetools<7,>=5.0.0 in /usr/local/lib/python3.11/dist-packages (from mlflow-skinny==3.1.1->mlflow) (5.5.2)\n",
            "Requirement already satisfied: click<9,>=7.0 in /usr/local/lib/python3.11/dist-packages (from mlflow-skinny==3.1.1->mlflow) (8.2.1)\n",
            "Requirement already satisfied: cloudpickle<4 in /usr/local/lib/python3.11/dist-packages (from mlflow-skinny==3.1.1->mlflow) (3.1.1)\n",
            "Requirement already satisfied: databricks-sdk<1,>=0.20.0 in /usr/local/lib/python3.11/dist-packages (from mlflow-skinny==3.1.1->mlflow) (0.57.0)\n",
            "Requirement already satisfied: fastapi<1 in /usr/local/lib/python3.11/dist-packages (from mlflow-skinny==3.1.1->mlflow) (0.111.0)\n",
            "Requirement already satisfied: gitpython<4,>=3.1.9 in /usr/local/lib/python3.11/dist-packages (from mlflow-skinny==3.1.1->mlflow) (3.1.44)\n",
            "Requirement already satisfied: importlib_metadata!=4.7.0,<9,>=3.7.0 in /usr/local/lib/python3.11/dist-packages (from mlflow-skinny==3.1.1->mlflow) (8.7.0)\n",
            "Requirement already satisfied: opentelemetry-api<3,>=1.9.0 in /usr/local/lib/python3.11/dist-packages (from mlflow-skinny==3.1.1->mlflow) (1.34.1)\n",
            "Requirement already satisfied: opentelemetry-sdk<3,>=1.9.0 in /usr/local/lib/python3.11/dist-packages (from mlflow-skinny==3.1.1->mlflow) (1.34.1)\n",
            "Requirement already satisfied: protobuf<7,>=3.12.0 in /usr/local/lib/python3.11/dist-packages (from mlflow-skinny==3.1.1->mlflow) (5.29.5)\n",
            "Requirement already satisfied: pydantic<3,>=1.10.8 in /usr/local/lib/python3.11/dist-packages (from mlflow-skinny==3.1.1->mlflow) (2.11.7)\n",
            "Requirement already satisfied: requests<3,>=2.17.3 in /usr/local/lib/python3.11/dist-packages (from mlflow-skinny==3.1.1->mlflow) (2.32.3)\n",
            "Requirement already satisfied: sqlparse<1,>=0.4.0 in /usr/local/lib/python3.11/dist-packages (from mlflow-skinny==3.1.1->mlflow) (0.5.3)\n",
            "Requirement already satisfied: typing-extensions<5,>=4.0.0 in /usr/local/lib/python3.11/dist-packages (from mlflow-skinny==3.1.1->mlflow) (4.14.0)\n",
            "Requirement already satisfied: uvicorn<1 in /usr/local/lib/python3.11/dist-packages (from mlflow-skinny==3.1.1->mlflow) (0.30.1)\n",
            "Requirement already satisfied: Mako in /usr/lib/python3/dist-packages (from alembic>=1.5.0->optuna) (1.1.3)\n",
            "Requirement already satisfied: urllib3>=1.26.0 in /usr/local/lib/python3.11/dist-packages (from docker<8,>=4.0.0->mlflow) (2.4.0)\n",
            "Requirement already satisfied: blinker>=1.9.0 in /usr/local/lib/python3.11/dist-packages (from Flask<4->mlflow) (1.9.0)\n",
            "Requirement already satisfied: itsdangerous>=2.2.0 in /usr/local/lib/python3.11/dist-packages (from Flask<4->mlflow) (2.2.0)\n",
            "Requirement already satisfied: jinja2>=3.1.2 in /usr/local/lib/python3.11/dist-packages (from Flask<4->mlflow) (3.1.6)\n",
            "Requirement already satisfied: markupsafe>=2.1.1 in /usr/local/lib/python3.11/dist-packages (from Flask<4->mlflow) (3.0.2)\n",
            "Requirement already satisfied: werkzeug>=3.1.0 in /usr/local/lib/python3.11/dist-packages (from Flask<4->mlflow) (3.1.3)\n",
            "Requirement already satisfied: graphql-core<3.3,>=3.1 in /usr/local/lib/python3.11/dist-packages (from graphene<4->mlflow) (3.2.6)\n",
            "Requirement already satisfied: graphql-relay<3.3,>=3.1 in /usr/local/lib/python3.11/dist-packages (from graphene<4->mlflow) (3.2.0)\n",
            "Requirement already satisfied: python-dateutil<3,>=2.7.0 in /usr/local/lib/python3.11/dist-packages (from graphene<4->mlflow) (2.9.0.post0)\n",
            "Requirement already satisfied: contourpy>=1.0.1 in /usr/local/lib/python3.11/dist-packages (from matplotlib->causalml) (1.3.2)\n",
            "Requirement already satisfied: cycler>=0.10 in /usr/local/lib/python3.11/dist-packages (from matplotlib->causalml) (0.12.1)\n",
            "Requirement already satisfied: fonttools>=4.22.0 in /usr/local/lib/python3.11/dist-packages (from matplotlib->causalml) (4.58.4)\n",
            "Requirement already satisfied: kiwisolver>=1.3.1 in /usr/local/lib/python3.11/dist-packages (from matplotlib->causalml) (1.4.8)\n",
            "Requirement already satisfied: pillow>=8 in /usr/local/lib/python3.11/dist-packages (from matplotlib->causalml) (11.2.1)\n",
            "Requirement already satisfied: pyparsing>=2.3.1 in /usr/local/lib/python3.11/dist-packages (from matplotlib->causalml) (3.2.3)\n",
            "Requirement already satisfied: pytz>=2020.1 in /usr/local/lib/python3.11/dist-packages (from pandas>=0.24.1->causalml) (2025.2)\n",
            "Requirement already satisfied: tzdata>=2022.7 in /usr/local/lib/python3.11/dist-packages (from pandas>=0.24.1->causalml) (2025.2)\n",
            "Requirement already satisfied: joblib>=1.2.0 in /usr/local/lib/python3.11/dist-packages (from scikit-learn>=1.5.2->causalml) (1.4.0)\n",
            "Requirement already satisfied: threadpoolctl>=3.1.0 in /usr/local/lib/python3.11/dist-packages (from scikit-learn>=1.5.2->causalml) (3.6.0)\n",
            "Requirement already satisfied: greenlet>=1 in /usr/local/lib/python3.11/dist-packages (from sqlalchemy>=1.4.2->optuna) (3.2.3)\n",
            "Requirement already satisfied: patsy>=0.5.6 in /usr/local/lib/python3.11/dist-packages (from statsmodels>=0.9.0->causalml) (1.0.1)\n",
            "Requirement already satisfied: slicer==0.0.8 in /usr/local/lib/python3.11/dist-packages (from shap->causalml) (0.0.8)\n",
            "Requirement already satisfied: numba>=0.54 in /usr/local/lib/python3.11/dist-packages (from shap->causalml) (0.60.0)\n",
            "Requirement already satisfied: google-auth~=2.0 in /usr/local/lib/python3.11/dist-packages (from databricks-sdk<1,>=0.20.0->mlflow-skinny==3.1.1->mlflow) (2.38.0)\n",
            "Requirement already satisfied: starlette<0.38.0,>=0.37.2 in /usr/local/lib/python3.11/dist-packages (from fastapi<1->mlflow-skinny==3.1.1->mlflow) (0.37.2)\n",
            "Requirement already satisfied: fastapi-cli>=0.0.2 in /usr/local/lib/python3.11/dist-packages (from fastapi<1->mlflow-skinny==3.1.1->mlflow) (0.0.7)\n",
            "Requirement already satisfied: httpx>=0.23.0 in /usr/local/lib/python3.11/dist-packages (from fastapi<1->mlflow-skinny==3.1.1->mlflow) (0.28.1)\n",
            "Requirement already satisfied: python-multipart>=0.0.7 in /usr/local/lib/python3.11/dist-packages (from fastapi<1->mlflow-skinny==3.1.1->mlflow) (0.0.9)\n",
            "Requirement already satisfied: ujson!=4.0.2,!=4.1.0,!=4.2.0,!=4.3.0,!=5.0.0,!=5.1.0,>=4.0.1 in /usr/local/lib/python3.11/dist-packages (from fastapi<1->mlflow-skinny==3.1.1->mlflow) (5.10.0)\n",
            "Requirement already satisfied: orjson>=3.2.1 in /usr/local/lib/python3.11/dist-packages (from fastapi<1->mlflow-skinny==3.1.1->mlflow) (3.10.18)\n",
            "Requirement already satisfied: email_validator>=2.0.0 in /usr/local/lib/python3.11/dist-packages (from fastapi<1->mlflow-skinny==3.1.1->mlflow) (2.2.0)\n",
            "Requirement already satisfied: gitdb<5,>=4.0.1 in /usr/local/lib/python3.11/dist-packages (from gitpython<4,>=3.1.9->mlflow-skinny==3.1.1->mlflow) (4.0.12)\n",
            "Requirement already satisfied: zipp>=3.20 in /usr/local/lib/python3.11/dist-packages (from importlib_metadata!=4.7.0,<9,>=3.7.0->mlflow-skinny==3.1.1->mlflow) (3.23.0)\n",
            "Requirement already satisfied: llvmlite<0.44,>=0.43.0dev0 in /usr/local/lib/python3.11/dist-packages (from numba>=0.54->shap->causalml) (0.43.0)\n",
            "Requirement already satisfied: opentelemetry-semantic-conventions==0.55b1 in /usr/local/lib/python3.11/dist-packages (from opentelemetry-sdk<3,>=1.9.0->mlflow-skinny==3.1.1->mlflow) (0.55b1)\n",
            "Requirement already satisfied: annotated-types>=0.6.0 in /usr/local/lib/python3.11/dist-packages (from pydantic<3,>=1.10.8->mlflow-skinny==3.1.1->mlflow) (0.7.0)\n",
            "Requirement already satisfied: pydantic-core==2.33.2 in /usr/local/lib/python3.11/dist-packages (from pydantic<3,>=1.10.8->mlflow-skinny==3.1.1->mlflow) (2.33.2)\n",
            "Requirement already satisfied: typing-inspection>=0.4.0 in /usr/local/lib/python3.11/dist-packages (from pydantic<3,>=1.10.8->mlflow-skinny==3.1.1->mlflow) (0.4.1)\n",
            "Requirement already satisfied: six>=1.5 in /usr/local/lib/python3.11/dist-packages (from python-dateutil<3,>=2.7.0->graphene<4->mlflow) (1.17.0)\n",
            "Requirement already satisfied: charset-normalizer<4,>=2 in /usr/local/lib/python3.11/dist-packages (from requests<3,>=2.17.3->mlflow-skinny==3.1.1->mlflow) (3.4.2)\n",
            "Requirement already satisfied: idna<4,>=2.5 in /usr/local/lib/python3.11/dist-packages (from requests<3,>=2.17.3->mlflow-skinny==3.1.1->mlflow) (3.10)\n",
            "Requirement already satisfied: certifi>=2017.4.17 in /usr/local/lib/python3.11/dist-packages (from requests<3,>=2.17.3->mlflow-skinny==3.1.1->mlflow) (2025.6.15)\n",
            "Requirement already satisfied: h11>=0.8 in /usr/local/lib/python3.11/dist-packages (from uvicorn<1->mlflow-skinny==3.1.1->mlflow) (0.16.0)\n",
            "Requirement already satisfied: dnspython>=2.0.0 in /usr/local/lib/python3.11/dist-packages (from email_validator>=2.0.0->fastapi<1->mlflow-skinny==3.1.1->mlflow) (2.7.0)\n",
            "Requirement already satisfied: typer>=0.12.3 in /usr/local/lib/python3.11/dist-packages (from fastapi-cli>=0.0.2->fastapi<1->mlflow-skinny==3.1.1->mlflow) (0.16.0)\n",
            "Requirement already satisfied: rich-toolkit>=0.11.1 in /usr/local/lib/python3.11/dist-packages (from fastapi-cli>=0.0.2->fastapi<1->mlflow-skinny==3.1.1->mlflow) (0.14.8)\n",
            "Requirement already satisfied: smmap<6,>=3.0.1 in /usr/local/lib/python3.11/dist-packages (from gitdb<5,>=4.0.1->gitpython<4,>=3.1.9->mlflow-skinny==3.1.1->mlflow) (5.0.2)\n",
            "Requirement already satisfied: pyasn1-modules>=0.2.1 in /usr/local/lib/python3.11/dist-packages (from google-auth~=2.0->databricks-sdk<1,>=0.20.0->mlflow-skinny==3.1.1->mlflow) (0.4.2)\n",
            "Requirement already satisfied: rsa<5,>=3.1.4 in /usr/local/lib/python3.11/dist-packages (from google-auth~=2.0->databricks-sdk<1,>=0.20.0->mlflow-skinny==3.1.1->mlflow) (4.9.1)\n",
            "Requirement already satisfied: anyio in /usr/local/lib/python3.11/dist-packages (from httpx>=0.23.0->fastapi<1->mlflow-skinny==3.1.1->mlflow) (4.9.0)\n",
            "Requirement already satisfied: httpcore==1.* in /usr/local/lib/python3.11/dist-packages (from httpx>=0.23.0->fastapi<1->mlflow-skinny==3.1.1->mlflow) (1.0.9)\n",
            "Requirement already satisfied: httptools>=0.5.0 in /usr/local/lib/python3.11/dist-packages (from uvicorn[standard]>=0.12.0->fastapi<1->mlflow-skinny==3.1.1->mlflow) (0.6.4)\n",
            "Requirement already satisfied: python-dotenv>=0.13 in /usr/local/lib/python3.11/dist-packages (from uvicorn[standard]>=0.12.0->fastapi<1->mlflow-skinny==3.1.1->mlflow) (1.1.1)\n",
            "Requirement already satisfied: uvloop!=0.15.0,!=0.15.1,>=0.14.0 in /usr/local/lib/python3.11/dist-packages (from uvicorn[standard]>=0.12.0->fastapi<1->mlflow-skinny==3.1.1->mlflow) (0.21.0)\n",
            "Requirement already satisfied: watchfiles>=0.13 in /usr/local/lib/python3.11/dist-packages (from uvicorn[standard]>=0.12.0->fastapi<1->mlflow-skinny==3.1.1->mlflow) (1.1.0)\n",
            "Requirement already satisfied: websockets>=10.4 in /usr/local/lib/python3.11/dist-packages (from uvicorn[standard]>=0.12.0->fastapi<1->mlflow-skinny==3.1.1->mlflow) (15.0.1)\n",
            "Requirement already satisfied: sniffio>=1.1 in /usr/local/lib/python3.11/dist-packages (from anyio->httpx>=0.23.0->fastapi<1->mlflow-skinny==3.1.1->mlflow) (1.3.1)\n",
            "Requirement already satisfied: pyasn1<0.7.0,>=0.6.1 in /usr/local/lib/python3.11/dist-packages (from pyasn1-modules>=0.2.1->google-auth~=2.0->databricks-sdk<1,>=0.20.0->mlflow-skinny==3.1.1->mlflow) (0.6.1)\n",
            "Requirement already satisfied: rich>=13.7.1 in /usr/local/lib/python3.11/dist-packages (from rich-toolkit>=0.11.1->fastapi-cli>=0.0.2->fastapi<1->mlflow-skinny==3.1.1->mlflow) (13.9.4)\n",
            "Requirement already satisfied: shellingham>=1.3.0 in /usr/local/lib/python3.11/dist-packages (from typer>=0.12.3->fastapi-cli>=0.0.2->fastapi<1->mlflow-skinny==3.1.1->mlflow) (1.5.4)\n",
            "Requirement already satisfied: markdown-it-py>=2.2.0 in /usr/local/lib/python3.11/dist-packages (from rich>=13.7.1->rich-toolkit>=0.11.1->fastapi-cli>=0.0.2->fastapi<1->mlflow-skinny==3.1.1->mlflow) (3.0.0)\n",
            "Requirement already satisfied: pygments<3.0.0,>=2.13.0 in /usr/local/lib/python3.11/dist-packages (from rich>=13.7.1->rich-toolkit>=0.11.1->fastapi-cli>=0.0.2->fastapi<1->mlflow-skinny==3.1.1->mlflow) (2.19.2)\n",
            "Requirement already satisfied: mdurl~=0.1 in /usr/local/lib/python3.11/dist-packages (from markdown-it-py>=2.2.0->rich>=13.7.1->rich-toolkit>=0.11.1->fastapi-cli>=0.0.2->fastapi<1->mlflow-skinny==3.1.1->mlflow) (0.1.2)\n",
            "Requirement already satisfied: xgboost==1.7.6 in /usr/local/lib/python3.11/dist-packages (1.7.6)\n",
            "Requirement already satisfied: numpy in /usr/local/lib/python3.11/dist-packages (from xgboost==1.7.6) (1.26.4)\n",
            "Requirement already satisfied: scipy in /usr/local/lib/python3.11/dist-packages (from xgboost==1.7.6) (1.15.3)\n",
            "Requirement already satisfied: fastapi==0.111.0 in /usr/local/lib/python3.11/dist-packages (0.111.0)\n",
            "Requirement already satisfied: starlette<0.38.0,>=0.37.2 in /usr/local/lib/python3.11/dist-packages (from fastapi==0.111.0) (0.37.2)\n",
            "Requirement already satisfied: pydantic!=1.8,!=1.8.1,!=2.0.0,!=2.0.1,!=2.1.0,<3.0.0,>=1.7.4 in /usr/local/lib/python3.11/dist-packages (from fastapi==0.111.0) (2.11.7)\n",
            "Requirement already satisfied: typing-extensions>=4.8.0 in /usr/local/lib/python3.11/dist-packages (from fastapi==0.111.0) (4.14.0)\n",
            "Requirement already satisfied: fastapi-cli>=0.0.2 in /usr/local/lib/python3.11/dist-packages (from fastapi==0.111.0) (0.0.7)\n",
            "Requirement already satisfied: httpx>=0.23.0 in /usr/local/lib/python3.11/dist-packages (from fastapi==0.111.0) (0.28.1)\n",
            "Requirement already satisfied: jinja2>=2.11.2 in /usr/local/lib/python3.11/dist-packages (from fastapi==0.111.0) (3.1.6)\n",
            "Requirement already satisfied: python-multipart>=0.0.7 in /usr/local/lib/python3.11/dist-packages (from fastapi==0.111.0) (0.0.9)\n",
            "Requirement already satisfied: ujson!=4.0.2,!=4.1.0,!=4.2.0,!=4.3.0,!=5.0.0,!=5.1.0,>=4.0.1 in /usr/local/lib/python3.11/dist-packages (from fastapi==0.111.0) (5.10.0)\n",
            "Requirement already satisfied: orjson>=3.2.1 in /usr/local/lib/python3.11/dist-packages (from fastapi==0.111.0) (3.10.18)\n",
            "Requirement already satisfied: email_validator>=2.0.0 in /usr/local/lib/python3.11/dist-packages (from fastapi==0.111.0) (2.2.0)\n",
            "Requirement already satisfied: uvicorn>=0.12.0 in /usr/local/lib/python3.11/dist-packages (from uvicorn[standard]>=0.12.0->fastapi==0.111.0) (0.30.1)\n",
            "Requirement already satisfied: dnspython>=2.0.0 in /usr/local/lib/python3.11/dist-packages (from email_validator>=2.0.0->fastapi==0.111.0) (2.7.0)\n",
            "Requirement already satisfied: idna>=2.0.0 in /usr/local/lib/python3.11/dist-packages (from email_validator>=2.0.0->fastapi==0.111.0) (3.10)\n",
            "Requirement already satisfied: typer>=0.12.3 in /usr/local/lib/python3.11/dist-packages (from fastapi-cli>=0.0.2->fastapi==0.111.0) (0.16.0)\n",
            "Requirement already satisfied: rich-toolkit>=0.11.1 in /usr/local/lib/python3.11/dist-packages (from fastapi-cli>=0.0.2->fastapi==0.111.0) (0.14.8)\n",
            "Requirement already satisfied: anyio in /usr/local/lib/python3.11/dist-packages (from httpx>=0.23.0->fastapi==0.111.0) (4.9.0)\n",
            "Requirement already satisfied: certifi in /usr/local/lib/python3.11/dist-packages (from httpx>=0.23.0->fastapi==0.111.0) (2025.6.15)\n",
            "Requirement already satisfied: httpcore==1.* in /usr/local/lib/python3.11/dist-packages (from httpx>=0.23.0->fastapi==0.111.0) (1.0.9)\n",
            "Requirement already satisfied: h11>=0.16 in /usr/local/lib/python3.11/dist-packages (from httpcore==1.*->httpx>=0.23.0->fastapi==0.111.0) (0.16.0)\n",
            "Requirement already satisfied: MarkupSafe>=2.0 in /usr/local/lib/python3.11/dist-packages (from jinja2>=2.11.2->fastapi==0.111.0) (3.0.2)\n",
            "Requirement already satisfied: annotated-types>=0.6.0 in /usr/local/lib/python3.11/dist-packages (from pydantic!=1.8,!=1.8.1,!=2.0.0,!=2.0.1,!=2.1.0,<3.0.0,>=1.7.4->fastapi==0.111.0) (0.7.0)\n",
            "Requirement already satisfied: pydantic-core==2.33.2 in /usr/local/lib/python3.11/dist-packages (from pydantic!=1.8,!=1.8.1,!=2.0.0,!=2.0.1,!=2.1.0,<3.0.0,>=1.7.4->fastapi==0.111.0) (2.33.2)\n",
            "Requirement already satisfied: typing-inspection>=0.4.0 in /usr/local/lib/python3.11/dist-packages (from pydantic!=1.8,!=1.8.1,!=2.0.0,!=2.0.1,!=2.1.0,<3.0.0,>=1.7.4->fastapi==0.111.0) (0.4.1)\n",
            "Requirement already satisfied: click>=7.0 in /usr/local/lib/python3.11/dist-packages (from uvicorn>=0.12.0->uvicorn[standard]>=0.12.0->fastapi==0.111.0) (8.2.1)\n",
            "Requirement already satisfied: httptools>=0.5.0 in /usr/local/lib/python3.11/dist-packages (from uvicorn[standard]>=0.12.0->fastapi==0.111.0) (0.6.4)\n",
            "Requirement already satisfied: python-dotenv>=0.13 in /usr/local/lib/python3.11/dist-packages (from uvicorn[standard]>=0.12.0->fastapi==0.111.0) (1.1.1)\n",
            "Requirement already satisfied: pyyaml>=5.1 in /usr/local/lib/python3.11/dist-packages (from uvicorn[standard]>=0.12.0->fastapi==0.111.0) (6.0.2)\n",
            "Requirement already satisfied: uvloop!=0.15.0,!=0.15.1,>=0.14.0 in /usr/local/lib/python3.11/dist-packages (from uvicorn[standard]>=0.12.0->fastapi==0.111.0) (0.21.0)\n",
            "Requirement already satisfied: watchfiles>=0.13 in /usr/local/lib/python3.11/dist-packages (from uvicorn[standard]>=0.12.0->fastapi==0.111.0) (1.1.0)\n",
            "Requirement already satisfied: websockets>=10.4 in /usr/local/lib/python3.11/dist-packages (from uvicorn[standard]>=0.12.0->fastapi==0.111.0) (15.0.1)\n",
            "Requirement already satisfied: sniffio>=1.1 in /usr/local/lib/python3.11/dist-packages (from anyio->httpx>=0.23.0->fastapi==0.111.0) (1.3.1)\n",
            "Requirement already satisfied: rich>=13.7.1 in /usr/local/lib/python3.11/dist-packages (from rich-toolkit>=0.11.1->fastapi-cli>=0.0.2->fastapi==0.111.0) (13.9.4)\n",
            "Requirement already satisfied: shellingham>=1.3.0 in /usr/local/lib/python3.11/dist-packages (from typer>=0.12.3->fastapi-cli>=0.0.2->fastapi==0.111.0) (1.5.4)\n",
            "Requirement already satisfied: markdown-it-py>=2.2.0 in /usr/local/lib/python3.11/dist-packages (from rich>=13.7.1->rich-toolkit>=0.11.1->fastapi-cli>=0.0.2->fastapi==0.111.0) (3.0.0)\n",
            "Requirement already satisfied: pygments<3.0.0,>=2.13.0 in /usr/local/lib/python3.11/dist-packages (from rich>=13.7.1->rich-toolkit>=0.11.1->fastapi-cli>=0.0.2->fastapi==0.111.0) (2.19.2)\n",
            "Requirement already satisfied: mdurl~=0.1 in /usr/local/lib/python3.11/dist-packages (from markdown-it-py>=2.2.0->rich>=13.7.1->rich-toolkit>=0.11.1->fastapi-cli>=0.0.2->fastapi==0.111.0) (0.1.2)\n",
            "Requirement already satisfied: uvicorn==0.30.1 in /usr/local/lib/python3.11/dist-packages (0.30.1)\n",
            "Requirement already satisfied: click>=7.0 in /usr/local/lib/python3.11/dist-packages (from uvicorn==0.30.1) (8.2.1)\n",
            "Requirement already satisfied: h11>=0.8 in /usr/local/lib/python3.11/dist-packages (from uvicorn==0.30.1) (0.16.0)\n",
            "Requirement already satisfied: python-multipart==0.0.9 in /usr/local/lib/python3.11/dist-packages (0.0.9)\n",
            "Requirement already satisfied: pandas==2.2.2 in /usr/local/lib/python3.11/dist-packages (2.2.2)\n",
            "Requirement already satisfied: numpy>=1.23.2 in /usr/local/lib/python3.11/dist-packages (from pandas==2.2.2) (1.26.4)\n",
            "Requirement already satisfied: python-dateutil>=2.8.2 in /usr/local/lib/python3.11/dist-packages (from pandas==2.2.2) (2.9.0.post0)\n",
            "Requirement already satisfied: pytz>=2020.1 in /usr/local/lib/python3.11/dist-packages (from pandas==2.2.2) (2025.2)\n",
            "Requirement already satisfied: tzdata>=2022.7 in /usr/local/lib/python3.11/dist-packages (from pandas==2.2.2) (2025.2)\n",
            "Requirement already satisfied: six>=1.5 in /usr/local/lib/python3.11/dist-packages (from python-dateutil>=2.8.2->pandas==2.2.2) (1.17.0)\n",
            "Requirement already satisfied: numpy==1.26.4 in /usr/local/lib/python3.11/dist-packages (1.26.4)\n",
            "Requirement already satisfied: scikit-learn==1.6.1 in /usr/local/lib/python3.11/dist-packages (1.6.1)\n",
            "Requirement already satisfied: numpy>=1.19.5 in /usr/local/lib/python3.11/dist-packages (from scikit-learn==1.6.1) (1.26.4)\n",
            "Requirement already satisfied: scipy>=1.6.0 in /usr/local/lib/python3.11/dist-packages (from scikit-learn==1.6.1) (1.15.3)\n",
            "Requirement already satisfied: joblib>=1.2.0 in /usr/local/lib/python3.11/dist-packages (from scikit-learn==1.6.1) (1.4.0)\n",
            "Requirement already satisfied: threadpoolctl>=3.1.0 in /usr/local/lib/python3.11/dist-packages (from scikit-learn==1.6.1) (3.6.0)\n",
            "Requirement already satisfied: joblib==1.4.0 in /usr/local/lib/python3.11/dist-packages (1.4.0)\n"
          ]
        }
      ]
    },
    {
      "cell_type": "markdown",
      "source": [
        "## 3. Сбор данных и первоначальное исследование (EDA)\n",
        "\n",
        "### В работе мы будем использовать набор реальных данных 'Telco Customer Churn' по оттоку клиентов   прогнозирования оттока и имитировать данные для Uplift-моделирования.\n",
        "\n",
        "### **Примечание:** В реальном проекте данные были бы получены нами из CRM-систем, систем биллинга, систем управления услугами."
      ],
      "metadata": {
        "id": "Be-HF-c2q-FW"
      }
    },
    {
      "cell_type": "code",
      "source": [
        "# Загружаем реальный набор данных 'Telco Customer Churn'\n",
        "df_churn_pd = pd.read_csv('https://raw.githubusercontent.com/aaasssppp/Customer-Churn-Prediction/main/Telco-Customer-Churn.csv')\n",
        "\n",
        "display(df_churn_pd.head().T)\n",
        "print(df_churn_pd.info())\n",
        "df_churn_pd.nunique()\n"
      ],
      "metadata": {
        "colab": {
          "base_uri": "https://localhost:8080/",
          "height": 1000
        },
        "id": "We3cUM-nq1YB",
        "outputId": "149a00d9-e619-4dba-c150-b48178d22d62"
      },
      "execution_count": null,
      "outputs": [
        {
          "output_type": "display_data",
          "data": {
            "text/plain": [
              "                                 0             1               2  \\\n",
              "customerID              7590-VHVEG    5575-GNVDE      3668-QPYBK   \n",
              "gender                      Female          Male            Male   \n",
              "SeniorCitizen                    0             0               0   \n",
              "Partner                        Yes            No              No   \n",
              "Dependents                      No            No              No   \n",
              "tenure                           1            34               2   \n",
              "PhoneService                    No           Yes             Yes   \n",
              "MultipleLines     No phone service            No              No   \n",
              "InternetService                DSL           DSL             DSL   \n",
              "OnlineSecurity                  No           Yes             Yes   \n",
              "OnlineBackup                   Yes            No             Yes   \n",
              "DeviceProtection                No           Yes              No   \n",
              "TechSupport                     No            No              No   \n",
              "StreamingTV                     No            No              No   \n",
              "StreamingMovies                 No            No              No   \n",
              "Contract            Month-to-month      One year  Month-to-month   \n",
              "PaperlessBilling               Yes            No             Yes   \n",
              "PaymentMethod     Electronic check  Mailed check    Mailed check   \n",
              "MonthlyCharges               29.85         56.95           53.85   \n",
              "TotalCharges                 29.85        1889.5          108.15   \n",
              "Churn                           No            No             Yes   \n",
              "\n",
              "                                          3                 4  \n",
              "customerID                       7795-CFOCW        9237-HQITU  \n",
              "gender                                 Male            Female  \n",
              "SeniorCitizen                             0                 0  \n",
              "Partner                                  No                No  \n",
              "Dependents                               No                No  \n",
              "tenure                                   45                 2  \n",
              "PhoneService                             No               Yes  \n",
              "MultipleLines              No phone service                No  \n",
              "InternetService                         DSL       Fiber optic  \n",
              "OnlineSecurity                          Yes                No  \n",
              "OnlineBackup                             No                No  \n",
              "DeviceProtection                        Yes                No  \n",
              "TechSupport                             Yes                No  \n",
              "StreamingTV                              No                No  \n",
              "StreamingMovies                          No                No  \n",
              "Contract                           One year    Month-to-month  \n",
              "PaperlessBilling                         No               Yes  \n",
              "PaymentMethod     Bank transfer (automatic)  Electronic check  \n",
              "MonthlyCharges                         42.3              70.7  \n",
              "TotalCharges                        1840.75            151.65  \n",
              "Churn                                    No               Yes  "
            ],
            "text/html": [
              "\n",
              "  <div id=\"df-16c8ea41-f2ec-4a0a-a2db-463242d22b4d\" class=\"colab-df-container\">\n",
              "    <div>\n",
              "<style scoped>\n",
              "    .dataframe tbody tr th:only-of-type {\n",
              "        vertical-align: middle;\n",
              "    }\n",
              "\n",
              "    .dataframe tbody tr th {\n",
              "        vertical-align: top;\n",
              "    }\n",
              "\n",
              "    .dataframe thead th {\n",
              "        text-align: right;\n",
              "    }\n",
              "</style>\n",
              "<table border=\"1\" class=\"dataframe\">\n",
              "  <thead>\n",
              "    <tr style=\"text-align: right;\">\n",
              "      <th></th>\n",
              "      <th>0</th>\n",
              "      <th>1</th>\n",
              "      <th>2</th>\n",
              "      <th>3</th>\n",
              "      <th>4</th>\n",
              "    </tr>\n",
              "  </thead>\n",
              "  <tbody>\n",
              "    <tr>\n",
              "      <th>customerID</th>\n",
              "      <td>7590-VHVEG</td>\n",
              "      <td>5575-GNVDE</td>\n",
              "      <td>3668-QPYBK</td>\n",
              "      <td>7795-CFOCW</td>\n",
              "      <td>9237-HQITU</td>\n",
              "    </tr>\n",
              "    <tr>\n",
              "      <th>gender</th>\n",
              "      <td>Female</td>\n",
              "      <td>Male</td>\n",
              "      <td>Male</td>\n",
              "      <td>Male</td>\n",
              "      <td>Female</td>\n",
              "    </tr>\n",
              "    <tr>\n",
              "      <th>SeniorCitizen</th>\n",
              "      <td>0</td>\n",
              "      <td>0</td>\n",
              "      <td>0</td>\n",
              "      <td>0</td>\n",
              "      <td>0</td>\n",
              "    </tr>\n",
              "    <tr>\n",
              "      <th>Partner</th>\n",
              "      <td>Yes</td>\n",
              "      <td>No</td>\n",
              "      <td>No</td>\n",
              "      <td>No</td>\n",
              "      <td>No</td>\n",
              "    </tr>\n",
              "    <tr>\n",
              "      <th>Dependents</th>\n",
              "      <td>No</td>\n",
              "      <td>No</td>\n",
              "      <td>No</td>\n",
              "      <td>No</td>\n",
              "      <td>No</td>\n",
              "    </tr>\n",
              "    <tr>\n",
              "      <th>tenure</th>\n",
              "      <td>1</td>\n",
              "      <td>34</td>\n",
              "      <td>2</td>\n",
              "      <td>45</td>\n",
              "      <td>2</td>\n",
              "    </tr>\n",
              "    <tr>\n",
              "      <th>PhoneService</th>\n",
              "      <td>No</td>\n",
              "      <td>Yes</td>\n",
              "      <td>Yes</td>\n",
              "      <td>No</td>\n",
              "      <td>Yes</td>\n",
              "    </tr>\n",
              "    <tr>\n",
              "      <th>MultipleLines</th>\n",
              "      <td>No phone service</td>\n",
              "      <td>No</td>\n",
              "      <td>No</td>\n",
              "      <td>No phone service</td>\n",
              "      <td>No</td>\n",
              "    </tr>\n",
              "    <tr>\n",
              "      <th>InternetService</th>\n",
              "      <td>DSL</td>\n",
              "      <td>DSL</td>\n",
              "      <td>DSL</td>\n",
              "      <td>DSL</td>\n",
              "      <td>Fiber optic</td>\n",
              "    </tr>\n",
              "    <tr>\n",
              "      <th>OnlineSecurity</th>\n",
              "      <td>No</td>\n",
              "      <td>Yes</td>\n",
              "      <td>Yes</td>\n",
              "      <td>Yes</td>\n",
              "      <td>No</td>\n",
              "    </tr>\n",
              "    <tr>\n",
              "      <th>OnlineBackup</th>\n",
              "      <td>Yes</td>\n",
              "      <td>No</td>\n",
              "      <td>Yes</td>\n",
              "      <td>No</td>\n",
              "      <td>No</td>\n",
              "    </tr>\n",
              "    <tr>\n",
              "      <th>DeviceProtection</th>\n",
              "      <td>No</td>\n",
              "      <td>Yes</td>\n",
              "      <td>No</td>\n",
              "      <td>Yes</td>\n",
              "      <td>No</td>\n",
              "    </tr>\n",
              "    <tr>\n",
              "      <th>TechSupport</th>\n",
              "      <td>No</td>\n",
              "      <td>No</td>\n",
              "      <td>No</td>\n",
              "      <td>Yes</td>\n",
              "      <td>No</td>\n",
              "    </tr>\n",
              "    <tr>\n",
              "      <th>StreamingTV</th>\n",
              "      <td>No</td>\n",
              "      <td>No</td>\n",
              "      <td>No</td>\n",
              "      <td>No</td>\n",
              "      <td>No</td>\n",
              "    </tr>\n",
              "    <tr>\n",
              "      <th>StreamingMovies</th>\n",
              "      <td>No</td>\n",
              "      <td>No</td>\n",
              "      <td>No</td>\n",
              "      <td>No</td>\n",
              "      <td>No</td>\n",
              "    </tr>\n",
              "    <tr>\n",
              "      <th>Contract</th>\n",
              "      <td>Month-to-month</td>\n",
              "      <td>One year</td>\n",
              "      <td>Month-to-month</td>\n",
              "      <td>One year</td>\n",
              "      <td>Month-to-month</td>\n",
              "    </tr>\n",
              "    <tr>\n",
              "      <th>PaperlessBilling</th>\n",
              "      <td>Yes</td>\n",
              "      <td>No</td>\n",
              "      <td>Yes</td>\n",
              "      <td>No</td>\n",
              "      <td>Yes</td>\n",
              "    </tr>\n",
              "    <tr>\n",
              "      <th>PaymentMethod</th>\n",
              "      <td>Electronic check</td>\n",
              "      <td>Mailed check</td>\n",
              "      <td>Mailed check</td>\n",
              "      <td>Bank transfer (automatic)</td>\n",
              "      <td>Electronic check</td>\n",
              "    </tr>\n",
              "    <tr>\n",
              "      <th>MonthlyCharges</th>\n",
              "      <td>29.85</td>\n",
              "      <td>56.95</td>\n",
              "      <td>53.85</td>\n",
              "      <td>42.3</td>\n",
              "      <td>70.7</td>\n",
              "    </tr>\n",
              "    <tr>\n",
              "      <th>TotalCharges</th>\n",
              "      <td>29.85</td>\n",
              "      <td>1889.5</td>\n",
              "      <td>108.15</td>\n",
              "      <td>1840.75</td>\n",
              "      <td>151.65</td>\n",
              "    </tr>\n",
              "    <tr>\n",
              "      <th>Churn</th>\n",
              "      <td>No</td>\n",
              "      <td>No</td>\n",
              "      <td>Yes</td>\n",
              "      <td>No</td>\n",
              "      <td>Yes</td>\n",
              "    </tr>\n",
              "  </tbody>\n",
              "</table>\n",
              "</div>\n",
              "    <div class=\"colab-df-buttons\">\n",
              "\n",
              "  <div class=\"colab-df-container\">\n",
              "    <button class=\"colab-df-convert\" onclick=\"convertToInteractive('df-16c8ea41-f2ec-4a0a-a2db-463242d22b4d')\"\n",
              "            title=\"Convert this dataframe to an interactive table.\"\n",
              "            style=\"display:none;\">\n",
              "\n",
              "  <svg xmlns=\"http://www.w3.org/2000/svg\" height=\"24px\" viewBox=\"0 -960 960 960\">\n",
              "    <path d=\"M120-120v-720h720v720H120Zm60-500h600v-160H180v160Zm220 220h160v-160H400v160Zm0 220h160v-160H400v160ZM180-400h160v-160H180v160Zm440 0h160v-160H620v160ZM180-180h160v-160H180v160Zm440 0h160v-160H620v160Z\"/>\n",
              "  </svg>\n",
              "    </button>\n",
              "\n",
              "  <style>\n",
              "    .colab-df-container {\n",
              "      display:flex;\n",
              "      gap: 12px;\n",
              "    }\n",
              "\n",
              "    .colab-df-convert {\n",
              "      background-color: #E8F0FE;\n",
              "      border: none;\n",
              "      border-radius: 50%;\n",
              "      cursor: pointer;\n",
              "      display: none;\n",
              "      fill: #1967D2;\n",
              "      height: 32px;\n",
              "      padding: 0 0 0 0;\n",
              "      width: 32px;\n",
              "    }\n",
              "\n",
              "    .colab-df-convert:hover {\n",
              "      background-color: #E2EBFA;\n",
              "      box-shadow: 0px 1px 2px rgba(60, 64, 67, 0.3), 0px 1px 3px 1px rgba(60, 64, 67, 0.15);\n",
              "      fill: #174EA6;\n",
              "    }\n",
              "\n",
              "    .colab-df-buttons div {\n",
              "      margin-bottom: 4px;\n",
              "    }\n",
              "\n",
              "    [theme=dark] .colab-df-convert {\n",
              "      background-color: #3B4455;\n",
              "      fill: #D2E3FC;\n",
              "    }\n",
              "\n",
              "    [theme=dark] .colab-df-convert:hover {\n",
              "      background-color: #434B5C;\n",
              "      box-shadow: 0px 1px 3px 1px rgba(0, 0, 0, 0.15);\n",
              "      filter: drop-shadow(0px 1px 2px rgba(0, 0, 0, 0.3));\n",
              "      fill: #FFFFFF;\n",
              "    }\n",
              "  </style>\n",
              "\n",
              "    <script>\n",
              "      const buttonEl =\n",
              "        document.querySelector('#df-16c8ea41-f2ec-4a0a-a2db-463242d22b4d button.colab-df-convert');\n",
              "      buttonEl.style.display =\n",
              "        google.colab.kernel.accessAllowed ? 'block' : 'none';\n",
              "\n",
              "      async function convertToInteractive(key) {\n",
              "        const element = document.querySelector('#df-16c8ea41-f2ec-4a0a-a2db-463242d22b4d');\n",
              "        const dataTable =\n",
              "          await google.colab.kernel.invokeFunction('convertToInteractive',\n",
              "                                                    [key], {});\n",
              "        if (!dataTable) return;\n",
              "\n",
              "        const docLinkHtml = 'Like what you see? Visit the ' +\n",
              "          '<a target=\"_blank\" href=https://colab.research.google.com/notebooks/data_table.ipynb>data table notebook</a>'\n",
              "          + ' to learn more about interactive tables.';\n",
              "        element.innerHTML = '';\n",
              "        dataTable['output_type'] = 'display_data';\n",
              "        await google.colab.output.renderOutput(dataTable, element);\n",
              "        const docLink = document.createElement('div');\n",
              "        docLink.innerHTML = docLinkHtml;\n",
              "        element.appendChild(docLink);\n",
              "      }\n",
              "    </script>\n",
              "  </div>\n",
              "\n",
              "\n",
              "    <div id=\"df-5be2011c-530f-48b8-b041-6688b1fd1ba8\">\n",
              "      <button class=\"colab-df-quickchart\" onclick=\"quickchart('df-5be2011c-530f-48b8-b041-6688b1fd1ba8')\"\n",
              "                title=\"Suggest charts\"\n",
              "                style=\"display:none;\">\n",
              "\n",
              "<svg xmlns=\"http://www.w3.org/2000/svg\" height=\"24px\"viewBox=\"0 0 24 24\"\n",
              "     width=\"24px\">\n",
              "    <g>\n",
              "        <path d=\"M19 3H5c-1.1 0-2 .9-2 2v14c0 1.1.9 2 2 2h14c1.1 0 2-.9 2-2V5c0-1.1-.9-2-2-2zM9 17H7v-7h2v7zm4 0h-2V7h2v10zm4 0h-2v-4h2v4z\"/>\n",
              "    </g>\n",
              "</svg>\n",
              "      </button>\n",
              "\n",
              "<style>\n",
              "  .colab-df-quickchart {\n",
              "      --bg-color: #E8F0FE;\n",
              "      --fill-color: #1967D2;\n",
              "      --hover-bg-color: #E2EBFA;\n",
              "      --hover-fill-color: #174EA6;\n",
              "      --disabled-fill-color: #AAA;\n",
              "      --disabled-bg-color: #DDD;\n",
              "  }\n",
              "\n",
              "  [theme=dark] .colab-df-quickchart {\n",
              "      --bg-color: #3B4455;\n",
              "      --fill-color: #D2E3FC;\n",
              "      --hover-bg-color: #434B5C;\n",
              "      --hover-fill-color: #FFFFFF;\n",
              "      --disabled-bg-color: #3B4455;\n",
              "      --disabled-fill-color: #666;\n",
              "  }\n",
              "\n",
              "  .colab-df-quickchart {\n",
              "    background-color: var(--bg-color);\n",
              "    border: none;\n",
              "    border-radius: 50%;\n",
              "    cursor: pointer;\n",
              "    display: none;\n",
              "    fill: var(--fill-color);\n",
              "    height: 32px;\n",
              "    padding: 0;\n",
              "    width: 32px;\n",
              "  }\n",
              "\n",
              "  .colab-df-quickchart:hover {\n",
              "    background-color: var(--hover-bg-color);\n",
              "    box-shadow: 0 1px 2px rgba(60, 64, 67, 0.3), 0 1px 3px 1px rgba(60, 64, 67, 0.15);\n",
              "    fill: var(--button-hover-fill-color);\n",
              "  }\n",
              "\n",
              "  .colab-df-quickchart-complete:disabled,\n",
              "  .colab-df-quickchart-complete:disabled:hover {\n",
              "    background-color: var(--disabled-bg-color);\n",
              "    fill: var(--disabled-fill-color);\n",
              "    box-shadow: none;\n",
              "  }\n",
              "\n",
              "  .colab-df-spinner {\n",
              "    border: 2px solid var(--fill-color);\n",
              "    border-color: transparent;\n",
              "    border-bottom-color: var(--fill-color);\n",
              "    animation:\n",
              "      spin 1s steps(1) infinite;\n",
              "  }\n",
              "\n",
              "  @keyframes spin {\n",
              "    0% {\n",
              "      border-color: transparent;\n",
              "      border-bottom-color: var(--fill-color);\n",
              "      border-left-color: var(--fill-color);\n",
              "    }\n",
              "    20% {\n",
              "      border-color: transparent;\n",
              "      border-left-color: var(--fill-color);\n",
              "      border-top-color: var(--fill-color);\n",
              "    }\n",
              "    30% {\n",
              "      border-color: transparent;\n",
              "      border-left-color: var(--fill-color);\n",
              "      border-top-color: var(--fill-color);\n",
              "      border-right-color: var(--fill-color);\n",
              "    }\n",
              "    40% {\n",
              "      border-color: transparent;\n",
              "      border-right-color: var(--fill-color);\n",
              "      border-top-color: var(--fill-color);\n",
              "    }\n",
              "    60% {\n",
              "      border-color: transparent;\n",
              "      border-right-color: var(--fill-color);\n",
              "    }\n",
              "    80% {\n",
              "      border-color: transparent;\n",
              "      border-right-color: var(--fill-color);\n",
              "      border-bottom-color: var(--fill-color);\n",
              "    }\n",
              "    90% {\n",
              "      border-color: transparent;\n",
              "      border-bottom-color: var(--fill-color);\n",
              "    }\n",
              "  }\n",
              "</style>\n",
              "\n",
              "      <script>\n",
              "        async function quickchart(key) {\n",
              "          const quickchartButtonEl =\n",
              "            document.querySelector('#' + key + ' button');\n",
              "          quickchartButtonEl.disabled = true;  // To prevent multiple clicks.\n",
              "          quickchartButtonEl.classList.add('colab-df-spinner');\n",
              "          try {\n",
              "            const charts = await google.colab.kernel.invokeFunction(\n",
              "                'suggestCharts', [key], {});\n",
              "          } catch (error) {\n",
              "            console.error('Error during call to suggestCharts:', error);\n",
              "          }\n",
              "          quickchartButtonEl.classList.remove('colab-df-spinner');\n",
              "          quickchartButtonEl.classList.add('colab-df-quickchart-complete');\n",
              "        }\n",
              "        (() => {\n",
              "          let quickchartButtonEl =\n",
              "            document.querySelector('#df-5be2011c-530f-48b8-b041-6688b1fd1ba8 button');\n",
              "          quickchartButtonEl.style.display =\n",
              "            google.colab.kernel.accessAllowed ? 'block' : 'none';\n",
              "        })();\n",
              "      </script>\n",
              "    </div>\n",
              "\n",
              "    </div>\n",
              "  </div>\n"
            ],
            "application/vnd.google.colaboratory.intrinsic+json": {
              "type": "dataframe",
              "summary": "{\n  \"name\": \"df_churn_pd\",\n  \"rows\": 21,\n  \"fields\": [\n    {\n      \"column\": 0,\n      \"properties\": {\n        \"dtype\": \"string\",\n        \"num_unique_values\": 12,\n        \"samples\": [\n          29.85,\n          \"Electronic check\",\n          \"7590-VHVEG\"\n        ],\n        \"semantic_type\": \"\",\n        \"description\": \"\"\n      }\n    },\n    {\n      \"column\": 1,\n      \"properties\": {\n        \"dtype\": \"string\",\n        \"num_unique_values\": 11,\n        \"samples\": [\n          \"Yes\",\n          \"5575-GNVDE\",\n          56.95\n        ],\n        \"semantic_type\": \"\",\n        \"description\": \"\"\n      }\n    },\n    {\n      \"column\": 2,\n      \"properties\": {\n        \"dtype\": \"string\",\n        \"num_unique_values\": 11,\n        \"samples\": [\n          \"Yes\",\n          \"3668-QPYBK\",\n          53.85\n        ],\n        \"semantic_type\": \"\",\n        \"description\": \"\"\n      }\n    },\n    {\n      \"column\": 3,\n      \"properties\": {\n        \"dtype\": \"string\",\n        \"num_unique_values\": 12,\n        \"samples\": [\n          42.3,\n          \"Bank transfer (automatic)\",\n          \"7795-CFOCW\"\n        ],\n        \"semantic_type\": \"\",\n        \"description\": \"\"\n      }\n    },\n    {\n      \"column\": 4,\n      \"properties\": {\n        \"dtype\": \"string\",\n        \"num_unique_values\": 11,\n        \"samples\": [\n          \"Yes\",\n          \"9237-HQITU\",\n          70.7\n        ],\n        \"semantic_type\": \"\",\n        \"description\": \"\"\n      }\n    }\n  ]\n}"
            }
          },
          "metadata": {}
        },
        {
          "output_type": "stream",
          "name": "stdout",
          "text": [
            "<class 'pandas.core.frame.DataFrame'>\n",
            "RangeIndex: 7043 entries, 0 to 7042\n",
            "Data columns (total 21 columns):\n",
            " #   Column            Non-Null Count  Dtype  \n",
            "---  ------            --------------  -----  \n",
            " 0   customerID        7043 non-null   object \n",
            " 1   gender            7043 non-null   object \n",
            " 2   SeniorCitizen     7043 non-null   int64  \n",
            " 3   Partner           7043 non-null   object \n",
            " 4   Dependents        7043 non-null   object \n",
            " 5   tenure            7043 non-null   int64  \n",
            " 6   PhoneService      7043 non-null   object \n",
            " 7   MultipleLines     7043 non-null   object \n",
            " 8   InternetService   7043 non-null   object \n",
            " 9   OnlineSecurity    7043 non-null   object \n",
            " 10  OnlineBackup      7043 non-null   object \n",
            " 11  DeviceProtection  7043 non-null   object \n",
            " 12  TechSupport       7043 non-null   object \n",
            " 13  StreamingTV       7043 non-null   object \n",
            " 14  StreamingMovies   7043 non-null   object \n",
            " 15  Contract          7043 non-null   object \n",
            " 16  PaperlessBilling  7043 non-null   object \n",
            " 17  PaymentMethod     7043 non-null   object \n",
            " 18  MonthlyCharges    7043 non-null   float64\n",
            " 19  TotalCharges      7043 non-null   object \n",
            " 20  Churn             7043 non-null   object \n",
            "dtypes: float64(1), int64(2), object(18)\n",
            "memory usage: 1.1+ MB\n",
            "None\n"
          ]
        },
        {
          "output_type": "execute_result",
          "data": {
            "text/plain": [
              "customerID          7043\n",
              "gender                 2\n",
              "SeniorCitizen          2\n",
              "Partner                2\n",
              "Dependents             2\n",
              "tenure                73\n",
              "PhoneService           2\n",
              "MultipleLines          3\n",
              "InternetService        3\n",
              "OnlineSecurity         3\n",
              "OnlineBackup           3\n",
              "DeviceProtection       3\n",
              "TechSupport            3\n",
              "StreamingTV            3\n",
              "StreamingMovies        3\n",
              "Contract               3\n",
              "PaperlessBilling       2\n",
              "PaymentMethod          4\n",
              "MonthlyCharges      1585\n",
              "TotalCharges        6531\n",
              "Churn                  2\n",
              "dtype: int64"
            ],
            "text/html": [
              "<div>\n",
              "<style scoped>\n",
              "    .dataframe tbody tr th:only-of-type {\n",
              "        vertical-align: middle;\n",
              "    }\n",
              "\n",
              "    .dataframe tbody tr th {\n",
              "        vertical-align: top;\n",
              "    }\n",
              "\n",
              "    .dataframe thead th {\n",
              "        text-align: right;\n",
              "    }\n",
              "</style>\n",
              "<table border=\"1\" class=\"dataframe\">\n",
              "  <thead>\n",
              "    <tr style=\"text-align: right;\">\n",
              "      <th></th>\n",
              "      <th>0</th>\n",
              "    </tr>\n",
              "  </thead>\n",
              "  <tbody>\n",
              "    <tr>\n",
              "      <th>customerID</th>\n",
              "      <td>7043</td>\n",
              "    </tr>\n",
              "    <tr>\n",
              "      <th>gender</th>\n",
              "      <td>2</td>\n",
              "    </tr>\n",
              "    <tr>\n",
              "      <th>SeniorCitizen</th>\n",
              "      <td>2</td>\n",
              "    </tr>\n",
              "    <tr>\n",
              "      <th>Partner</th>\n",
              "      <td>2</td>\n",
              "    </tr>\n",
              "    <tr>\n",
              "      <th>Dependents</th>\n",
              "      <td>2</td>\n",
              "    </tr>\n",
              "    <tr>\n",
              "      <th>tenure</th>\n",
              "      <td>73</td>\n",
              "    </tr>\n",
              "    <tr>\n",
              "      <th>PhoneService</th>\n",
              "      <td>2</td>\n",
              "    </tr>\n",
              "    <tr>\n",
              "      <th>MultipleLines</th>\n",
              "      <td>3</td>\n",
              "    </tr>\n",
              "    <tr>\n",
              "      <th>InternetService</th>\n",
              "      <td>3</td>\n",
              "    </tr>\n",
              "    <tr>\n",
              "      <th>OnlineSecurity</th>\n",
              "      <td>3</td>\n",
              "    </tr>\n",
              "    <tr>\n",
              "      <th>OnlineBackup</th>\n",
              "      <td>3</td>\n",
              "    </tr>\n",
              "    <tr>\n",
              "      <th>DeviceProtection</th>\n",
              "      <td>3</td>\n",
              "    </tr>\n",
              "    <tr>\n",
              "      <th>TechSupport</th>\n",
              "      <td>3</td>\n",
              "    </tr>\n",
              "    <tr>\n",
              "      <th>StreamingTV</th>\n",
              "      <td>3</td>\n",
              "    </tr>\n",
              "    <tr>\n",
              "      <th>StreamingMovies</th>\n",
              "      <td>3</td>\n",
              "    </tr>\n",
              "    <tr>\n",
              "      <th>Contract</th>\n",
              "      <td>3</td>\n",
              "    </tr>\n",
              "    <tr>\n",
              "      <th>PaperlessBilling</th>\n",
              "      <td>2</td>\n",
              "    </tr>\n",
              "    <tr>\n",
              "      <th>PaymentMethod</th>\n",
              "      <td>4</td>\n",
              "    </tr>\n",
              "    <tr>\n",
              "      <th>MonthlyCharges</th>\n",
              "      <td>1585</td>\n",
              "    </tr>\n",
              "    <tr>\n",
              "      <th>TotalCharges</th>\n",
              "      <td>6531</td>\n",
              "    </tr>\n",
              "    <tr>\n",
              "      <th>Churn</th>\n",
              "      <td>2</td>\n",
              "    </tr>\n",
              "  </tbody>\n",
              "</table>\n",
              "</div><br><label><b>dtype:</b> int64</label>"
            ]
          },
          "metadata": {},
          "execution_count": 3
        }
      ]
    },
    {
      "cell_type": "code",
      "source": [
        "df_churn_pd['TotalCharges'] = pd.to_numeric(df_churn_pd['TotalCharges'], errors='coerce')\n",
        "# Drop rows where 'TotalCharges' became NaN (these are typically new customers with no charges yet)\n",
        "df_churn_pd.dropna(inplace=True)\n"
      ],
      "metadata": {
        "id": "wi2HfqqI2hb2"
      },
      "execution_count": null,
      "outputs": []
    },
    {
      "cell_type": "code",
      "source": [
        "df_churn_pd['Churn'] = df_churn_pd['Churn']==\"Yes\"\n",
        "print(df_churn_pd['Churn'].value_counts())\n",
        "churn_rate_actual = df_churn_pd['Churn'].value_counts()[1] / df_churn_pd.shape[0] * 100\n",
        "print(f\"Доля оттока: {churn_rate_actual:.2f}%\")\n",
        "print(\" - Датасет имеет несбалансированное распределение классов оттока (меньшинство).\")\n",
        "print(\" - 'TotalCharges' требовал очистки. Некоторые категориальные признаки могут быть высококардинальными.\")\n"
      ],
      "metadata": {
        "colab": {
          "base_uri": "https://localhost:8080/"
        },
        "id": "C8Vtr_HTNbT7",
        "outputId": "7c0edc21-d32c-4c6e-c714-4cb656e80b50"
      },
      "execution_count": null,
      "outputs": [
        {
          "output_type": "stream",
          "name": "stdout",
          "text": [
            "Churn\n",
            "False    5163\n",
            "True     1869\n",
            "Name: count, dtype: int64\n",
            "Доля оттока: 26.58%\n",
            " - Датасет имеет несбалансированное распределение классов оттока (меньшинство).\n",
            " - 'TotalCharges' требовал очистки. Некоторые категориальные признаки могут быть высококардинальными.\n"
          ]
        }
      ]
    },
    {
      "cell_type": "markdown",
      "source": [
        "### - Датасет имеет несбалансированное распределение классов оттока (меньшинство)\n",
        "### ПризнакTotalCharges требовал очистки. Некоторые категориальные признаки могут быть высококардинальными."
      ],
      "metadata": {
        "id": "8OdwjYIZ0NRS"
      }
    },
    {
      "cell_type": "code",
      "source": [
        "# EDA: Распределение tenure по классам оттока\n",
        "plt.figure(figsize=(10, 6))\n",
        "sns.histplot(data=df_churn_pd, x='tenure', hue='Churn', kde=True, multiple='stack')\n",
        "plt.title('Распределение срока владения по классам оттока')\n",
        "plt.xlabel('Срок владения (месяцы)')\n",
        "plt.ylabel('Количество клиентов')\n",
        "plt.show()"
      ],
      "metadata": {
        "colab": {
          "base_uri": "https://localhost:8080/",
          "height": 584
        },
        "id": "ucEJbsI1OSTg",
        "outputId": "4abbd731-5671-4bfd-c37e-a1da790b0a36"
      },
      "execution_count": null,
      "outputs": [
        {
          "output_type": "display_data",
          "data": {
            "text/plain": [
              "<Figure size 1000x600 with 1 Axes>"
            ],
            "image/png": "[encoded data removed]"
          },
          "metadata": {}
        }
      ]
    },
    {
      "cell_type": "markdown",
      "source": [
        "### Проведём имитацию данных для Uplift-моделирования"
      ],
      "metadata": {
        "id": "8O3PQQeiz0ha"
      }
    },
    {
      "cell_type": "code",
      "source": [
        "print(\"\\n--- Имитация данных для Uplift-моделирования ---\")\n",
        "np.random.seed(42)\n",
        "num_uplift_samples = 10000\n",
        "\n",
        "# Features\n",
        "age = np.random.randint(18, 70, num_uplift_samples)\n",
        "income = np.random.normal(50000, 15000, num_uplift_samples)\n",
        "loyalty_score = np.random.uniform(0, 10, num_uplift_samples)\n",
        "prior_purchases = np.random.randint(0, 20, num_uplift_samples)\n",
        "\n",
        "# Treatment groups: 0=Control, 1=Treatment_A, 2=Treatment_B\n",
        "treatment_group = np.random.choice([0, 1, 2], size=num_uplift_samples, p=[0.4, 0.3, 0.3])\n",
        "\n",
        "# Outcome (e.g., churn or conversion)\n",
        "# Simulate uplift effect: Treatment_A increases outcome for some segments, Treatment_B for others\n",
        "outcome = np.zeros(num_uplift_samples)\n",
        "\n",
        "# Control group baseline\n",
        "outcome[(treatment_group == 0) & (loyalty_score > 7)] = np.random.binomial(1, 0.2, sum((treatment_group == 0) & (loyalty_score > 7)))\n",
        "outcome[(treatment_group == 0) & (loyalty_score <= 7)] = np.random.binomial(1, 0.1, sum((treatment_group == 0) & (loyalty_score <= 7)))\n",
        "\n",
        "# Treatment_A (e.g., strong effect for high loyalty)\n",
        "outcome[(treatment_group == 1) & (loyalty_score > 7)] = np.random.binomial(1, 0.4, sum((treatment_group == 1) & (loyalty_score > 7)))\n",
        "outcome[(treatment_group == 1) & (loyalty_score <= 7)] = np.random.binomial(1, 0.12, sum((treatment_group == 1) & (loyalty_score <= 7)))\n",
        "\n",
        "# Treatment_B (e.g., strong effect for low income)\n",
        "outcome[(treatment_group == 2) & (income < 40000)] = np.random.binomial(1, 0.35, sum((treatment_group == 2) & (income < 40000)))\n",
        "outcome[(treatment_group == 2) & (income >= 40000)] = np.random.binomial(1, 0.11, sum((treatment_group == 2) & (income >= 40000)))\n",
        "\n",
        "\n",
        "df_uplift_pd = pd.DataFrame({\n",
        "    'age': age,\n",
        "    'income': income,\n",
        "    'loyalty_score': loyalty_score,\n",
        "    'prior_purchases': prior_purchases,\n",
        "    'treatment_group': treatment_group,\n",
        "    'outcome': outcome\n",
        "})\n",
        "\n",
        "print(\"\\nПервые 5 строк имитированного датасета Uplift:\")\n",
        "print(df_uplift_pd.head())\n",
        "\n",
        "print(\"\\nРаспределение групп воздействия:\")\n",
        "print(df_uplift_pd['treatment_group'].value_counts(normalize=True).sort_index())\n",
        "\n",
        "print(\"\\nРаспределение исхода:\")\n",
        "print(df_uplift_pd['outcome'].value_counts(normalize=True))\n",
        "\n",
        "print(\"Вывод по EDA Uplift: Имитированные данные готовы для демонстрации uplift-моделирования.\")\n",
        "\n"
      ],
      "metadata": {
        "colab": {
          "base_uri": "https://localhost:8080/"
        },
        "id": "HUhXbwn1zKDO",
        "outputId": "f8ccd80a-9082-4392-8392-8e8e5d2a1bd7"
      },
      "execution_count": null,
      "outputs": [
        {
          "output_type": "stream",
          "name": "stdout",
          "text": [
            "\n",
            "--- Имитация данных для Uplift-моделирования ---\n",
            "\n",
            "Первые 5 строк имитированного датасета Uplift:\n",
            "   age        income  loyalty_score  prior_purchases  treatment_group  outcome\n",
            "0   56  37214.198509       6.469394               15                0      0.0\n",
            "1   69  57130.484160       8.696170                5                2      1.0\n",
            "2   46  59486.813250       7.758971               19                2      0.0\n",
            "3   32  42887.327373       6.300938               14                2      0.0\n",
            "4   60  38423.420639       9.822594               12                0      0.0\n",
            "\n",
            "Распределение групп воздействия:\n",
            "treatment_group\n",
            "0    0.3980\n",
            "1    0.3001\n",
            "2    0.3019\n",
            "Name: proportion, dtype: float64\n",
            "\n",
            "Распределение исхода:\n",
            "outcome\n",
            "0.0    0.8338\n",
            "1.0    0.1662\n",
            "Name: proportion, dtype: float64\n",
            "Вывод по EDA Uplift: Имитированные данные готовы для демонстрации uplift-моделирования.\n"
          ]
        }
      ]
    },
    {
      "cell_type": "markdown",
      "source": [
        "### Сгенерируем и предобработаем признаки. На этом этапе готовим данные для моделирования прогнозирования оттока, наша задача создать значимые признаки, отражающих поведение клиентов, демографические особенности и клиентский опыт использования услуг.\n",
        "\n",
        "### Список наших задач:\n",
        "\n",
        "#### - **Создание новых признаков:** Например, возраст клиента (если доступен), средние расходы на гигабайт (если доступны данные об использовании).\n",
        "#### - **Кодирование категориальных признаков:** `OneHotEncoder`.\n",
        "#### - **Масштабирование числовых признаков:** `StandardScaler`.\n",
        "#### - **Разделение на обучающую и тестовую выборки.**: 'train_test_split'"
      ],
      "metadata": {
        "id": "XW_p-aHq0gth"
      }
    },
    {
      "cell_type": "code",
      "source": [
        "# Начинаем предварительную обработку данных об оттоке\n",
        "df_churn_pd_processed = df_churn_pd.copy()\n",
        "\n",
        "X_churn = df_churn_pd_processed.drop(columns=['customerID', 'Churn'])\n",
        "y_churn = df_churn_pd_processed['Churn']\n",
        "\n",
        "# Группировка признаков по типу и создание пайплайнов предобработки для каждого типа:\n",
        "categorical_features_churn = X_churn.select_dtypes(include=['object']).columns\n",
        "numerical_features_churn = X_churn.select_dtypes(exclude=['object']).columns\n",
        "numerical_transformer_churn = StandardScaler()\n",
        "categorical_transformer_churn = OneHotEncoder(drop='first')\n",
        "\n",
        "# Трансформер столбцов\n",
        "preprocessor_churn = ColumnTransformer(\n",
        "    transformers=[\n",
        "        ('num', numerical_transformer_churn, numerical_features_churn),\n",
        "        ('cat', categorical_transformer_churn, categorical_features_churn)\n",
        "    ])\n",
        "\n",
        "# Разбиение на тренировочный и тестовый наборы данных и преобразование\n",
        "X_train_churn, X_test_churn, y_train_churn, y_test_churn = train_test_split(\n",
        "    X_churn, y_churn, test_size=0.25, random_state=42, stratify=y_churn)\n",
        "\n",
        "X_train_churn_processed = preprocessor_churn.fit_transform(X_train_churn)\n",
        "X_test_churn_processed = preprocessor_churn.transform(X_test_churn)\n",
        "\n",
        "# Для удобства превращаем в датафрейм\n",
        "feature_names = list(numerical_features_churn) + \\\n",
        "                list(preprocessor_churn.named_transformers_['cat'].get_feature_names_out(categorical_features_churn))\n",
        "display(feature_names)\n",
        "X_train_churn_processed = pd.DataFrame(X_train_churn_processed, columns=feature_names)\n",
        "X_test_churn_processed = pd.DataFrame(X_test_churn_processed, columns=feature_names)\n",
        "\n",
        "print(\"Предварительная обработка данных об оттоке завершена.\")\n",
        "print(f\"Размер X_train_churn_processed: {X_train_churn_processed.shape}\")\n",
        "print(f\"Размер X_test_churn_processed: {X_test_churn_processed.shape}\")\n",
        "print(\"Образец обработанных данных (первые 5 строк X_train_churn_processed):\")\n",
        "print(X_train_churn_processed.head(10))\n"
      ],
      "metadata": {
        "colab": {
          "base_uri": "https://localhost:8080/",
          "height": 1000
        },
        "id": "R0ZatCbJ0XCD",
        "outputId": "e3b8603b-1259-4f7c-ce26-02787f1d7f67"
      },
      "execution_count": null,
      "outputs": [
        {
          "output_type": "display_data",
          "data": {
            "text/plain": [
              "['SeniorCitizen',\n",
              " 'tenure',\n",
              " 'MonthlyCharges',\n",
              " 'TotalCharges',\n",
              " 'gender_Male',\n",
              " 'Partner_Yes',\n",
              " 'Dependents_Yes',\n",
              " 'PhoneService_Yes',\n",
              " 'MultipleLines_No phone service',\n",
              " 'MultipleLines_Yes',\n",
              " 'InternetService_Fiber optic',\n",
              " 'InternetService_No',\n",
              " 'OnlineSecurity_No internet service',\n",
              " 'OnlineSecurity_Yes',\n",
              " 'OnlineBackup_No internet service',\n",
              " 'OnlineBackup_Yes',\n",
              " 'DeviceProtection_No internet service',\n",
              " 'DeviceProtection_Yes',\n",
              " 'TechSupport_No internet service',\n",
              " 'TechSupport_Yes',\n",
              " 'StreamingTV_No internet service',\n",
              " 'StreamingTV_Yes',\n",
              " 'StreamingMovies_No internet service',\n",
              " 'StreamingMovies_Yes',\n",
              " 'Contract_One year',\n",
              " 'Contract_Two year',\n",
              " 'PaperlessBilling_Yes',\n",
              " 'PaymentMethod_Credit card (automatic)',\n",
              " 'PaymentMethod_Electronic check',\n",
              " 'PaymentMethod_Mailed check']"
            ]
          },
          "metadata": {}
        },
        {
          "output_type": "stream",
          "name": "stdout",
          "text": [
            "Предварительная обработка данных об оттоке завершена.\n",
            "Размер X_train_churn_processed: (5274, 30)\n",
            "Размер X_test_churn_processed: (1758, 30)\n",
            "Образец обработанных данных (первые 5 строк X_train_churn_processed):\n",
            "   SeniorCitizen    tenure  MonthlyCharges  TotalCharges  gender_Male  \\\n",
            "0      -0.440481 -0.550434        1.162877     -0.179659          1.0   \n",
            "1      -0.440481 -1.283779       -0.305269     -0.984606          1.0   \n",
            "2      -0.440481  0.671808        0.321096      0.624738          1.0   \n",
            "3      -0.440481  0.427360        0.713817      0.560688          0.0   \n",
            "4      -0.440481 -1.283779       -0.638336     -0.989019          1.0   \n",
            "5      -0.440481  0.753291       -1.493374     -0.571253          0.0   \n",
            "6      -0.440481 -0.387468        0.289612     -0.287647          0.0   \n",
            "7       2.270248 -0.550434       -1.014487     -0.755609          1.0   \n",
            "8       2.270248 -0.428210       -0.823926     -0.622524          1.0   \n",
            "9      -0.440481 -0.061537        0.495086      0.046724          0.0   \n",
            "\n",
            "   Partner_Yes  Dependents_Yes  PhoneService_Yes  \\\n",
            "0          1.0             1.0               1.0   \n",
            "1          0.0             0.0               1.0   \n",
            "2          0.0             0.0               1.0   \n",
            "3          1.0             0.0               1.0   \n",
            "4          0.0             0.0               1.0   \n",
            "5          0.0             0.0               1.0   \n",
            "6          1.0             0.0               1.0   \n",
            "7          1.0             0.0               0.0   \n",
            "8          1.0             1.0               0.0   \n",
            "9          0.0             0.0               1.0   \n",
            "\n",
            "   MultipleLines_No phone service  MultipleLines_Yes  ...  \\\n",
            "0                             0.0                0.0  ...   \n",
            "1                             0.0                0.0  ...   \n",
            "2                             0.0                1.0  ...   \n",
            "3                             0.0                1.0  ...   \n",
            "4                             0.0                0.0  ...   \n",
            "5                             0.0                0.0  ...   \n",
            "6                             0.0                1.0  ...   \n",
            "7                             1.0                0.0  ...   \n",
            "8                             1.0                0.0  ...   \n",
            "9                             0.0                1.0  ...   \n",
            "\n",
            "   StreamingTV_No internet service  StreamingTV_Yes  \\\n",
            "0                              0.0              1.0   \n",
            "1                              0.0              0.0   \n",
            "2                              0.0              0.0   \n",
            "3                              0.0              1.0   \n",
            "4                              0.0              0.0   \n",
            "5                              1.0              0.0   \n",
            "6                              0.0              1.0   \n",
            "7                              0.0              0.0   \n",
            "8                              0.0              0.0   \n",
            "9                              0.0              0.0   \n",
            "\n",
            "   StreamingMovies_No internet service  StreamingMovies_Yes  \\\n",
            "0                                  0.0                  1.0   \n",
            "1                                  0.0                  1.0   \n",
            "2                                  0.0                  0.0   \n",
            "3                                  0.0                  1.0   \n",
            "4                                  0.0                  0.0   \n",
            "5                                  1.0                  0.0   \n",
            "6                                  0.0                  1.0   \n",
            "7                                  0.0                  0.0   \n",
            "8                                  0.0                  1.0   \n",
            "9                                  0.0                  0.0   \n",
            "\n",
            "   Contract_One year  Contract_Two year  PaperlessBilling_Yes  \\\n",
            "0                1.0                0.0                   0.0   \n",
            "1                0.0                0.0                   1.0   \n",
            "2                0.0                0.0                   1.0   \n",
            "3                0.0                1.0                   0.0   \n",
            "4                0.0                0.0                   1.0   \n",
            "5                1.0                0.0                   1.0   \n",
            "6                0.0                0.0                   1.0   \n",
            "7                0.0                0.0                   1.0   \n",
            "8                0.0                0.0                   0.0   \n",
            "9                0.0                0.0                   1.0   \n",
            "\n",
            "   PaymentMethod_Credit card (automatic)  PaymentMethod_Electronic check  \\\n",
            "0                                    0.0                             0.0   \n",
            "1                                    0.0                             0.0   \n",
            "2                                    0.0                             0.0   \n",
            "3                                    1.0                             0.0   \n",
            "4                                    0.0                             1.0   \n",
            "5                                    0.0                             0.0   \n",
            "6                                    1.0                             0.0   \n",
            "7                                    1.0                             0.0   \n",
            "8                                    0.0                             0.0   \n",
            "9                                    1.0                             0.0   \n",
            "\n",
            "   PaymentMethod_Mailed check  \n",
            "0                         0.0  \n",
            "1                         1.0  \n",
            "2                         0.0  \n",
            "3                         0.0  \n",
            "4                         0.0  \n",
            "5                         0.0  \n",
            "6                         0.0  \n",
            "7                         0.0  \n",
            "8                         1.0  \n",
            "9                         0.0  \n",
            "\n",
            "[10 rows x 30 columns]\n"
          ]
        }
      ]
    },
    {
      "cell_type": "markdown",
      "source": [
        "### Сохраняем препроцессор и имена признаков для предсказаний (в формате API приложения)"
      ],
      "metadata": {
        "id": "IUi9iXZf87hR"
      }
    },
    {
      "cell_type": "code",
      "source": [
        "joblib.dump(preprocessor_churn, \"/tmp/preprocessor_churn.joblib\")\n",
        "joblib.dump(feature_names, \"/tmp/churn_feature_names.joblib\")"
      ],
      "metadata": {
        "id": "kJ1zgbdAs6fe",
        "outputId": "0ba6df2a-4d1f-4d32-c5b7-4b832c126efc",
        "colab": {
          "base_uri": "https://localhost:8080/"
        }
      },
      "execution_count": null,
      "outputs": [
        {
          "output_type": "execute_result",
          "data": {
            "text/plain": [
              "['/tmp/churn_feature_names.joblib']"
            ]
          },
          "metadata": {},
          "execution_count": 9
        }
      ]
    },
    {
      "cell_type": "markdown",
      "source": [
        "## 2. Выбор типа модели прогнозирования оттока, её построение\n",
        "\n",
        "### Учитывая небольшие размеры датасета и необходимость решения задачи бинарной классификации, нам удобно использовать классификатор XGBoost Classifier отличающийся высокой производительностью и гибкостью.\n",
        "\n",
        " ### Учитывая имеющийся дисбаланс классов целевой переменной, нам необходимо добавить в конфигурацию классификатора параметр scale_pos_weight, учитывающий более редкие наблюдения оттока и позволяющую увеличить вес этих образцов."
      ],
      "metadata": {
        "id": "0VmcbfBOASDt"
      }
    },
    {
      "cell_type": "code",
      "source": [
        "classes=y_train_churn.value_counts()\n",
        "(classes[0]/classes[1]).round(2)"
      ],
      "metadata": {
        "colab": {
          "base_uri": "https://localhost:8080/"
        },
        "id": "t1_3znrzLJ64",
        "outputId": "e9e53571-e4a3-4ef8-970c-e6213170c249"
      },
      "execution_count": null,
      "outputs": [
        {
          "output_type": "execute_result",
          "data": {
            "text/plain": [
              "2.76"
            ]
          },
          "metadata": {},
          "execution_count": 10
        }
      ]
    },
    {
      "cell_type": "code",
      "source": [],
      "metadata": {
        "id": "FyvEWIS54onw"
      },
      "execution_count": null,
      "outputs": []
    },
    {
      "cell_type": "markdown",
      "source": [
        "#### Определяем целевую функцию для Optuna, поскольку дисбаланс не такой сильный, выбираем ROC-AUC"
      ],
      "metadata": {
        "id": "yeU-UthJSVC7"
      }
    },
    {
      "cell_type": "code",
      "source": [
        "# Определяем целевую функцию для Optuna\n",
        "def objective(trial):\n",
        "    \"\"\"\n",
        "    Целевая функция для Optuna\n",
        "    :param trial: Объект Trial для оптимизации\n",
        "    :return: Значение метрики для оптимизации\n",
        "    \"\"\"\n",
        "    params = {\n",
        "        'objective': 'binary:logistic',\n",
        "        'eval_metric': 'auc',\n",
        "        'random_state': 42,\n",
        "        'n_jobs': -1,\n",
        "        'n_estimators': trial.suggest_int('n_estimators', 2000, 2500),\n",
        "        'learning_rate': trial.suggest_float('learning_rate', 0.09, 0.1, log=True),\n",
        "        'max_depth': trial.suggest_int('max_depth', 6, 16),\n",
        "        'subsample': trial.suggest_float('subsample', 0.45, 0.6),\n",
        "        'colsample_bytree': trial.suggest_float('colsample_bytree', 0.59, 0.62),\n",
        "        'min_child_weight': trial.suggest_int('min_child_weight', 9, 18),\n",
        "        'gamma': trial.suggest_float('gamma', 0.08, 0.095),\n",
        "        'reg_alpha': trial.suggest_float('reg_alpha', 20, 33, log=False),\n",
        "        'reg_lambda': trial.suggest_float('reg_lambda', 1e-5, 0.002, log=True),\n",
        "    }\n",
        "\n",
        "    model = XGBClassifier(**params)\n",
        "\n",
        "    # Обучаем модель без ранней остановки, так как это вызывает проблемы совместимости\n",
        "    model.fit(X_train_churn_processed, y_train_churn,\n",
        "              eval_set=[(X_test_churn_processed, y_test_churn)],\n",
        "              verbose=False)\n",
        "\n",
        "    # Получаем предсказанные вероятности для положительного класса\n",
        "    y_pred_proba = model.predict_proba(X_test_churn_processed)[:, 1]\n",
        "\n",
        "    # Возвращаем метрику для оптимизации\n",
        "    return roc_auc_score(y_test_churn, y_pred_proba)\n"
      ],
      "metadata": {
        "id": "TdacArWTNpM1"
      },
      "execution_count": null,
      "outputs": []
    },
    {
      "cell_type": "code",
      "source": [
        "\n",
        "# Создаем исследование Optuna и запускаем оптимизацию\n",
        "print(\"\\nНачинаем настройку гиперпараметров с Optuna...\")\n",
        "study = optuna.create_study(direction='maximize')\n",
        "study.optimize(objective, n_trials=100)\n"
      ],
      "metadata": {
        "id": "_RVKtKVjvnXz",
        "colab": {
          "base_uri": "https://localhost:8080/"
        },
        "outputId": "aa5f8c84-b711-466c-8f9b-334661ad9092"
      },
      "execution_count": null,
      "outputs": [
        {
          "output_type": "stream",
          "name": "stderr",
          "text": [
            "[I 2025-07-03 15:16:52,157] A new study created in memory with name: no-name-e2e9e05e-dcd8-48c3-9e18-2a4435bb4ce0\n"
          ]
        },
        {
          "output_type": "stream",
          "name": "stdout",
          "text": [
            "\n",
            "Начинаем настройку гиперпараметров с Optuna...\n"
          ]
        },
        {
          "output_type": "stream",
          "name": "stderr",
          "text": [
            "[I 2025-07-03 15:17:00,270] Trial 0 finished with value: 0.8474789226020365 and parameters: {'n_estimators': 2292, 'learning_rate': 0.09129379650394324, 'max_depth': 9, 'subsample': 0.4853266862331413, 'colsample_bytree': 0.6096804065305184, 'min_child_weight': 18, 'gamma': 0.08142997408087276, 'reg_alpha': 31.274967169055575, 'reg_lambda': 1.1664942928504319e-05}. Best is trial 0 with value: 0.8474789226020365.\n",
            "[I 2025-07-03 15:17:06,638] Trial 1 finished with value: 0.8475228770420156 and parameters: {'n_estimators': 2243, 'learning_rate': 0.09007865200644492, 'max_depth': 7, 'subsample': 0.4519280484049507, 'colsample_bytree': 0.6138928778535208, 'min_child_weight': 17, 'gamma': 0.09145289548392596, 'reg_alpha': 26.314317155062824, 'reg_lambda': 0.00045824855331683345}. Best is trial 1 with value: 0.8475228770420156.\n",
            "[I 2025-07-03 15:17:14,892] Trial 2 finished with value: 0.8475245357001279 and parameters: {'n_estimators': 2080, 'learning_rate': 0.09283936908853085, 'max_depth': 6, 'subsample': 0.4712045402834109, 'colsample_bytree': 0.5923478318173991, 'min_child_weight': 18, 'gamma': 0.09273983080547689, 'reg_alpha': 22.78067936809365, 'reg_lambda': 1.5027998196353664e-05}. Best is trial 2 with value: 0.8475245357001279.\n",
            "[I 2025-07-03 15:17:21,269] Trial 3 finished with value: 0.8480420370312011 and parameters: {'n_estimators': 2367, 'learning_rate': 0.09944456749392656, 'max_depth': 8, 'subsample': 0.505888899274447, 'colsample_bytree': 0.6189846562515182, 'min_child_weight': 13, 'gamma': 0.0883457370095227, 'reg_alpha': 30.10550796840006, 'reg_lambda': 5.284533587249178e-05}. Best is trial 3 with value: 0.8480420370312011.\n",
            "[I 2025-07-03 15:17:28,813] Trial 4 finished with value: 0.848290006419007 and parameters: {'n_estimators': 2082, 'learning_rate': 0.09047584199921194, 'max_depth': 10, 'subsample': 0.520354764352955, 'colsample_bytree': 0.6177623078790593, 'min_child_weight': 18, 'gamma': 0.0875705796058793, 'reg_alpha': 30.92910729443923, 'reg_lambda': 2.010593019853359e-05}. Best is trial 4 with value: 0.848290006419007.\n",
            "[I 2025-07-03 15:17:36,684] Trial 5 finished with value: 0.8483613287178406 and parameters: {'n_estimators': 2175, 'learning_rate': 0.09720650478105955, 'max_depth': 10, 'subsample': 0.5177909141398404, 'colsample_bytree': 0.6037895178980003, 'min_child_weight': 11, 'gamma': 0.09070958408221913, 'reg_alpha': 30.638763556281454, 'reg_lambda': 0.0006530829184873695}. Best is trial 5 with value: 0.8483613287178406.\n",
            "[I 2025-07-03 15:17:42,514] Trial 6 finished with value: 0.848234441372241 and parameters: {'n_estimators': 2033, 'learning_rate': 0.0917599062899799, 'max_depth': 9, 'subsample': 0.5339239513493658, 'colsample_bytree': 0.5991221136418498, 'min_child_weight': 13, 'gamma': 0.09081934337681909, 'reg_alpha': 26.384927127406257, 'reg_lambda': 0.0006357030498630943}. Best is trial 5 with value: 0.8483613287178406.\n",
            "[I 2025-07-03 15:17:52,155] Trial 7 finished with value: 0.8462971286969416 and parameters: {'n_estimators': 2195, 'learning_rate': 0.09414530500713444, 'max_depth': 8, 'subsample': 0.5687766911218498, 'colsample_bytree': 0.6106990420854793, 'min_child_weight': 16, 'gamma': 0.08070848961107814, 'reg_alpha': 20.896063729077394, 'reg_lambda': 1.3392750067094611e-05}. Best is trial 5 with value: 0.8483613287178406.\n",
            "[I 2025-07-03 15:17:58,328] Trial 8 finished with value: 0.8478148008698003 and parameters: {'n_estimators': 2209, 'learning_rate': 0.0969345324528109, 'max_depth': 16, 'subsample': 0.4765547189457522, 'colsample_bytree': 0.6066293844383788, 'min_child_weight': 18, 'gamma': 0.0862050996995088, 'reg_alpha': 28.126382096521148, 'reg_lambda': 0.0008272790461424141}. Best is trial 5 with value: 0.8483613287178406.\n",
            "[I 2025-07-03 15:18:07,342] Trial 9 finished with value: 0.8474822399182614 and parameters: {'n_estimators': 2144, 'learning_rate': 0.09586718116832942, 'max_depth': 8, 'subsample': 0.5341316655245829, 'colsample_bytree': 0.6194474030102438, 'min_child_weight': 17, 'gamma': 0.09420454566595574, 'reg_alpha': 22.971532455449967, 'reg_lambda': 6.612464896704561e-05}. Best is trial 5 with value: 0.8483613287178406.\n",
            "[I 2025-07-03 15:18:15,843] Trial 10 finished with value: 0.8479723733904795 and parameters: {'n_estimators': 2441, 'learning_rate': 0.09901744843195874, 'max_depth': 13, 'subsample': 0.5869805778654508, 'colsample_bytree': 0.599362428419482, 'min_child_weight': 9, 'gamma': 0.08395875487150742, 'reg_alpha': 32.721164444392414, 'reg_lambda': 0.0017943738249477958}. Best is trial 5 with value: 0.8483613287178406.\n",
            "[I 2025-07-03 15:18:21,674] Trial 11 finished with value: 0.848265955876377 and parameters: {'n_estimators': 2105, 'learning_rate': 0.09731684906897115, 'max_depth': 11, 'subsample': 0.5088859256113027, 'colsample_bytree': 0.597036158619381, 'min_child_weight': 10, 'gamma': 0.08864885443854514, 'reg_alpha': 28.889137869177105, 'reg_lambda': 0.0001812178782499993}. Best is trial 5 with value: 0.8483613287178406.\n",
            "[I 2025-07-03 15:18:29,369] Trial 12 finished with value: 0.8478811471942969 and parameters: {'n_estimators': 2008, 'learning_rate': 0.09430429202426664, 'max_depth': 11, 'subsample': 0.5531508439245953, 'colsample_bytree': 0.6041169727379228, 'min_child_weight': 11, 'gamma': 0.08552110279571871, 'reg_alpha': 32.516311686840076, 'reg_lambda': 0.00017806352866078096}. Best is trial 5 with value: 0.8483613287178406.\n",
            "[I 2025-07-03 15:18:35,355] Trial 13 finished with value: 0.8479466641897373 and parameters: {'n_estimators': 2145, 'learning_rate': 0.09605969990194665, 'max_depth': 13, 'subsample': 0.5120345396444969, 'colsample_bytree': 0.6036090071718168, 'min_child_weight': 15, 'gamma': 0.09010795414216807, 'reg_alpha': 30.133447439365042, 'reg_lambda': 3.4562589965225434e-05}. Best is trial 5 with value: 0.8483613287178406.\n",
            "[I 2025-07-03 15:18:43,914] Trial 14 finished with value: 0.8476837668789196 and parameters: {'n_estimators': 2306, 'learning_rate': 0.09807946536682534, 'max_depth': 13, 'subsample': 0.5501478771416063, 'colsample_bytree': 0.6150259672185305, 'min_child_weight': 12, 'gamma': 0.08702483561864079, 'reg_alpha': 27.850718984851035, 'reg_lambda': 0.00035297939024936555}. Best is trial 5 with value: 0.8483613287178406.\n",
            "[I 2025-07-03 15:18:51,646] Trial 15 finished with value: 0.847641471097053 and parameters: {'n_estimators': 2074, 'learning_rate': 0.09314454007291162, 'max_depth': 10, 'subsample': 0.4950166822669954, 'colsample_bytree': 0.6079608356234442, 'min_child_weight': 15, 'gamma': 0.08398496904978303, 'reg_alpha': 30.879373870096764, 'reg_lambda': 0.001621353642140717}. Best is trial 5 with value: 0.8483613287178406.\n",
            "[I 2025-07-03 15:18:58,254] Trial 16 finished with value: 0.847721086686449 and parameters: {'n_estimators': 2160, 'learning_rate': 0.09004909802748111, 'max_depth': 12, 'subsample': 0.5232914742432434, 'colsample_bytree': 0.5909382121206683, 'min_child_weight': 11, 'gamma': 0.08938820117730724, 'reg_alpha': 24.817042845320554, 'reg_lambda': 9.471750296464092e-05}. Best is trial 5 with value: 0.8483613287178406.\n",
            "[I 2025-07-03 15:19:07,300] Trial 17 finished with value: 0.8479483228478497 and parameters: {'n_estimators': 2476, 'learning_rate': 0.09475113054602961, 'max_depth': 15, 'subsample': 0.5982316290975694, 'colsample_bytree': 0.6139817977353681, 'min_child_weight': 14, 'gamma': 0.09260295527608033, 'reg_alpha': 29.23366773183736, 'reg_lambda': 2.5982478792817042e-05}. Best is trial 5 with value: 0.8483613287178406.\n",
            "[I 2025-07-03 15:19:15,607] Trial 18 finished with value: 0.8479400295572876 and parameters: {'n_estimators': 2287, 'learning_rate': 0.09588193162128315, 'max_depth': 11, 'subsample': 0.5547126725163741, 'colsample_bytree': 0.601403196238566, 'min_child_weight': 9, 'gamma': 0.0847825519298419, 'reg_alpha': 31.542675079366205, 'reg_lambda': 0.00033114149663550314}. Best is trial 5 with value: 0.8483613287178406.\n",
            "[I 2025-07-03 15:19:21,428] Trial 19 finished with value: 0.8479450055316249 and parameters: {'n_estimators': 2045, 'learning_rate': 0.0980490383675616, 'max_depth': 10, 'subsample': 0.5285146163628618, 'colsample_bytree': 0.5950161606412132, 'min_child_weight': 12, 'gamma': 0.09473013146811068, 'reg_alpha': 27.666955175640133, 'reg_lambda': 0.0009580071758788007}. Best is trial 5 with value: 0.8483613287178406.\n",
            "[I 2025-07-03 15:19:29,923] Trial 20 finished with value: 0.8475013144865541 and parameters: {'n_estimators': 2110, 'learning_rate': 0.09298841606652353, 'max_depth': 6, 'subsample': 0.4954006326964376, 'colsample_bytree': 0.6168655468822318, 'min_child_weight': 14, 'gamma': 0.08764276172647958, 'reg_alpha': 25.090355881300205, 'reg_lambda': 0.00010477438534001346}. Best is trial 5 with value: 0.8483613287178406.\n",
            "[I 2025-07-03 15:19:35,725] Trial 21 finished with value: 0.8481199939624846 and parameters: {'n_estimators': 2114, 'learning_rate': 0.09730171165782464, 'max_depth': 10, 'subsample': 0.510974541081045, 'colsample_bytree': 0.596311552764868, 'min_child_weight': 10, 'gamma': 0.0888613082213964, 'reg_alpha': 29.086011678862818, 'reg_lambda': 0.0001964874627740068}. Best is trial 5 with value: 0.8483613287178406.\n",
            "[I 2025-07-03 15:19:43,667] Trial 22 finished with value: 0.8488481448738341 and parameters: {'n_estimators': 2196, 'learning_rate': 0.09660098998514383, 'max_depth': 12, 'subsample': 0.5191255896875394, 'colsample_bytree': 0.5971357952424527, 'min_child_weight': 10, 'gamma': 0.09186426315914746, 'reg_alpha': 29.429140608516924, 'reg_lambda': 0.00022939722872766463}. Best is trial 22 with value: 0.8488481448738341.\n",
            "[I 2025-07-03 15:19:51,793] Trial 23 finished with value: 0.8482170254620607 and parameters: {'n_estimators': 2201, 'learning_rate': 0.09999071226844926, 'max_depth': 12, 'subsample': 0.5406614755948379, 'colsample_bytree': 0.6010458556001547, 'min_child_weight': 11, 'gamma': 0.09243281349133119, 'reg_alpha': 30.27735315956201, 'reg_lambda': 0.00034716138739907654}. Best is trial 22 with value: 0.8488481448738341.\n",
            "[I 2025-07-03 15:19:57,778] Trial 24 finished with value: 0.8480354023987513 and parameters: {'n_estimators': 2247, 'learning_rate': 0.09633195214180032, 'max_depth': 14, 'subsample': 0.5213040380433858, 'colsample_bytree': 0.5936409273362673, 'min_child_weight': 10, 'gamma': 0.09129106497850235, 'reg_alpha': 32.360464191065205, 'reg_lambda': 0.00023232491447269406}. Best is trial 22 with value: 0.8488481448738341.\n",
            "[I 2025-07-03 15:20:06,606] Trial 25 finished with value: 0.8481042367104166 and parameters: {'n_estimators': 2364, 'learning_rate': 0.09521363978675051, 'max_depth': 12, 'subsample': 0.5637859057175926, 'colsample_bytree': 0.6108845395833428, 'min_child_weight': 12, 'gamma': 0.09404400313961277, 'reg_alpha': 31.726935188733616, 'reg_lambda': 0.0011019550907241083}. Best is trial 22 with value: 0.8488481448738341.\n",
            "[I 2025-07-03 15:20:12,825] Trial 26 finished with value: 0.8485495864135997 and parameters: {'n_estimators': 2208, 'learning_rate': 0.09835341759903482, 'max_depth': 9, 'subsample': 0.501285877482342, 'colsample_bytree': 0.6054748291390044, 'min_child_weight': 10, 'gamma': 0.08986010045369984, 'reg_alpha': 30.153644133459586, 'reg_lambda': 0.0005328158700320198}. Best is trial 22 with value: 0.8488481448738341.\n",
            "[I 2025-07-03 15:20:21,184] Trial 27 finished with value: 0.8487519427033142 and parameters: {'n_estimators': 2227, 'learning_rate': 0.09840496274072162, 'max_depth': 9, 'subsample': 0.4984938125977801, 'colsample_bytree': 0.6054689895105002, 'min_child_weight': 9, 'gamma': 0.09004374393183688, 'reg_alpha': 29.55704158185158, 'reg_lambda': 0.0005131702591158455}. Best is trial 22 with value: 0.8488481448738341.\n",
            "[I 2025-07-03 15:20:29,947] Trial 28 finished with value: 0.8473735978118982 and parameters: {'n_estimators': 2338, 'learning_rate': 0.0984861955075832, 'max_depth': 9, 'subsample': 0.4610771253735747, 'colsample_bytree': 0.606364137614375, 'min_child_weight': 9, 'gamma': 0.08987378008866853, 'reg_alpha': 27.326477971666982, 'reg_lambda': 0.0004489995848625451}. Best is trial 22 with value: 0.8488481448738341.\n",
            "[I 2025-07-03 15:20:36,288] Trial 29 finished with value: 0.8483389368333231 and parameters: {'n_estimators': 2260, 'learning_rate': 0.09849548977908566, 'max_depth': 9, 'subsample': 0.48901813978624575, 'colsample_bytree': 0.6089051868047671, 'min_child_weight': 10, 'gamma': 0.09317390328072214, 'reg_alpha': 28.964194997075122, 'reg_lambda': 0.00026109525542711325}. Best is trial 22 with value: 0.8488481448738341.\n",
            "[I 2025-07-03 15:20:44,413] Trial 30 finished with value: 0.847977349364817 and parameters: {'n_estimators': 2222, 'learning_rate': 0.0991524634758078, 'max_depth': 7, 'subsample': 0.4805798613254069, 'colsample_bytree': 0.6017616810598873, 'min_child_weight': 9, 'gamma': 0.09153339715290297, 'reg_alpha': 29.68791093038819, 'reg_lambda': 0.0001424146222351508}. Best is trial 22 with value: 0.8488481448738341.\n",
            "[I 2025-07-03 15:20:50,400] Trial 31 finished with value: 0.8484998266702272 and parameters: {'n_estimators': 2181, 'learning_rate': 0.09686277419828654, 'max_depth': 11, 'subsample': 0.497747797980313, 'colsample_bytree': 0.6044675822525958, 'min_child_weight': 11, 'gamma': 0.09013937095134984, 'reg_alpha': 30.896358920479063, 'reg_lambda': 0.0006544010087333975}. Best is trial 22 with value: 0.8488481448738341.\n",
            "[I 2025-07-03 15:20:58,671] Trial 32 finished with value: 0.8483488887819975 and parameters: {'n_estimators': 2293, 'learning_rate': 0.0966306343322597, 'max_depth': 11, 'subsample': 0.49956969467494416, 'colsample_bytree': 0.6059154124601396, 'min_child_weight': 10, 'gamma': 0.08993014704716999, 'reg_alpha': 31.635429705854236, 'reg_lambda': 0.0005267419990833358}. Best is trial 22 with value: 0.8488481448738341.\n",
            "[I 2025-07-03 15:21:06,708] Trial 33 finished with value: 0.8481125300009786 and parameters: {'n_estimators': 2232, 'learning_rate': 0.09798317561011644, 'max_depth': 7, 'subsample': 0.47078708340791986, 'colsample_bytree': 0.5984162633859015, 'min_child_weight': 9, 'gamma': 0.09181525630525902, 'reg_alpha': 28.506183497955483, 'reg_lambda': 0.001282615398426433}. Best is trial 22 with value: 0.8488481448738341.\n",
            "[I 2025-07-03 15:21:13,217] Trial 34 finished with value: 0.8482278067397914 and parameters: {'n_estimators': 2261, 'learning_rate': 0.0975149836771091, 'max_depth': 12, 'subsample': 0.488270807086581, 'colsample_bytree': 0.6106239238977371, 'min_child_weight': 11, 'gamma': 0.09334566889454278, 'reg_alpha': 26.987138971905736, 'reg_lambda': 0.0006888706505903589}. Best is trial 22 with value: 0.8488481448738341.\n",
            "[I 2025-07-03 15:21:21,693] Trial 35 finished with value: 0.8484309923585622 and parameters: {'n_estimators': 2175, 'learning_rate': 0.09550064116401759, 'max_depth': 8, 'subsample': 0.5013507276637125, 'colsample_bytree': 0.6123397492071448, 'min_child_weight': 10, 'gamma': 0.08917650552804904, 'reg_alpha': 25.459933656252932, 'reg_lambda': 0.0004084800651900137}. Best is trial 22 with value: 0.8488481448738341.\n",
            "[I 2025-07-03 15:21:27,592] Trial 36 finished with value: 0.8476091272638611 and parameters: {'n_estimators': 2185, 'learning_rate': 0.09970903357870081, 'max_depth': 9, 'subsample': 0.4607895268262932, 'colsample_bytree': 0.6077633161253148, 'min_child_weight': 12, 'gamma': 0.0905260413547004, 'reg_alpha': 29.71009219431373, 'reg_lambda': 0.0008074730238120512}. Best is trial 22 with value: 0.8488481448738341.\n",
            "[I 2025-07-03 15:21:35,327] Trial 37 finished with value: 0.8480569649542128 and parameters: {'n_estimators': 2136, 'learning_rate': 0.09873246699821203, 'max_depth': 14, 'subsample': 0.48670701456156495, 'colsample_bytree': 0.60492988515268, 'min_child_weight': 9, 'gamma': 0.08774432080144458, 'reg_alpha': 30.986878609154456, 'reg_lambda': 0.0002745927014580962}. Best is trial 22 with value: 0.8488481448738341.\n",
            "[I 2025-07-03 15:21:43,440] Trial 38 finished with value: 0.8485736369562297 and parameters: {'n_estimators': 2271, 'learning_rate': 0.09685751905231986, 'max_depth': 9, 'subsample': 0.5042220968986724, 'colsample_bytree': 0.6034565036793615, 'min_child_weight': 11, 'gamma': 0.09184219184783132, 'reg_alpha': 29.6963342214919, 'reg_lambda': 0.0005372357771897955}. Best is trial 22 with value: 0.8488481448738341.\n",
            "[I 2025-07-03 15:21:50,205] Trial 39 finished with value: 0.8472923235643899 and parameters: {'n_estimators': 2322, 'learning_rate': 0.0976665986826076, 'max_depth': 7, 'subsample': 0.5068879193164028, 'colsample_bytree': 0.6023802239764929, 'min_child_weight': 13, 'gamma': 0.09212835826169181, 'reg_alpha': 25.867843309340167, 'reg_lambda': 0.0005147658535533193}. Best is trial 22 with value: 0.8488481448738341.\n",
            "[I 2025-07-03 15:21:58,884] Trial 40 finished with value: 0.8482842011156134 and parameters: {'n_estimators': 2398, 'learning_rate': 0.09649376612726827, 'max_depth': 8, 'subsample': 0.540212802680203, 'colsample_bytree': 0.6003174447639464, 'min_child_weight': 10, 'gamma': 0.09098653783856318, 'reg_alpha': 29.971706357023898, 'reg_lambda': 0.0001248711850711078}. Best is trial 22 with value: 0.8488481448738341.\n",
            "[I 2025-07-03 15:22:06,316] Trial 41 finished with value: 0.8484567015593045 and parameters: {'n_estimators': 2216, 'learning_rate': 0.09679097418339418, 'max_depth': 10, 'subsample': 0.5160167076686993, 'colsample_bytree': 0.602746171031051, 'min_child_weight': 11, 'gamma': 0.09040466377700183, 'reg_alpha': 30.6184811189251, 'reg_lambda': 0.0005714609058672761}. Best is trial 22 with value: 0.8488481448738341.\n",
            "[I 2025-07-03 15:22:13,337] Trial 42 finished with value: 0.8486142740799838 and parameters: {'n_estimators': 2262, 'learning_rate': 0.09932497847367155, 'max_depth': 9, 'subsample': 0.5007443998328716, 'colsample_bytree': 0.6048385055552034, 'min_child_weight': 11, 'gamma': 0.08826450879166704, 'reg_alpha': 28.41022623739383, 'reg_lambda': 0.001209530630466689}. Best is trial 22 with value: 0.8488481448738341.\n",
            "[I 2025-07-03 15:22:21,795] Trial 43 finished with value: 0.8485819302467918 and parameters: {'n_estimators': 2272, 'learning_rate': 0.09935907427014341, 'max_depth': 9, 'subsample': 0.5023172259350022, 'colsample_bytree': 0.6073340024083846, 'min_child_weight': 10, 'gamma': 0.0880055540924632, 'reg_alpha': 28.18236938361152, 'reg_lambda': 0.001419715788199881}. Best is trial 22 with value: 0.8488481448738341.\n",
            "[I 2025-07-03 15:22:28,337] Trial 44 finished with value: 0.8480478423345944 and parameters: {'n_estimators': 2274, 'learning_rate': 0.09928089804039536, 'max_depth': 8, 'subsample': 0.5295228061899107, 'colsample_bytree': 0.6074701485344338, 'min_child_weight': 12, 'gamma': 0.0867227194589587, 'reg_alpha': 28.278836650259915, 'reg_lambda': 0.0014497105742959239}. Best is trial 22 with value: 0.8488481448738341.\n",
            "[I 2025-07-03 15:22:36,950] Trial 45 finished with value: 0.8479823253391542 and parameters: {'n_estimators': 2239, 'learning_rate': 0.09951703451211338, 'max_depth': 9, 'subsample': 0.5168260228433383, 'colsample_bytree': 0.60930766598915, 'min_child_weight': 9, 'gamma': 0.0860031635345687, 'reg_alpha': 26.770927776614343, 'reg_lambda': 0.0019519569291070785}. Best is trial 22 with value: 0.8488481448738341.\n",
            "[I 2025-07-03 15:22:45,199] Trial 46 finished with value: 0.8479035390788144 and parameters: {'n_estimators': 2322, 'learning_rate': 0.0989778527960638, 'max_depth': 10, 'subsample': 0.47366378059281217, 'colsample_bytree': 0.5978223536915898, 'min_child_weight': 11, 'gamma': 0.08831987512864387, 'reg_alpha': 28.52315048148281, 'reg_lambda': 0.001141402157606269}. Best is trial 22 with value: 0.8488481448738341.\n",
            "[I 2025-07-03 15:22:51,662] Trial 47 finished with value: 0.8477973849596199 and parameters: {'n_estimators': 2368, 'learning_rate': 0.0978337112682472, 'max_depth': 8, 'subsample': 0.480642701713297, 'colsample_bytree': 0.6028678293328866, 'min_child_weight': 10, 'gamma': 0.08829834991459294, 'reg_alpha': 29.3295876023517, 'reg_lambda': 0.0008772265576796782}. Best is trial 22 with value: 0.8488481448738341.\n",
            "[I 2025-07-03 15:22:59,934] Trial 48 finished with value: 0.8485039733155083 and parameters: {'n_estimators': 2271, 'learning_rate': 0.09982613215183204, 'max_depth': 6, 'subsample': 0.5065053229282062, 'colsample_bytree': 0.5901809981511568, 'min_child_weight': 13, 'gamma': 0.08694332847070495, 'reg_alpha': 27.667360197944397, 'reg_lambda': 0.0013743333139558448}. Best is trial 22 with value: 0.8488481448738341.\n",
            "[I 2025-07-03 15:23:09,865] Trial 49 finished with value: 0.847325496726638 and parameters: {'n_estimators': 2302, 'learning_rate': 0.098936766567768, 'max_depth': 7, 'subsample': 0.49135574981021374, 'colsample_bytree': 0.6120694710991186, 'min_child_weight': 11, 'gamma': 0.08274540023846774, 'reg_alpha': 21.737740137549288, 'reg_lambda': 0.0007466118519150514}. Best is trial 22 with value: 0.8488481448738341.\n",
            "[I 2025-07-03 15:23:16,624] Trial 50 finished with value: 0.847877829878072 and parameters: {'n_estimators': 2242, 'learning_rate': 0.09146156246848738, 'max_depth': 10, 'subsample': 0.5147753723750449, 'colsample_bytree': 0.6037271074572306, 'min_child_weight': 9, 'gamma': 0.08933699118245635, 'reg_alpha': 26.330390310488866, 'reg_lambda': 0.0010467008015104418}. Best is trial 22 with value: 0.8488481448738341.\n",
            "[I 2025-07-03 15:23:24,636] Trial 51 finished with value: 0.848226148081679 and parameters: {'n_estimators': 2157, 'learning_rate': 0.0983437089020031, 'max_depth': 9, 'subsample': 0.5031177262009506, 'colsample_bytree': 0.6056629775092761, 'min_child_weight': 10, 'gamma': 0.09098135298666929, 'reg_alpha': 29.482187324486205, 'reg_lambda': 0.00039939142635148637}. Best is trial 22 with value: 0.8488481448738341.\n",
            "[I 2025-07-03 15:23:30,988] Trial 52 finished with value: 0.8479823253391542 and parameters: {'n_estimators': 2204, 'learning_rate': 0.09839418998998395, 'max_depth': 9, 'subsample': 0.4950999335329226, 'colsample_bytree': 0.6067924047314573, 'min_child_weight': 10, 'gamma': 0.08000692401936413, 'reg_alpha': 28.680253693571665, 'reg_lambda': 0.0002892932735921029}. Best is trial 22 with value: 0.8488481448738341.\n",
            "[I 2025-07-03 15:23:39,119] Trial 53 finished with value: 0.8481332632273837 and parameters: {'n_estimators': 2219, 'learning_rate': 0.09953425922329363, 'max_depth': 9, 'subsample': 0.5050379203614489, 'colsample_bytree': 0.6088005618641269, 'min_child_weight': 9, 'gamma': 0.08817785336065419, 'reg_alpha': 30.419403835222568, 'reg_lambda': 0.0017484360678098301}. Best is trial 22 with value: 0.8488481448738341.\n",
            "[I 2025-07-03 15:23:48,170] Trial 54 finished with value: 0.8475402929521959 and parameters: {'n_estimators': 2279, 'learning_rate': 0.09708226615370376, 'max_depth': 8, 'subsample': 0.48213565152956445, 'colsample_bytree': 0.6003304269652728, 'min_child_weight': 10, 'gamma': 0.08956255209851172, 'reg_alpha': 24.2139307586463, 'reg_lambda': 0.0004901747350659084}. Best is trial 22 with value: 0.8488481448738341.\n",
            "[I 2025-07-03 15:23:54,507] Trial 55 finished with value: 0.8477385025966293 and parameters: {'n_estimators': 2257, 'learning_rate': 0.09865616276216772, 'max_depth': 10, 'subsample': 0.5232916553242107, 'colsample_bytree': 0.604931007308548, 'min_child_weight': 11, 'gamma': 0.08887134429710637, 'reg_alpha': 29.921724302779257, 'reg_lambda': 0.00022420587455386975}. Best is trial 22 with value: 0.8488481448738341.\n",
            "[I 2025-07-03 15:24:02,863] Trial 56 finished with value: 0.8483928432219766 and parameters: {'n_estimators': 2201, 'learning_rate': 0.09416694918841721, 'max_depth': 11, 'subsample': 0.5112124259347388, 'colsample_bytree': 0.5953523199931575, 'min_child_weight': 12, 'gamma': 0.09297362345859227, 'reg_alpha': 28.106259969144556, 'reg_lambda': 4.6017792211366735e-05}. Best is trial 22 with value: 0.8488481448738341.\n",
            "[I 2025-07-03 15:24:11,342] Trial 57 finished with value: 0.8479914479587722 and parameters: {'n_estimators': 2230, 'learning_rate': 0.09365735247950463, 'max_depth': 8, 'subsample': 0.4932809077388685, 'colsample_bytree': 0.5994002282192444, 'min_child_weight': 10, 'gamma': 0.09178242117454047, 'reg_alpha': 27.424511411367785, 'reg_lambda': 0.0006081214234738003}. Best is trial 22 with value: 0.8488481448738341.\n",
            "[I 2025-07-03 15:24:17,702] Trial 58 finished with value: 0.8479010510916458 and parameters: {'n_estimators': 2320, 'learning_rate': 0.09609598957663142, 'max_depth': 13, 'subsample': 0.5290577485974576, 'colsample_bytree': 0.5929276516167301, 'min_child_weight': 16, 'gamma': 0.0936240692617305, 'reg_alpha': 29.104162976471322, 'reg_lambda': 0.00097930717123831}. Best is trial 22 with value: 0.8488481448738341.\n",
            "[I 2025-07-03 15:24:26,127] Trial 59 finished with value: 0.8481133593300348 and parameters: {'n_estimators': 2352, 'learning_rate': 0.09752321751872302, 'max_depth': 9, 'subsample': 0.5194431330107615, 'colsample_bytree': 0.6073070448418292, 'min_child_weight': 11, 'gamma': 0.08738605241889619, 'reg_alpha': 31.318180285008637, 'reg_lambda': 0.00014990185690333505}. Best is trial 22 with value: 0.8488481448738341.\n",
            "[I 2025-07-03 15:24:32,077] Trial 60 finished with value: 0.8479848133263228 and parameters: {'n_estimators': 2133, 'learning_rate': 0.09047010576421241, 'max_depth': 11, 'subsample': 0.5015802222884659, 'colsample_bytree': 0.6057098918602387, 'min_child_weight': 9, 'gamma': 0.09241594154613046, 'reg_alpha': 32.07876619586255, 'reg_lambda': 8.360905602438892e-05}. Best is trial 22 with value: 0.8488481448738341.\n",
            "[I 2025-07-03 15:24:40,306] Trial 61 finished with value: 0.8480893087874048 and parameters: {'n_estimators': 2271, 'learning_rate': 0.09992060653142282, 'max_depth': 6, 'subsample': 0.5083100372325315, 'colsample_bytree': 0.5918653243546931, 'min_child_weight': 14, 'gamma': 0.08527945823308708, 'reg_alpha': 27.741628039273753, 'reg_lambda': 0.0015702649101835358}. Best is trial 22 with value: 0.8488481448738341.\n",
            "[I 2025-07-03 15:24:48,549] Trial 62 finished with value: 0.8485537330588806 and parameters: {'n_estimators': 2284, 'learning_rate': 0.09924000475024229, 'max_depth': 6, 'subsample': 0.5121220437085907, 'colsample_bytree': 0.5900959477197542, 'min_child_weight': 13, 'gamma': 0.08657665524470053, 'reg_alpha': 27.992361091201907, 'reg_lambda': 0.0012091990128118924}. Best is trial 22 with value: 0.8488481448738341.\n",
            "[I 2025-07-03 15:24:54,773] Trial 63 finished with value: 0.8489368830828483 and parameters: {'n_estimators': 2300, 'learning_rate': 0.09917563584075403, 'max_depth': 7, 'subsample': 0.49916473075718376, 'colsample_bytree': 0.5945903040210889, 'min_child_weight': 13, 'gamma': 0.08612328544763614, 'reg_alpha': 28.093597256347874, 'reg_lambda': 0.0012232705292421766}. Best is trial 63 with value: 0.8489368830828483.\n",
            "[I 2025-07-03 15:25:03,452] Trial 64 finished with value: 0.8482767371541076 and parameters: {'n_estimators': 2293, 'learning_rate': 0.09937705846666212, 'max_depth': 6, 'subsample': 0.5126802944694229, 'colsample_bytree': 0.5937852150388937, 'min_child_weight': 13, 'gamma': 0.08637575364030954, 'reg_alpha': 27.04919801943041, 'reg_lambda': 0.0012475399822336128}. Best is trial 63 with value: 0.8489368830828483.\n",
            "[I 2025-07-03 15:25:09,957] Trial 65 finished with value: 0.8486706684558059 and parameters: {'n_estimators': 2335, 'learning_rate': 0.0988328824936772, 'max_depth': 7, 'subsample': 0.49719076416189933, 'colsample_bytree': 0.591637698182037, 'min_child_weight': 15, 'gamma': 0.08575961936851721, 'reg_alpha': 28.10232627261285, 'reg_lambda': 0.0019513703620000244}. Best is trial 63 with value: 0.8489368830828483.\n",
            "[I 2025-07-03 15:25:18,543] Trial 66 finished with value: 0.847993935945941 and parameters: {'n_estimators': 2426, 'learning_rate': 0.09883056231693563, 'max_depth': 7, 'subsample': 0.4842833475084511, 'colsample_bytree': 0.5969779404418716, 'min_child_weight': 16, 'gamma': 0.08400475693160958, 'reg_alpha': 28.652930608484283, 'reg_lambda': 0.001989028022466056}. Best is trial 63 with value: 0.8489368830828483.\n",
            "[I 2025-07-03 15:25:27,054] Trial 67 finished with value: 0.8484401149781803 and parameters: {'n_estimators': 2392, 'learning_rate': 0.0981000634411438, 'max_depth': 7, 'subsample': 0.49810524076885637, 'colsample_bytree': 0.5953299106892349, 'min_child_weight': 15, 'gamma': 0.08565832797036897, 'reg_alpha': 28.233703665461817, 'reg_lambda': 0.0016378402144675132}. Best is trial 63 with value: 0.8489368830828483.\n",
            "[I 2025-07-03 15:25:33,459] Trial 68 finished with value: 0.8482850304446696 and parameters: {'n_estimators': 2339, 'learning_rate': 0.09493893082160718, 'max_depth': 8, 'subsample': 0.49131483708839646, 'colsample_bytree': 0.5922586979409431, 'min_child_weight': 15, 'gamma': 0.08736879153677525, 'reg_alpha': 28.971299117767625, 'reg_lambda': 0.000879012149655831}. Best is trial 63 with value: 0.8489368830828483.\n",
            "[I 2025-07-03 15:25:41,604] Trial 69 finished with value: 0.8479251016342758 and parameters: {'n_estimators': 2304, 'learning_rate': 0.09565453023118164, 'max_depth': 12, 'subsample': 0.4779355483203308, 'colsample_bytree': 0.5939957495055471, 'min_child_weight': 17, 'gamma': 0.08451016301220443, 'reg_alpha': 29.481196451454906, 'reg_lambda': 0.0014140924237577446}. Best is trial 63 with value: 0.8489368830828483.\n",
            "[I 2025-07-03 15:25:51,684] Trial 70 finished with value: 0.8465641726530403 and parameters: {'n_estimators': 2316, 'learning_rate': 0.0972411014213377, 'max_depth': 7, 'subsample': 0.5347108973415157, 'colsample_bytree': 0.5918528478174556, 'min_child_weight': 14, 'gamma': 0.08480573557659295, 'reg_alpha': 20.169094338029616, 'reg_lambda': 0.001038749730505837}. Best is trial 63 with value: 0.8489368830828483.\n",
            "[I 2025-07-03 15:25:58,015] Trial 71 finished with value: 0.8482327827141287 and parameters: {'n_estimators': 2286, 'learning_rate': 0.09920816621580826, 'max_depth': 6, 'subsample': 0.5103214906727785, 'colsample_bytree': 0.5907182112203001, 'min_child_weight': 13, 'gamma': 0.08608025415785714, 'reg_alpha': 27.84275973509876, 'reg_lambda': 0.001184162345495367}. Best is trial 63 with value: 0.8489368830828483.\n",
            "[I 2025-07-03 15:26:06,510] Trial 72 finished with value: 0.8489725442322653 and parameters: {'n_estimators': 2249, 'learning_rate': 0.09950151977316088, 'max_depth': 6, 'subsample': 0.49671341663556684, 'colsample_bytree': 0.5910983192203733, 'min_child_weight': 14, 'gamma': 0.08654341419132912, 'reg_alpha': 27.33014378770057, 'reg_lambda': 0.0007394451035175595}. Best is trial 72 with value: 0.8489725442322653.\n",
            "[I 2025-07-03 15:26:14,909] Trial 73 finished with value: 0.8484981680121149 and parameters: {'n_estimators': 2248, 'learning_rate': 0.09964162720230287, 'max_depth': 7, 'subsample': 0.49833255912861324, 'colsample_bytree': 0.5962513907562468, 'min_child_weight': 16, 'gamma': 0.08521330113521323, 'reg_alpha': 26.68870547703818, 'reg_lambda': 0.0008374115170489522}. Best is trial 72 with value: 0.8489725442322653.\n",
            "[I 2025-07-03 15:26:21,225] Trial 74 finished with value: 0.8482186841201732 and parameters: {'n_estimators': 2265, 'learning_rate': 0.09871540621234577, 'max_depth': 8, 'subsample': 0.4876559870541763, 'colsample_bytree': 0.5913040697057524, 'min_child_weight': 14, 'gamma': 0.08715056682754059, 'reg_alpha': 27.352162337029235, 'reg_lambda': 0.0007279790084130047}. Best is trial 72 with value: 0.8489725442322653.\n",
            "[I 2025-07-03 15:26:29,655] Trial 75 finished with value: 0.8487237455154031 and parameters: {'n_estimators': 2334, 'learning_rate': 0.09820527723893319, 'max_depth': 6, 'subsample': 0.5048380328377804, 'colsample_bytree': 0.5928811106614087, 'min_child_weight': 15, 'gamma': 0.08795153878730112, 'reg_alpha': 28.799209033530317, 'reg_lambda': 0.0004154624203590429}. Best is trial 72 with value: 0.8489725442322653.\n",
            "[I 2025-07-03 15:26:36,501] Trial 76 finished with value: 0.8476804495626948 and parameters: {'n_estimators': 2373, 'learning_rate': 0.09233707668243718, 'max_depth': 6, 'subsample': 0.5202600758922781, 'colsample_bytree': 0.5944640478500872, 'min_child_weight': 15, 'gamma': 0.08807372531653841, 'reg_alpha': 25.85983369851437, 'reg_lambda': 1.1519382553492293e-05}. Best is trial 72 with value: 0.8489725442322653.\n",
            "[I 2025-07-03 15:26:44,751] Trial 77 finished with value: 0.8478877818267464 and parameters: {'n_estimators': 2344, 'learning_rate': 0.09815558605321653, 'max_depth': 7, 'subsample': 0.49344061644576304, 'colsample_bytree': 0.5930414521962436, 'min_child_weight': 16, 'gamma': 0.08790564117378931, 'reg_alpha': 28.759780428879303, 'reg_lambda': 0.0004354306469184822}. Best is trial 72 with value: 0.8489725442322653.\n",
            "[I 2025-07-03 15:26:53,060] Trial 78 finished with value: 0.8482112201586673 and parameters: {'n_estimators': 2308, 'learning_rate': 0.09777842001407072, 'max_depth': 6, 'subsample': 0.4686613334767473, 'colsample_bytree': 0.5927909938005289, 'min_child_weight': 15, 'gamma': 0.08582251955110995, 'reg_alpha': 27.107076275780994, 'reg_lambda': 0.00032862033168597237}. Best is trial 72 with value: 0.8489725442322653.\n",
            "[I 2025-07-03 15:26:59,403] Trial 79 finished with value: 0.8487237455154031 and parameters: {'n_estimators': 2331, 'learning_rate': 0.09899463797099638, 'max_depth': 6, 'subsample': 0.497168354653064, 'colsample_bytree': 0.59465733731741, 'min_child_weight': 14, 'gamma': 0.08874176609077863, 'reg_alpha': 28.11184718600959, 'reg_lambda': 1.9496394441647734e-05}. Best is trial 72 with value: 0.8489725442322653.\n",
            "[I 2025-07-03 15:27:07,781] Trial 80 finished with value: 0.8478604139678918 and parameters: {'n_estimators': 2334, 'learning_rate': 0.0990140703912545, 'max_depth': 6, 'subsample': 0.484762870414712, 'colsample_bytree': 0.5945719851948185, 'min_child_weight': 14, 'gamma': 0.08874565177247534, 'reg_alpha': 28.346345031357583, 'reg_lambda': 2.1980640029507467e-05}. Best is trial 72 with value: 0.8489725442322653.\n",
            "[I 2025-07-03 15:27:16,361] Trial 81 finished with value: 0.8491168474880453 and parameters: {'n_estimators': 2383, 'learning_rate': 0.0994997169487844, 'max_depth': 6, 'subsample': 0.49724594284396345, 'colsample_bytree': 0.5958355265237725, 'min_child_weight': 14, 'gamma': 0.0876015403793251, 'reg_alpha': 27.43240791725854, 'reg_lambda': 3.843083036000798e-05}. Best is trial 81 with value: 0.8491168474880453.\n",
            "[I 2025-07-03 15:27:22,915] Trial 82 finished with value: 0.8484442616234615 and parameters: {'n_estimators': 2396, 'learning_rate': 0.09996060493951167, 'max_depth': 6, 'subsample': 0.4962046140703869, 'colsample_bytree': 0.5961245696329349, 'min_child_weight': 14, 'gamma': 0.0868992394818099, 'reg_alpha': 27.462312502365176, 'reg_lambda': 1.602777857072877e-05}. Best is trial 81 with value: 0.8491168474880453.\n",
            "[I 2025-07-03 15:27:31,416] Trial 83 finished with value: 0.8486839377207052 and parameters: {'n_estimators': 2356, 'learning_rate': 0.09861277887068008, 'max_depth': 7, 'subsample': 0.5057035208016575, 'colsample_bytree': 0.5972033429639141, 'min_child_weight': 15, 'gamma': 0.08761957817783136, 'reg_alpha': 27.952842477593506, 'reg_lambda': 2.2485065113671778e-05}. Best is trial 81 with value: 0.8491168474880453.\n",
            "[I 2025-07-03 15:27:38,298] Trial 84 finished with value: 0.8476074686057485 and parameters: {'n_estimators': 2415, 'learning_rate': 0.09856946283597412, 'max_depth': 7, 'subsample': 0.49116488071267805, 'colsample_bytree': 0.5976908308849673, 'min_child_weight': 15, 'gamma': 0.08637610255719694, 'reg_alpha': 26.126563898465445, 'reg_lambda': 2.8850526866745236e-05}. Best is trial 81 with value: 0.8491168474880453.\n",
            "[I 2025-07-03 15:27:46,792] Trial 85 finished with value: 0.848322350252199 and parameters: {'n_estimators': 2378, 'learning_rate': 0.09819551482529698, 'max_depth': 6, 'subsample': 0.5061301697962064, 'colsample_bytree': 0.5955188735060741, 'min_child_weight': 15, 'gamma': 0.08748186552900004, 'reg_alpha': 27.899329600693157, 'reg_lambda': 1.3672277682667727e-05}. Best is trial 81 with value: 0.8491168474880453.\n",
            "[I 2025-07-03 15:27:55,750] Trial 86 finished with value: 0.8488133130534734 and parameters: {'n_estimators': 2477, 'learning_rate': 0.09908302212452988, 'max_depth': 7, 'subsample': 0.49771045768638, 'colsample_bytree': 0.5969645148168289, 'min_child_weight': 14, 'gamma': 0.08879729326301813, 'reg_alpha': 26.689036173245782, 'reg_lambda': 1.714489107381092e-05}. Best is trial 81 with value: 0.8491168474880453.\n",
            "[I 2025-07-03 15:28:02,805] Trial 87 finished with value: 0.8478546086644982 and parameters: {'n_estimators': 2464, 'learning_rate': 0.09969721435432563, 'max_depth': 6, 'subsample': 0.5155940618068903, 'colsample_bytree': 0.5970137693719353, 'min_child_weight': 14, 'gamma': 0.08899203624497067, 'reg_alpha': 26.724459381065618, 'reg_lambda': 1.7743346980529113e-05}. Best is trial 81 with value: 0.8491168474880453.\n",
            "[I 2025-07-03 15:28:11,933] Trial 88 finished with value: 0.8478214355022501 and parameters: {'n_estimators': 2483, 'learning_rate': 0.099117346537889, 'max_depth': 7, 'subsample': 0.5248730505883603, 'colsample_bytree': 0.598516382157455, 'min_child_weight': 14, 'gamma': 0.08952739460249975, 'reg_alpha': 26.41759765778235, 'reg_lambda': 4.151241657342572e-05}. Best is trial 81 with value: 0.8491168474880453.\n",
            "[I 2025-07-03 15:28:20,789] Trial 89 finished with value: 0.8480345730696953 and parameters: {'n_estimators': 2459, 'learning_rate': 0.09792730172196631, 'max_depth': 6, 'subsample': 0.5073606744936051, 'colsample_bytree': 0.5933536492992781, 'min_child_weight': 14, 'gamma': 0.08765077696768242, 'reg_alpha': 26.930352679176316, 'reg_lambda': 1.0085870772539499e-05}. Best is trial 81 with value: 0.8491168474880453.\n",
            "[I 2025-07-03 15:28:27,614] Trial 90 finished with value: 0.8483148862906932 and parameters: {'n_estimators': 2351, 'learning_rate': 0.0983859035302672, 'max_depth': 7, 'subsample': 0.48895528865867227, 'colsample_bytree': 0.5942363150160178, 'min_child_weight': 13, 'gamma': 0.08853773026301939, 'reg_alpha': 25.208939948158285, 'reg_lambda': 2.0500983913456823e-05}. Best is trial 81 with value: 0.8491168474880453.\n",
            "[I 2025-07-03 15:28:36,046] Trial 91 finished with value: 0.8483779152989648 and parameters: {'n_estimators': 2360, 'learning_rate': 0.09889922050603848, 'max_depth': 7, 'subsample': 0.49657992372240534, 'colsample_bytree': 0.5915942899978758, 'min_child_weight': 15, 'gamma': 0.08706961003829054, 'reg_alpha': 29.188592253975724, 'reg_lambda': 2.5442804297476125e-05}. Best is trial 81 with value: 0.8491168474880453.\n",
            "[I 2025-07-03 15:28:44,498] Trial 92 finished with value: 0.848742820083696 and parameters: {'n_estimators': 2329, 'learning_rate': 0.0987220826010923, 'max_depth': 6, 'subsample': 0.4996433686091808, 'colsample_bytree': 0.5961757990292005, 'min_child_weight': 15, 'gamma': 0.08852300535832502, 'reg_alpha': 27.516530770429473, 'reg_lambda': 3.2408763185390995e-05}. Best is trial 81 with value: 0.8491168474880453.\n",
            "[I 2025-07-03 15:28:51,125] Trial 93 finished with value: 0.848234441372241 and parameters: {'n_estimators': 2385, 'learning_rate': 0.09955339940383771, 'max_depth': 6, 'subsample': 0.5028353572176856, 'colsample_bytree': 0.5977239977286873, 'min_child_weight': 14, 'gamma': 0.08851793538973728, 'reg_alpha': 27.142149918759024, 'reg_lambda': 3.4453399815537506e-05}. Best is trial 81 with value: 0.8491168474880453.\n",
            "[I 2025-07-03 15:28:59,805] Trial 94 finished with value: 0.8488240943312042 and parameters: {'n_estimators': 2412, 'learning_rate': 0.09861508125628432, 'max_depth': 6, 'subsample': 0.5000467822313084, 'colsample_bytree': 0.5958613751973967, 'min_child_weight': 15, 'gamma': 0.09033285201965886, 'reg_alpha': 27.55585305636098, 'reg_lambda': 6.621885323337987e-05}. Best is trial 81 with value: 0.8491168474880453.\n",
            "[I 2025-07-03 15:29:09,216] Trial 95 finished with value: 0.8474233575552704 and parameters: {'n_estimators': 2498, 'learning_rate': 0.09915506109705846, 'max_depth': 6, 'subsample': 0.5775393214743424, 'colsample_bytree': 0.5961054801459273, 'min_child_weight': 16, 'gamma': 0.09069351628455961, 'reg_alpha': 26.020599733224145, 'reg_lambda': 6.231441357133485e-05}. Best is trial 81 with value: 0.8491168474880453.\n",
            "[I 2025-07-03 15:29:15,890] Trial 96 finished with value: 0.8487627239810449 and parameters: {'n_estimators': 2409, 'learning_rate': 0.0976117452911882, 'max_depth': 6, 'subsample': 0.49933955346722697, 'colsample_bytree': 0.5950368874837545, 'min_child_weight': 14, 'gamma': 0.09031542183022054, 'reg_alpha': 27.494253706141823, 'reg_lambda': 3.5564212173709795e-05}. Best is trial 81 with value: 0.8491168474880453.\n",
            "[I 2025-07-03 15:29:24,046] Trial 97 finished with value: 0.8487328681350214 and parameters: {'n_estimators': 2234, 'learning_rate': 0.09750065111128228, 'max_depth': 6, 'subsample': 0.5002381643982166, 'colsample_bytree': 0.5987470447142973, 'min_child_weight': 15, 'gamma': 0.09001962908180712, 'reg_alpha': 27.426895106903984, 'reg_lambda': 5.132436128466513e-05}. Best is trial 81 with value: 0.8491168474880453.\n",
            "[I 2025-07-03 15:29:32,740] Trial 98 finished with value: 0.8477791397203834 and parameters: {'n_estimators': 2412, 'learning_rate': 0.09753918760813898, 'max_depth': 16, 'subsample': 0.4922785360039396, 'colsample_bytree': 0.5989687154283933, 'min_child_weight': 13, 'gamma': 0.09013763273342722, 'reg_alpha': 27.49912454815819, 'reg_lambda': 7.080745758260324e-05}. Best is trial 81 with value: 0.8491168474880453.\n",
            "[I 2025-07-03 15:29:39,698] Trial 99 finished with value: 0.8480976020779669 and parameters: {'n_estimators': 2432, 'learning_rate': 0.09707919960228249, 'max_depth': 6, 'subsample': 0.5004567177146211, 'colsample_bytree': 0.6005704098216681, 'min_child_weight': 17, 'gamma': 0.09143551863462498, 'reg_alpha': 26.56353703962553, 'reg_lambda': 5.317952773620175e-05}. Best is trial 81 with value: 0.8491168474880453.\n"
          ]
        }
      ]
    },
    {
      "cell_type": "code",
      "source": [
        "\n",
        "print(\"\\nНастройка гиперпараметров с Optuna завершена.\")\n",
        "print(f\"Лучшая итерация: {study.best_trial.number}\")\n",
        "print(f\"Лучший AUC на тестовой выборке: {study.best_value:.4f}\")\n",
        "print(\"Лучшие гиперпараметры:\")\n",
        "for key, value in study.best_params.items():\n",
        "    print(f\"  {key}: {value}\")\n"
      ],
      "metadata": {
        "colab": {
          "base_uri": "https://localhost:8080/"
        },
        "id": "-HzyjsOjkAXo",
        "outputId": "210ae67a-50cf-46e7-87af-e5883ff4e4c2"
      },
      "execution_count": null,
      "outputs": [
        {
          "output_type": "stream",
          "name": "stdout",
          "text": [
            "\n",
            "Настройка гиперпараметров с Optuna завершена.\n",
            "Лучшая итерация: 81\n",
            "Лучший AUC на тестовой выборке: 0.8491\n",
            "Лучшие гиперпараметры:\n",
            "  n_estimators: 2383\n",
            "  learning_rate: 0.0994997169487844\n",
            "  max_depth: 6\n",
            "  subsample: 0.49724594284396345\n",
            "  colsample_bytree: 0.5958355265237725\n",
            "  min_child_weight: 14\n",
            "  gamma: 0.0876015403793251\n",
            "  reg_alpha: 27.43240791725854\n",
            "  reg_lambda: 3.843083036000798e-05\n"
          ]
        }
      ]
    },
    {
      "cell_type": "markdown",
      "source": [
        "Мы получили хорошее значение метрики ROC_AUC"
      ],
      "metadata": {
        "id": "4k25P5w_pf7r"
      }
    },
    {
      "cell_type": "code",
      "source": [
        "\n",
        "# Обучаем финальную модель с лучшими гиперпараметрами\n",
        "print(\"\\nОбучаем финальную модель XGBoost с лучшими гиперпараметрами...\")\n",
        "best_churn_params = study.best_params\n",
        "final_xgb_churn_model = XGBClassifier(\n",
        "    objective='binary:logistic',\n",
        "    eval_metric='auc',\n",
        "    # use_label_encoder=True,\n",
        "    random_state=42,\n",
        "    n_jobs=-1,\n",
        "    **best_churn_params # Применяем лучшие параметры от Optuna\n",
        ")\n",
        "\n",
        "final_xgb_churn_model.fit(X_train_churn_processed, y_train_churn,\n",
        "                          eval_set=[(X_test_churn_processed, y_test_churn)],\n",
        "                          verbose=False )\n",
        "\n",
        "# Save the trained model\n",
        "joblib.dump(final_xgb_churn_model, \"/tmp/xgb_churn_model.joblib\")\n",
        "print(\"Модель XGBoost для оттока сохранена.\")"
      ],
      "metadata": {
        "colab": {
          "base_uri": "https://localhost:8080/"
        },
        "id": "UK1CglqxvqtD",
        "outputId": "14debf9d-8cee-4fa7-a2cf-69b5a3c0b865"
      },
      "execution_count": null,
      "outputs": [
        {
          "output_type": "stream",
          "name": "stdout",
          "text": [
            "\n",
            "Обучаем финальную модель XGBoost с лучшими гиперпараметрами...\n",
            "Модель XGBoost для оттока сохранена.\n"
          ]
        }
      ]
    },
    {
      "cell_type": "code",
      "source": [
        "\n",
        "print(\"Лучшие параметры:\", study.best_params)"
      ],
      "metadata": {
        "colab": {
          "base_uri": "https://localhost:8080/"
        },
        "id": "gmR5-aJskjcD",
        "outputId": "8a5b705c-b23b-4bd4-946e-6e8ab30b2ea5"
      },
      "execution_count": null,
      "outputs": [
        {
          "output_type": "stream",
          "name": "stdout",
          "text": [
            "Лучшие параметры: {'n_estimators': 2383, 'learning_rate': 0.0994997169487844, 'max_depth': 6, 'subsample': 0.49724594284396345, 'colsample_bytree': 0.5958355265237725, 'min_child_weight': 14, 'gamma': 0.0876015403793251, 'reg_alpha': 27.43240791725854, 'reg_lambda': 3.843083036000798e-05}\n"
          ]
        }
      ]
    },
    {
      "cell_type": "markdown",
      "source": [
        "ЩС"
      ],
      "metadata": {
        "id": "fH7WNbxVplSa"
      }
    },
    {
      "cell_type": "code",
      "source": [
        "# prompt:  графики Optuna\n",
        "\n",
        "# Визуализация результатов Optuna\n",
        "print(\"Генерация графиков Optuna...\")\n",
        "\n",
        "# График истории оптимизации\n",
        "optuna.visualization.plot_optimization_history(study).show()\n",
        "\n",
        "# График параллельных координат\n",
        "optuna.visualization.plot_parallel_coordinate(study).show()\n",
        "\n",
        "# График значимости гиперпараметров\n",
        "optuna.visualization.plot_param_importances(study).show()\n",
        "\n",
        "print(\"Генерация графиков Optuna завершена.\")"
      ],
      "metadata": {
        "id": "Nu9CVcvdNpQQ",
        "colab": {
          "base_uri": "https://localhost:8080/",
          "height": 1000
        },
        "outputId": "d403b2ee-52c4-4720-8399-02a9b08121e5"
      },
      "execution_count": null,
      "outputs": [
        {
          "output_type": "stream",
          "name": "stdout",
          "text": [
            "Генерация графиков Optuna...\n"
          ]
        },
        {
          "output_type": "display_data",
          "data": {
            "text/html": [
              "<html>\n",
              "<head><meta charset=\"utf-8\" /></head>\n",
              "<body>\n",
              "    <div>            <script src=\"https://cdnjs.cloudflare.com/ajax/libs/mathjax/2.7.5/MathJax.js?config=TeX-AMS-MML_SVG\"></script><script type=\"text/javascript\">if (window.MathJax && window.MathJax.Hub && window.MathJax.Hub.Config) {window.MathJax.Hub.Config({SVG: {font: \"STIX-Web\"}});}</script>                <script type=\"text/javascript\">window.PlotlyConfig = {MathJaxConfig: 'local'};</script>\n",
              "        <script charset=\"utf-8\" src=\"https://cdn.plot.ly/plotly-2.35.2.min.js\"></script>                <div id=\"1f75f74c-1edf-4e56-9802-c4c3500a5e53\" class=\"plotly-graph-div\" style=\"height:525px; width:100%;\"></div>            <script type=\"text/javascript\">                                    window.PLOTLYENV=window.PLOTLYENV || {};                                    if (document.getElementById(\"1f75f74c-1edf-4e56-9802-c4c3500a5e53\")) {                    Plotly.newPlot(                        \"1f75f74c-1edf-4e56-9802-c4c3500a5e53\",                        [{\"mode\":\"markers\",\"name\":\"Objective Value\",\"x\":[0,1,2,3,4,5,6,7,8,9,10,11,12,13,14,15,16,17,18,19,20,21,22,23,24,25,26,27,28,29,30,31,32,33,34,35,36,37,38,39,40,41,42,43,44,45,46,47,48,49,50,51,52,53,54,55,56,57,58,59,60,61,62,63,64,65,66,67,68,69,70,71,72,73,74,75,76,77,78,79,80,81,82,83,84,85,86,87,88,89,90,91,92,93,94,95,96,97,98,99],\"y\":[0.8475867353793435,0.8483604993887844,0.8474838985763736,0.8476282018321538,0.8479640800999175,0.8477443079000228,0.8474216988971582,0.8471430443342727,0.8476240551868728,0.848029597095358,0.8476588870072332,0.8485346584905878,0.8478479740320485,0.8466023217896258,0.8478794885361844,0.8478148008698003,0.8482095615005548,0.8484177230936628,0.8477078174215495,0.8483248382393676,0.8475801007468937,0.8475154130805097,0.8482153668039483,0.8480743808643931,0.8482269774107352,0.8484832400891031,0.8484185524227189,0.8480005705783906,0.8481257992658779,0.8483969898672578,0.8485968581698036,0.8482435639918594,0.8489725442322653,0.8487511133742579,0.8480884794583486,0.8476348364646035,0.8484807521019345,0.8476729856011889,0.8480204744757396,0.847753430519641,0.8482982997095689,0.848299129038625,0.8476837668789197,0.8475444395974768,0.8480611115994938,0.8479375415701189,0.8482452226499717,0.8485288531871946,0.8486242260286584,0.8478114835535755,0.8479110030403203,0.847954128151243,0.8475908820246244,0.8482170254620607,0.8487527720323704,0.8475784420887813,0.8486905723531548,0.8486947189984358,0.8484003071834825,0.8477783103913272,0.8477277213188986,0.8487900918398997,0.8489783495356586,0.8487701879425508,0.8486773030882556,0.8483115689744684,0.8484434322944052,0.8484019658415948,0.8482286360688476,0.846502802302881,0.8479010510916458,0.8485985168279159,0.8486366659645013,0.8480063758817842,0.8482137081458359,0.8488680487711832,0.8482692731926016,0.8488033611047989,0.8484683121660914,0.8480544769670441,0.8479549574802994,0.8482560039277023,0.8483082516582434,0.8478230941603624,0.8485752956143421,0.8485139252641827,0.848414405777438,0.8491185061461577,0.8484500669268547,0.8480121811851775,0.8480354023987513,0.8488025317757426,0.849015669343188,0.8484973386830585,0.8486773030882556,0.8487262335025717,0.8488829766941948,0.8484658241789228,0.8483107396454121,0.8483911845638641],\"type\":\"scatter\"},{\"mode\":\"lines\",\"name\":\"Best Value\",\"x\":[0,1,2,3,4,5,6,7,8,9,10,11,12,13,14,15,16,17,18,19,20,21,22,23,24,25,26,27,28,29,30,31,32,33,34,35,36,37,38,39,40,41,42,43,44,45,46,47,48,49,50,51,52,53,54,55,56,57,58,59,60,61,62,63,64,65,66,67,68,69,70,71,72,73,74,75,76,77,78,79,80,81,82,83,84,85,86,87,88,89,90,91,92,93,94,95,96,97,98,99],\"y\":[0.8475867353793435,0.8483604993887844,0.8483604993887844,0.8483604993887844,0.8483604993887844,0.8483604993887844,0.8483604993887844,0.8483604993887844,0.8483604993887844,0.8483604993887844,0.8483604993887844,0.8485346584905878,0.8485346584905878,0.8485346584905878,0.8485346584905878,0.8485346584905878,0.8485346584905878,0.8485346584905878,0.8485346584905878,0.8485346584905878,0.8485346584905878,0.8485346584905878,0.8485346584905878,0.8485346584905878,0.8485346584905878,0.8485346584905878,0.8485346584905878,0.8485346584905878,0.8485346584905878,0.8485346584905878,0.8485968581698036,0.8485968581698036,0.8489725442322653,0.8489725442322653,0.8489725442322653,0.8489725442322653,0.8489725442322653,0.8489725442322653,0.8489725442322653,0.8489725442322653,0.8489725442322653,0.8489725442322653,0.8489725442322653,0.8489725442322653,0.8489725442322653,0.8489725442322653,0.8489725442322653,0.8489725442322653,0.8489725442322653,0.8489725442322653,0.8489725442322653,0.8489725442322653,0.8489725442322653,0.8489725442322653,0.8489725442322653,0.8489725442322653,0.8489725442322653,0.8489725442322653,0.8489725442322653,0.8489725442322653,0.8489725442322653,0.8489725442322653,0.8489783495356586,0.8489783495356586,0.8489783495356586,0.8489783495356586,0.8489783495356586,0.8489783495356586,0.8489783495356586,0.8489783495356586,0.8489783495356586,0.8489783495356586,0.8489783495356586,0.8489783495356586,0.8489783495356586,0.8489783495356586,0.8489783495356586,0.8489783495356586,0.8489783495356586,0.8489783495356586,0.8489783495356586,0.8489783495356586,0.8489783495356586,0.8489783495356586,0.8489783495356586,0.8489783495356586,0.8489783495356586,0.8491185061461577,0.8491185061461577,0.8491185061461577,0.8491185061461577,0.8491185061461577,0.8491185061461577,0.8491185061461577,0.8491185061461577,0.8491185061461577,0.8491185061461577,0.8491185061461577,0.8491185061461577,0.8491185061461577],\"type\":\"scatter\"},{\"marker\":{\"color\":\"#cccccc\"},\"mode\":\"markers\",\"name\":\"Infeasible Trial\",\"showlegend\":false,\"x\":[],\"y\":[],\"type\":\"scatter\"}],                        {\"title\":{\"text\":\"Optimization History Plot\"},\"xaxis\":{\"title\":{\"text\":\"Trial\"}},\"yaxis\":{\"title\":{\"text\":\"Objective Value\"}},\"template\":{\"data\":{\"histogram2dcontour\":[{\"type\":\"histogram2dcontour\",\"colorbar\":{\"outlinewidth\":0,\"ticks\":\"\"},\"colorscale\":[[0.0,\"#0d0887\"],[0.1111111111111111,\"#46039f\"],[0.2222222222222222,\"#7201a8\"],[0.3333333333333333,\"#9c179e\"],[0.4444444444444444,\"#bd3786\"],[0.5555555555555556,\"#d8576b\"],[0.6666666666666666,\"#ed7953\"],[0.7777777777777778,\"#fb9f3a\"],[0.8888888888888888,\"#fdca26\"],[1.0,\"#f0f921\"]]}],\"choropleth\":[{\"type\":\"choropleth\",\"colorbar\":{\"outlinewidth\":0,\"ticks\":\"\"}}],\"histogram2d\":[{\"type\":\"histogram2d\",\"colorbar\":{\"outlinewidth\":0,\"ticks\":\"\"},\"colorscale\":[[0.0,\"#0d0887\"],[0.1111111111111111,\"#46039f\"],[0.2222222222222222,\"#7201a8\"],[0.3333333333333333,\"#9c179e\"],[0.4444444444444444,\"#bd3786\"],[0.5555555555555556,\"#d8576b\"],[0.6666666666666666,\"#ed7953\"],[0.7777777777777778,\"#fb9f3a\"],[0.8888888888888888,\"#fdca26\"],[1.0,\"#f0f921\"]]}],\"heatmap\":[{\"type\":\"heatmap\",\"colorbar\":{\"outlinewidth\":0,\"ticks\":\"\"},\"colorscale\":[[0.0,\"#0d0887\"],[0.1111111111111111,\"#46039f\"],[0.2222222222222222,\"#7201a8\"],[0.3333333333333333,\"#9c179e\"],[0.4444444444444444,\"#bd3786\"],[0.5555555555555556,\"#d8576b\"],[0.6666666666666666,\"#ed7953\"],[0.7777777777777778,\"#fb9f3a\"],[0.8888888888888888,\"#fdca26\"],[1.0,\"#f0f921\"]]}],\"heatmapgl\":[{\"type\":\"heatmapgl\",\"colorbar\":{\"outlinewidth\":0,\"ticks\":\"\"},\"colorscale\":[[0.0,\"#0d0887\"],[0.1111111111111111,\"#46039f\"],[0.2222222222222222,\"#7201a8\"],[0.3333333333333333,\"#9c179e\"],[0.4444444444444444,\"#bd3786\"],[0.5555555555555556,\"#d8576b\"],[0.6666666666666666,\"#ed7953\"],[0.7777777777777778,\"#fb9f3a\"],[0.8888888888888888,\"#fdca26\"],[1.0,\"#f0f921\"]]}],\"contourcarpet\":[{\"type\":\"contourcarpet\",\"colorbar\":{\"outlinewidth\":0,\"ticks\":\"\"}}],\"contour\":[{\"type\":\"contour\",\"colorbar\":{\"outlinewidth\":0,\"ticks\":\"\"},\"colorscale\":[[0.0,\"#0d0887\"],[0.1111111111111111,\"#46039f\"],[0.2222222222222222,\"#7201a8\"],[0.3333333333333333,\"#9c179e\"],[0.4444444444444444,\"#bd3786\"],[0.5555555555555556,\"#d8576b\"],[0.6666666666666666,\"#ed7953\"],[0.7777777777777778,\"#fb9f3a\"],[0.8888888888888888,\"#fdca26\"],[1.0,\"#f0f921\"]]}],\"surface\":[{\"type\":\"surface\",\"colorbar\":{\"outlinewidth\":0,\"ticks\":\"\"},\"colorscale\":[[0.0,\"#0d0887\"],[0.1111111111111111,\"#46039f\"],[0.2222222222222222,\"#7201a8\"],[0.3333333333333333,\"#9c179e\"],[0.4444444444444444,\"#bd3786\"],[0.5555555555555556,\"#d8576b\"],[0.6666666666666666,\"#ed7953\"],[0.7777777777777778,\"#fb9f3a\"],[0.8888888888888888,\"#fdca26\"],[1.0,\"#f0f921\"]]}],\"mesh3d\":[{\"type\":\"mesh3d\",\"colorbar\":{\"outlinewidth\":0,\"ticks\":\"\"}}],\"scatter\":[{\"fillpattern\":{\"fillmode\":\"overlay\",\"size\":10,\"solidity\":0.2},\"type\":\"scatter\"}],\"parcoords\":[{\"type\":\"parcoords\",\"line\":{\"colorbar\":{\"outlinewidth\":0,\"ticks\":\"\"}}}],\"scatterpolargl\":[{\"type\":\"scatterpolargl\",\"marker\":{\"colorbar\":{\"outlinewidth\":0,\"ticks\":\"\"}}}],\"bar\":[{\"error_x\":{\"color\":\"#2a3f5f\"},\"error_y\":{\"color\":\"#2a3f5f\"},\"marker\":{\"line\":{\"color\":\"#E5ECF6\",\"width\":0.5},\"pattern\":{\"fillmode\":\"overlay\",\"size\":10,\"solidity\":0.2}},\"type\":\"bar\"}],\"scattergeo\":[{\"type\":\"scattergeo\",\"marker\":{\"colorbar\":{\"outlinewidth\":0,\"ticks\":\"\"}}}],\"scatterpolar\":[{\"type\":\"scatterpolar\",\"marker\":{\"colorbar\":{\"outlinewidth\":0,\"ticks\":\"\"}}}],\"histogram\":[{\"marker\":{\"pattern\":{\"fillmode\":\"overlay\",\"size\":10,\"solidity\":0.2}},\"type\":\"histogram\"}],\"scattergl\":[{\"type\":\"scattergl\",\"marker\":{\"colorbar\":{\"outlinewidth\":0,\"ticks\":\"\"}}}],\"scatter3d\":[{\"type\":\"scatter3d\",\"line\":{\"colorbar\":{\"outlinewidth\":0,\"ticks\":\"\"}},\"marker\":{\"colorbar\":{\"outlinewidth\":0,\"ticks\":\"\"}}}],\"scattermapbox\":[{\"type\":\"scattermapbox\",\"marker\":{\"colorbar\":{\"outlinewidth\":0,\"ticks\":\"\"}}}],\"scatterternary\":[{\"type\":\"scatterternary\",\"marker\":{\"colorbar\":{\"outlinewidth\":0,\"ticks\":\"\"}}}],\"scattercarpet\":[{\"type\":\"scattercarpet\",\"marker\":{\"colorbar\":{\"outlinewidth\":0,\"ticks\":\"\"}}}],\"carpet\":[{\"aaxis\":{\"endlinecolor\":\"#2a3f5f\",\"gridcolor\":\"white\",\"linecolor\":\"white\",\"minorgridcolor\":\"white\",\"startlinecolor\":\"#2a3f5f\"},\"baxis\":{\"endlinecolor\":\"#2a3f5f\",\"gridcolor\":\"white\",\"linecolor\":\"white\",\"minorgridcolor\":\"white\",\"startlinecolor\":\"#2a3f5f\"},\"type\":\"carpet\"}],\"table\":[{\"cells\":{\"fill\":{\"color\":\"#EBF0F8\"},\"line\":{\"color\":\"white\"}},\"header\":{\"fill\":{\"color\":\"#C8D4E3\"},\"line\":{\"color\":\"white\"}},\"type\":\"table\"}],\"barpolar\":[{\"marker\":{\"line\":{\"color\":\"#E5ECF6\",\"width\":0.5},\"pattern\":{\"fillmode\":\"overlay\",\"size\":10,\"solidity\":0.2}},\"type\":\"barpolar\"}],\"pie\":[{\"automargin\":true,\"type\":\"pie\"}]},\"layout\":{\"autotypenumbers\":\"strict\",\"colorway\":[\"#636efa\",\"#EF553B\",\"#00cc96\",\"#ab63fa\",\"#FFA15A\",\"#19d3f3\",\"#FF6692\",\"#B6E880\",\"#FF97FF\",\"#FECB52\"],\"font\":{\"color\":\"#2a3f5f\"},\"hovermode\":\"closest\",\"hoverlabel\":{\"align\":\"left\"},\"paper_bgcolor\":\"white\",\"plot_bgcolor\":\"#E5ECF6\",\"polar\":{\"bgcolor\":\"#E5ECF6\",\"angularaxis\":{\"gridcolor\":\"white\",\"linecolor\":\"white\",\"ticks\":\"\"},\"radialaxis\":{\"gridcolor\":\"white\",\"linecolor\":\"white\",\"ticks\":\"\"}},\"ternary\":{\"bgcolor\":\"#E5ECF6\",\"aaxis\":{\"gridcolor\":\"white\",\"linecolor\":\"white\",\"ticks\":\"\"},\"baxis\":{\"gridcolor\":\"white\",\"linecolor\":\"white\",\"ticks\":\"\"},\"caxis\":{\"gridcolor\":\"white\",\"linecolor\":\"white\",\"ticks\":\"\"}},\"coloraxis\":{\"colorbar\":{\"outlinewidth\":0,\"ticks\":\"\"}},\"colorscale\":{\"sequential\":[[0.0,\"#0d0887\"],[0.1111111111111111,\"#46039f\"],[0.2222222222222222,\"#7201a8\"],[0.3333333333333333,\"#9c179e\"],[0.4444444444444444,\"#bd3786\"],[0.5555555555555556,\"#d8576b\"],[0.6666666666666666,\"#ed7953\"],[0.7777777777777778,\"#fb9f3a\"],[0.8888888888888888,\"#fdca26\"],[1.0,\"#f0f921\"]],\"sequentialminus\":[[0.0,\"#0d0887\"],[0.1111111111111111,\"#46039f\"],[0.2222222222222222,\"#7201a8\"],[0.3333333333333333,\"#9c179e\"],[0.4444444444444444,\"#bd3786\"],[0.5555555555555556,\"#d8576b\"],[0.6666666666666666,\"#ed7953\"],[0.7777777777777778,\"#fb9f3a\"],[0.8888888888888888,\"#fdca26\"],[1.0,\"#f0f921\"]],\"diverging\":[[0,\"#8e0152\"],[0.1,\"#c51b7d\"],[0.2,\"#de77ae\"],[0.3,\"#f1b6da\"],[0.4,\"#fde0ef\"],[0.5,\"#f7f7f7\"],[0.6,\"#e6f5d0\"],[0.7,\"#b8e186\"],[0.8,\"#7fbc41\"],[0.9,\"#4d9221\"],[1,\"#276419\"]]},\"xaxis\":{\"gridcolor\":\"white\",\"linecolor\":\"white\",\"ticks\":\"\",\"title\":{\"standoff\":15},\"zerolinecolor\":\"white\",\"automargin\":true,\"zerolinewidth\":2},\"yaxis\":{\"gridcolor\":\"white\",\"linecolor\":\"white\",\"ticks\":\"\",\"title\":{\"standoff\":15},\"zerolinecolor\":\"white\",\"automargin\":true,\"zerolinewidth\":2},\"scene\":{\"xaxis\":{\"backgroundcolor\":\"#E5ECF6\",\"gridcolor\":\"white\",\"linecolor\":\"white\",\"showbackground\":true,\"ticks\":\"\",\"zerolinecolor\":\"white\",\"gridwidth\":2},\"yaxis\":{\"backgroundcolor\":\"#E5ECF6\",\"gridcolor\":\"white\",\"linecolor\":\"white\",\"showbackground\":true,\"ticks\":\"\",\"zerolinecolor\":\"white\",\"gridwidth\":2},\"zaxis\":{\"backgroundcolor\":\"#E5ECF6\",\"gridcolor\":\"white\",\"linecolor\":\"white\",\"showbackground\":true,\"ticks\":\"\",\"zerolinecolor\":\"white\",\"gridwidth\":2}},\"shapedefaults\":{\"line\":{\"color\":\"#2a3f5f\"}},\"annotationdefaults\":{\"arrowcolor\":\"#2a3f5f\",\"arrowhead\":0,\"arrowwidth\":1},\"geo\":{\"bgcolor\":\"white\",\"landcolor\":\"#E5ECF6\",\"subunitcolor\":\"white\",\"showland\":true,\"showlakes\":true,\"lakecolor\":\"white\"},\"title\":{\"x\":0.05},\"mapbox\":{\"style\":\"light\"}}}},                        {\"responsive\": true}                    ).then(function(){\n",
              "                            \n",
              "var gd = document.getElementById('1f75f74c-1edf-4e56-9802-c4c3500a5e53');\n",
              "var x = new MutationObserver(function (mutations, observer) {{\n",
              "        var display = window.getComputedStyle(gd).display;\n",
              "        if (!display || display === 'none') {{\n",
              "            console.log([gd, 'removed!']);\n",
              "            Plotly.purge(gd);\n",
              "            observer.disconnect();\n",
              "        }}\n",
              "}});\n",
              "\n",
              "// Listen for the removal of the full notebook cells\n",
              "var notebookContainer = gd.closest('#notebook-container');\n",
              "if (notebookContainer) {{\n",
              "    x.observe(notebookContainer, {childList: true});\n",
              "}}\n",
              "\n",
              "// Listen for the clearing of the current output cell\n",
              "var outputEl = gd.closest('.output');\n",
              "if (outputEl) {{\n",
              "    x.observe(outputEl, {childList: true});\n",
              "}}\n",
              "\n",
              "                        })                };                            </script>        </div>\n",
              "</body>\n",
              "</html>"
            ]
          },
          "metadata": {}
        },
        {
          "output_type": "display_data",
          "data": {
            "text/html": [
              "<html>\n",
              "<head><meta charset=\"utf-8\" /></head>\n",
              "<body>\n",
              "    <div>            <script src=\"https://cdnjs.cloudflare.com/ajax/libs/mathjax/2.7.5/MathJax.js?config=TeX-AMS-MML_SVG\"></script><script type=\"text/javascript\">if (window.MathJax && window.MathJax.Hub && window.MathJax.Hub.Config) {window.MathJax.Hub.Config({SVG: {font: \"STIX-Web\"}});}</script>                <script type=\"text/javascript\">window.PlotlyConfig = {MathJaxConfig: 'local'};</script>\n",
              "        <script charset=\"utf-8\" src=\"https://cdn.plot.ly/plotly-2.35.2.min.js\"></script>                <div id=\"597519eb-5ca3-4084-a0e5-94ad1673f041\" class=\"plotly-graph-div\" style=\"height:525px; width:100%;\"></div>            <script type=\"text/javascript\">                                    window.PLOTLYENV=window.PLOTLYENV || {};                                    if (document.getElementById(\"597519eb-5ca3-4084-a0e5-94ad1673f041\")) {                    Plotly.newPlot(                        \"597519eb-5ca3-4084-a0e5-94ad1673f041\",                        [{\"dimensions\":[{\"label\":\"Objective Value\",\"range\":[0.846502802302881,0.8491185061461577],\"values\":[0.8475867353793435,0.8483604993887844,0.8474838985763736,0.8476282018321538,0.8479640800999175,0.8477443079000228,0.8474216988971582,0.8471430443342727,0.8476240551868728,0.848029597095358,0.8476588870072332,0.8485346584905878,0.8478479740320485,0.8466023217896258,0.8478794885361844,0.8478148008698003,0.8482095615005548,0.8484177230936628,0.8477078174215495,0.8483248382393676,0.8475801007468937,0.8475154130805097,0.8482153668039483,0.8480743808643931,0.8482269774107352,0.8484832400891031,0.8484185524227189,0.8480005705783906,0.8481257992658779,0.8483969898672578,0.8485968581698036,0.8482435639918594,0.8489725442322653,0.8487511133742579,0.8480884794583486,0.8476348364646035,0.8484807521019345,0.8476729856011889,0.8480204744757396,0.847753430519641,0.8482982997095689,0.848299129038625,0.8476837668789197,0.8475444395974768,0.8480611115994938,0.8479375415701189,0.8482452226499717,0.8485288531871946,0.8486242260286584,0.8478114835535755,0.8479110030403203,0.847954128151243,0.8475908820246244,0.8482170254620607,0.8487527720323704,0.8475784420887813,0.8486905723531548,0.8486947189984358,0.8484003071834825,0.8477783103913272,0.8477277213188986,0.8487900918398997,0.8489783495356586,0.8487701879425508,0.8486773030882556,0.8483115689744684,0.8484434322944052,0.8484019658415948,0.8482286360688476,0.846502802302881,0.8479010510916458,0.8485985168279159,0.8486366659645013,0.8480063758817842,0.8482137081458359,0.8488680487711832,0.8482692731926016,0.8488033611047989,0.8484683121660914,0.8480544769670441,0.8479549574802994,0.8482560039277023,0.8483082516582434,0.8478230941603624,0.8485752956143421,0.8485139252641827,0.848414405777438,0.8491185061461577,0.8484500669268547,0.8480121811851775,0.8480354023987513,0.8488025317757426,0.849015669343188,0.8484973386830585,0.8486773030882556,0.8487262335025717,0.8488829766941948,0.8484658241789228,0.8483107396454121,0.8483911845638641]},{\"label\":\"colsample_bytree\",\"range\":[0.590129178164654,0.6198953942897522],\"values\":[0.5978225518918112,0.5952845563427231,0.5995334597483175,0.6077588560346204,0.5990976822441556,0.5982187140435887,0.6065409001728569,0.6070377460485523,0.5930503695634194,0.601346549380176,0.6157545223085894,0.594593733522923,0.5905560637297586,0.5937319594978269,0.6124991121641411,0.5947348058891831,0.6037285788863486,0.5915878282049823,0.5908272295467382,0.6110130389309993,0.6198953942897522,0.5949384480349106,0.5962879319712738,0.5901516388548232,0.6025943237382206,0.5961906017228085,0.5925333101657256,0.6005528239383551,0.5924865936789443,0.5971393564325612,0.5972349717228179,0.5972259398945094,0.5957513215169136,0.5960814445363993,0.599762303928456,0.598227293318638,0.59423049752834,0.6017538208090152,0.6051068300793567,0.5986896815054507,0.5959602857117402,0.5959944091862249,0.5994056403664403,0.5970172395185193,0.5932569562879882,0.5951253343918252,0.600516866672204,0.591780525934847,0.5917657007927821,0.5935829262613295,0.5919056968802063,0.5911551853155599,0.593816309664421,0.5918541480168173,0.5945729957062291,0.6086790426871892,0.5953712468731711,0.5979091790959438,0.5948354620127407,0.5985245768503397,0.590129178164654,0.5972985153980074,0.5952726555707104,0.5960691013595059,0.5977238983970669,0.5964142645790017,0.6000423520557252,0.5941650351514962,0.5979853627833798,0.6021575168257128,0.5952971463661935,0.5953598000875708,0.5966306158065506,0.5928288798213553,0.5989957604657621,0.595800328662524,0.6033648245888745,0.5976002217705257,0.6163185136907665,0.5943212157263579,0.601051303121708,0.5976427920806059,0.5962219210956393,0.5959022838011374,0.5968582725659072,0.5988665921030418,0.5929886807751205,0.5976662667522791,0.5946093740780828,0.5956691211728526,0.5971736520592836,0.5982072307972023,0.5993083373650278,0.600175866338817,0.5994882560728295,0.5983960188808448,0.5974908500988745,0.6009518704886092,0.5974574317509049,0.5990640246255854]},{\"label\":\"gamma\",\"range\":[0.0800141860980913,0.0999905343643998],\"values\":[0.09627065321891087,0.09692718585964337,0.08693060578839726,0.09645167514865059,0.09226599478990952,0.09242885707810794,0.08536430810396324,0.09269648761523608,0.08297936043096779,0.09513208309564262,0.09912636572560067,0.0996270387948307,0.0999905343643998,0.09768264860829251,0.0800141860980913,0.08941541616822844,0.09971717591082875,0.09523635315515905,0.09419702747106502,0.09419123250253106,0.09093481580277044,0.09781671331530392,0.09752853293529462,0.09555612757788509,0.09799550781519561,0.08901397214349198,0.08863028545322256,0.08800871412211843,0.08551223920118928,0.08947294391483476,0.08814789911065062,0.0881365433763068,0.09099536309800778,0.08633816164733056,0.08625232756245123,0.08372296578252604,0.09089193856692221,0.08392543258222324,0.08725906572276543,0.08200720821122563,0.09093428241883031,0.08658830800781893,0.08521724472772749,0.09177407853859743,0.08991090122022272,0.08763831948595373,0.09292457672813513,0.0845340258409079,0.08131048995871387,0.08011775509171645,0.08152206400733604,0.08419648516188613,0.0824506441629997,0.08099519521063658,0.08602482370460161,0.08578230938043119,0.08332927285019383,0.08471582212668707,0.08308433497157634,0.08478838588135194,0.08305560260391055,0.0871197394416913,0.08693313546275162,0.08682444130816673,0.08640252138400582,0.08711999706300352,0.08576405347379296,0.08718380500865501,0.08494908886284666,0.08899663658155807,0.08608225562194699,0.08340607672427577,0.0867060348573222,0.08842504603739686,0.08425757257156145,0.08761802482816247,0.08544463341440268,0.08781052520829358,0.08769809206273001,0.08996744241144701,0.08870398008383445,0.08754277760435077,0.08681054440765484,0.09055021175788856,0.08598369298598546,0.08922365934405833,0.08791288748808367,0.08532710002089249,0.08660674971213415,0.09206435139620836,0.08519587487696667,0.08708471856919806,0.08737442043669649,0.08830167432257847,0.08730596577641582,0.08963227326399154,0.08700903141945493,0.09045320003245881,0.09155128150484389,0.08695220823279984]},{\"label\":\"learning_rate\",\"range\":[-1.0456565926998005,-1.0000388344944235],\"ticktext\":[\"0.09\",\"0.1\"],\"tickvals\":[-1.0456565926998005,-1.0000388344944235],\"values\":[-1.0017198819226214,-1.0206943764896206,-1.033159368116436,-1.0008936811844036,-1.0420200138075806,-1.0098493354935685,-1.0395313198406502,-1.034988470023821,-1.0375551550427875,-1.0016843876050465,-1.0214296159192926,-1.0174560958601948,-1.020923329997483,-1.0124527348696508,-1.0270243187627397,-1.0145464640614175,-1.0261117779166324,-1.0160943528566817,-1.007422799900454,-1.017239384110311,-1.0296296042971766,-1.0179606315964005,-1.0239475471978885,-1.0073235805460132,-1.0165046302625402,-1.0196296960322582,-1.0099821543518417,-1.0108447137835435,-1.0059550736453604,-1.004312866450609,-1.0134674653386644,-1.0132174177381699,-1.0100989728100216,-1.0183579884978486,-1.023314478629669,-1.0456565926998005,-1.013346376581532,-1.0183741019020616,-1.0034589951114878,-1.0096545246539148,-1.0115144030595455,-1.019087378501571,-1.015523333433649,-1.020006444675385,-1.0221653847180268,-1.026237428442174,-1.0299210763694502,-1.0142184225576738,-1.0082293199789365,-1.0077600113274583,-1.0010007755604076,-1.0144731453925913,-1.0086718693030523,-1.011963909089411,-1.0054372498716644,-1.0052220675734649,-1.00627166674548,-1.0034033937231128,-1.0028353099296063,-1.0058208955757701,-1.0001277249805665,-1.0023045668106048,-1.0037762791151148,-1.0024128150294576,-1.0023040705889268,-1.003626973605968,-1.001646156493051,-1.0050725492652766,-1.0040800365911184,-1.0013628562475156,-1.0000388344944235,-1.0066108716979982,-1.006556879715041,-1.0025804452542533,-1.0047256816190575,-1.0088524181099765,-1.0097073709565423,-1.00350377343869,-1.0109725712849706,-1.0078082579721344,-1.0093439080100681,-1.0036477981415375,-1.0028897002932664,-1.0048536224713696,-1.001264556892215,-1.002296142970881,-1.0070519929386297,-1.0086191291783855,-1.0085910620092726,-1.0336393377321302,-1.0102121451764465,-1.0059084316796647,-1.0058786786557854,-1.0057988896359993,-1.0043535274215063,-1.0070237140812694,-1.0056460402188208,-1.0088002966421834,-1.0121846440879754,-1.0074171256555287]},{\"label\":\"max_depth\",\"range\":[6,16],\"values\":[8,10,12,9,6,6,13,11,14,7,15,9,10,10,9,11,16,8,8,8,7,10,9,12,7,9,9,9,12,9,11,11,10,10,13,11,12,10,13,11,10,9,10,8,11,10,10,7,6,12,6,6,7,6,7,6,7,8,8,7,7,6,6,8,8,6,8,8,7,7,6,7,6,7,8,7,9,8,14,6,7,8,9,8,8,9,16,7,7,6,6,7,7,7,6,7,7,7,6,7]},{\"label\":\"min_child_weight\",\"range\":[10,20],\"values\":[15,13,15,18,18,19,19,12,15,16,10,12,12,12,10,13,13,13,11,14,11,13,14,14,16,11,11,11,10,11,12,12,11,10,10,12,10,12,16,20,17,11,11,10,12,10,11,14,14,15,13,14,15,14,12,12,13,13,13,13,13,12,13,12,12,12,11,12,11,10,13,12,13,13,13,12,11,11,11,10,12,12,11,11,12,10,12,11,10,11,11,12,11,11,12,12,11,11,11,11]},{\"label\":\"n_estimators\",\"range\":[2001,2497],\"values\":[2312,2022,2360,2254,2164,2497,2254,2122,2486,2422,2050,2005,2012,2098,2020,2181,2095,2001,2183,2077,2139,2003,2050,2052,2003,2221,2218,2304,2217,2324,2228,2222,2292,2284,2294,2369,2341,2275,2395,2271,2433,2232,2254,2198,2147,2344,2282,2315,2317,2460,2377,2307,2329,2399,2246,2243,2350,2261,2268,2355,2291,2253,2265,2193,2199,2253,2243,2200,2168,2266,2284,2295,2260,2235,2332,2211,2208,2162,2181,2138,2163,2213,2188,2113,2233,2249,2157,2301,2303,2274,2281,2260,2180,2187,2132,2174,2220,2224,2199,2151]},{\"label\":\"reg_alpha\",\"range\":[20.031763849023495,32.76329091660539],\"values\":[23.79482920739249,26.64000823080019,24.26515312745208,28.16091519802796,30.9648560732172,30.164456431023353,23.81314146975183,22.09860262143469,32.16030619788683,29.484455684523617,26.736422703269383,28.487092902187438,26.708606559933052,20.031763849023495,28.571820622201237,25.6598654470349,32.76329091660539,27.7906053151707,27.756226739610344,31.15423391513286,29.1030077846423,24.912101757483608,27.48562100347521,25.696024774406258,27.099940207638937,29.139711815798915,30.038238502346264,30.19677586687297,31.326932839314033,29.449428737158666,28.88037181033493,30.168724448628456,29.09597986937576,28.769403761154322,28.445954788999153,25.983176218825708,28.604689858996874,31.048848434535188,31.859963126781295,28.051456187681637,29.7574970530654,28.935455579396994,29.11202514987282,27.296467290568224,30.635823652349128,28.1981824901138,30.619681765025565,29.492517652867786,26.449308178717786,24.776770299099454,26.225698520480098,26.58713474710103,23.427530002574237,26.972211439321846,27.735267353607412,27.838295458489963,28.693378363706735,27.52473699679453,25.144369158699966,27.540979815620382,26.445052102710154,28.246225936311294,28.19884393584584,28.173800501972604,28.136657389929333,27.31908987217937,28.178926033761687,26.99013070359816,27.7847028137807,20.29212778871719,29.680238567215145,28.614658210095364,28.69927984824982,29.267256113041814,28.24772827514094,29.912091420365506,27.51160209332779,29.78189072108573,30.496891628082526,29.78855036970075,31.424712903753534,29.97548911577033,27.900278654910185,29.002717124928857,29.38794355890436,28.470280853661674,30.19068343138599,28.882831581634914,28.945117672821176,29.37063904422662,30.760472508399943,28.375770913526107,28.47512051900406,28.34973053084581,30.3945597414067,29.562576623456373,27.993003002792165,29.914940816916054,29.089872856630016,27.171498316649146]},{\"label\":\"reg_lambda\",\"range\":[-4.993019585180514,-2.002127018249454],\"ticktext\":[\"1.02e-05\",\"0.0001\",\"0.001\",\"0.00995\"],\"tickvals\":[-4.993019585180514,-4,-3,-2.002127018249454],\"values\":[-2.6756923870830187,-3.4884883259343242,-4.3244901154533215,-4.003617807399897,-2.610849149371627,-3.5684527390508367,-2.3417898357386684,-3.995131600142922,-3.4759220223154816,-3.8020030362009996,-4.945220938060196,-3.2203999974998254,-3.128808943946299,-3.0775432753022454,-3.1058560075966595,-2.0820613805207517,-4.506184308039077,-3.405572988834351,-2.7259763737290394,-3.265349830134963,-2.878267355580883,-3.5117912038643118,-3.797654645875783,-3.376722118810671,-3.7113474140726055,-2.9054181019766574,-2.3908827785736935,-2.232351945378879,-2.4426669922211084,-2.848785926854845,-2.007065030867575,-2.002127018249454,-2.5107368521349804,-2.5559469743220022,-2.546239313628122,-2.1616489013641735,-2.691999004779894,-2.2421442462742225,-2.4738457436628405,-2.66716321339385,-2.3450965898236245,-2.924890365218569,-3.0047662157902955,-3.246309271482102,-2.8446845092780118,-2.514599975732074,-3.2234978461148818,-2.7612095459225405,-2.6173724153074853,-2.115247555686215,-2.241778859486023,-2.600831456511791,-2.708460293977726,-2.7541432047826695,-3.056424625594304,-3.0572148032736672,-4.072404564479306,-3.993591561708334,-4.019594091843378,-4.283149184059873,-4.198385301775125,-4.447052021244786,-4.615744774555316,-4.569161771366389,-4.525905088334253,-4.8660392323737,-4.622097093713401,-4.818517942299018,-4.371758217707537,-4.718375655433675,-4.418751754035151,-4.071810365993256,-3.8754754083269973,-4.255031910205766,-3.612717740816737,-4.48744643113625,-4.993019585180514,-4.607192006972067,-4.588661178243028,-4.710510069838492,-4.459004031530003,-4.75943443726334,-4.6315999564659505,-4.177076778365083,-4.570225304952091,-4.884434902532892,-4.463271244760724,-4.334398906522981,-4.351522806302992,-4.66477250658021,-4.529913062433791,-4.4073117476206285,-4.379827880732381,-4.414699263078204,-4.299940258979699,-4.794873814827667,-4.197297990590889,-4.2293528546289485,-4.113957875366343,-4.485499906906967]},{\"label\":\"subsample\",\"range\":[0.45446405124596556,0.5985055086423725],\"values\":[0.5646323188934086,0.48820585776775827,0.5238939431747547,0.4921158888969852,0.5566420972339842,0.5463479857607537,0.48957534405151937,0.5634433030675026,0.5389080807473349,0.5898469182180279,0.46052156246183384,0.5883259836198096,0.5954513576100239,0.5065486586279849,0.45446405124596556,0.4819400422163515,0.5123192140965316,0.5796317840110472,0.5786590891872813,0.57855787238742,0.5985055086423725,0.5358503083146522,0.5814956414955387,0.46657337487384704,0.4739350388899413,0.5076062574546278,0.5048156474119201,0.5029294636800652,0.5263915492090881,0.5134738269492399,0.5219938711967866,0.5234836471500174,0.49813435772386294,0.49708154770296786,0.4938199745194427,0.5196698218633321,0.49496343706045587,0.4832845316772294,0.5511141886174904,0.5349579736619383,0.4985341909032869,0.5140710829130386,0.4777254996283977,0.5279992039499277,0.5654449461339291,0.4879166544979389,0.5437469082502868,0.5103481089192221,0.49802759532546664,0.49873964719418884,0.4705691136440322,0.5175464440141045,0.4845997725601633,0.5096297532769045,0.5011184937530918,0.49212125654102096,0.5007140576580537,0.5005922194235907,0.5001107868335412,0.4883982372432778,0.48089544145946117,0.5039674817356478,0.5037206921555935,0.5032685118810104,0.5066185038060647,0.5153631193383069,0.5036497011716519,0.48978279991000373,0.4957813675196607,0.5316232282097999,0.47823276104270523,0.5045790929249987,0.5022721413900423,0.4931141011931759,0.5090750347966861,0.5007251504361532,0.4884448681183084,0.5190645813356352,0.5178768526370862,0.5106122901679715,0.5219075140402744,0.5052891299921549,0.495768848756535,0.48541805623109446,0.515885339615544,0.5124136310291206,0.49633862479380064,0.5013332683726727,0.5076800942847868,0.5281911258832133,0.4919769568512489,0.5013060927844598,0.5024509315988298,0.504189024511803,0.5007975759435193,0.5115502521937939,0.5192119699258844,0.5193999594825286,0.5238953821861353,0.5147618991512779]}],\"labelangle\":30,\"labelside\":\"bottom\",\"line\":{\"color\":[0.8475867353793435,0.8483604993887844,0.8474838985763736,0.8476282018321538,0.8479640800999175,0.8477443079000228,0.8474216988971582,0.8471430443342727,0.8476240551868728,0.848029597095358,0.8476588870072332,0.8485346584905878,0.8478479740320485,0.8466023217896258,0.8478794885361844,0.8478148008698003,0.8482095615005548,0.8484177230936628,0.8477078174215495,0.8483248382393676,0.8475801007468937,0.8475154130805097,0.8482153668039483,0.8480743808643931,0.8482269774107352,0.8484832400891031,0.8484185524227189,0.8480005705783906,0.8481257992658779,0.8483969898672578,0.8485968581698036,0.8482435639918594,0.8489725442322653,0.8487511133742579,0.8480884794583486,0.8476348364646035,0.8484807521019345,0.8476729856011889,0.8480204744757396,0.847753430519641,0.8482982997095689,0.848299129038625,0.8476837668789197,0.8475444395974768,0.8480611115994938,0.8479375415701189,0.8482452226499717,0.8485288531871946,0.8486242260286584,0.8478114835535755,0.8479110030403203,0.847954128151243,0.8475908820246244,0.8482170254620607,0.8487527720323704,0.8475784420887813,0.8486905723531548,0.8486947189984358,0.8484003071834825,0.8477783103913272,0.8477277213188986,0.8487900918398997,0.8489783495356586,0.8487701879425508,0.8486773030882556,0.8483115689744684,0.8484434322944052,0.8484019658415948,0.8482286360688476,0.846502802302881,0.8479010510916458,0.8485985168279159,0.8486366659645013,0.8480063758817842,0.8482137081458359,0.8488680487711832,0.8482692731926016,0.8488033611047989,0.8484683121660914,0.8480544769670441,0.8479549574802994,0.8482560039277023,0.8483082516582434,0.8478230941603624,0.8485752956143421,0.8485139252641827,0.848414405777438,0.8491185061461577,0.8484500669268547,0.8480121811851775,0.8480354023987513,0.8488025317757426,0.849015669343188,0.8484973386830585,0.8486773030882556,0.8487262335025717,0.8488829766941948,0.8484658241789228,0.8483107396454121,0.8483911845638641],\"colorbar\":{\"title\":{\"text\":\"Objective Value\"}},\"colorscale\":[[0.0,\"rgb(247,251,255)\"],[0.125,\"rgb(222,235,247)\"],[0.25,\"rgb(198,219,239)\"],[0.375,\"rgb(158,202,225)\"],[0.5,\"rgb(107,174,214)\"],[0.625,\"rgb(66,146,198)\"],[0.75,\"rgb(33,113,181)\"],[0.875,\"rgb(8,81,156)\"],[1.0,\"rgb(8,48,107)\"]],\"reversescale\":false,\"showscale\":true},\"type\":\"parcoords\"}],                        {\"title\":{\"text\":\"Parallel Coordinate Plot\"},\"template\":{\"data\":{\"histogram2dcontour\":[{\"type\":\"histogram2dcontour\",\"colorbar\":{\"outlinewidth\":0,\"ticks\":\"\"},\"colorscale\":[[0.0,\"#0d0887\"],[0.1111111111111111,\"#46039f\"],[0.2222222222222222,\"#7201a8\"],[0.3333333333333333,\"#9c179e\"],[0.4444444444444444,\"#bd3786\"],[0.5555555555555556,\"#d8576b\"],[0.6666666666666666,\"#ed7953\"],[0.7777777777777778,\"#fb9f3a\"],[0.8888888888888888,\"#fdca26\"],[1.0,\"#f0f921\"]]}],\"choropleth\":[{\"type\":\"choropleth\",\"colorbar\":{\"outlinewidth\":0,\"ticks\":\"\"}}],\"histogram2d\":[{\"type\":\"histogram2d\",\"colorbar\":{\"outlinewidth\":0,\"ticks\":\"\"},\"colorscale\":[[0.0,\"#0d0887\"],[0.1111111111111111,\"#46039f\"],[0.2222222222222222,\"#7201a8\"],[0.3333333333333333,\"#9c179e\"],[0.4444444444444444,\"#bd3786\"],[0.5555555555555556,\"#d8576b\"],[0.6666666666666666,\"#ed7953\"],[0.7777777777777778,\"#fb9f3a\"],[0.8888888888888888,\"#fdca26\"],[1.0,\"#f0f921\"]]}],\"heatmap\":[{\"type\":\"heatmap\",\"colorbar\":{\"outlinewidth\":0,\"ticks\":\"\"},\"colorscale\":[[0.0,\"#0d0887\"],[0.1111111111111111,\"#46039f\"],[0.2222222222222222,\"#7201a8\"],[0.3333333333333333,\"#9c179e\"],[0.4444444444444444,\"#bd3786\"],[0.5555555555555556,\"#d8576b\"],[0.6666666666666666,\"#ed7953\"],[0.7777777777777778,\"#fb9f3a\"],[0.8888888888888888,\"#fdca26\"],[1.0,\"#f0f921\"]]}],\"heatmapgl\":[{\"type\":\"heatmapgl\",\"colorbar\":{\"outlinewidth\":0,\"ticks\":\"\"},\"colorscale\":[[0.0,\"#0d0887\"],[0.1111111111111111,\"#46039f\"],[0.2222222222222222,\"#7201a8\"],[0.3333333333333333,\"#9c179e\"],[0.4444444444444444,\"#bd3786\"],[0.5555555555555556,\"#d8576b\"],[0.6666666666666666,\"#ed7953\"],[0.7777777777777778,\"#fb9f3a\"],[0.8888888888888888,\"#fdca26\"],[1.0,\"#f0f921\"]]}],\"contourcarpet\":[{\"type\":\"contourcarpet\",\"colorbar\":{\"outlinewidth\":0,\"ticks\":\"\"}}],\"contour\":[{\"type\":\"contour\",\"colorbar\":{\"outlinewidth\":0,\"ticks\":\"\"},\"colorscale\":[[0.0,\"#0d0887\"],[0.1111111111111111,\"#46039f\"],[0.2222222222222222,\"#7201a8\"],[0.3333333333333333,\"#9c179e\"],[0.4444444444444444,\"#bd3786\"],[0.5555555555555556,\"#d8576b\"],[0.6666666666666666,\"#ed7953\"],[0.7777777777777778,\"#fb9f3a\"],[0.8888888888888888,\"#fdca26\"],[1.0,\"#f0f921\"]]}],\"surface\":[{\"type\":\"surface\",\"colorbar\":{\"outlinewidth\":0,\"ticks\":\"\"},\"colorscale\":[[0.0,\"#0d0887\"],[0.1111111111111111,\"#46039f\"],[0.2222222222222222,\"#7201a8\"],[0.3333333333333333,\"#9c179e\"],[0.4444444444444444,\"#bd3786\"],[0.5555555555555556,\"#d8576b\"],[0.6666666666666666,\"#ed7953\"],[0.7777777777777778,\"#fb9f3a\"],[0.8888888888888888,\"#fdca26\"],[1.0,\"#f0f921\"]]}],\"mesh3d\":[{\"type\":\"mesh3d\",\"colorbar\":{\"outlinewidth\":0,\"ticks\":\"\"}}],\"scatter\":[{\"fillpattern\":{\"fillmode\":\"overlay\",\"size\":10,\"solidity\":0.2},\"type\":\"scatter\"}],\"parcoords\":[{\"type\":\"parcoords\",\"line\":{\"colorbar\":{\"outlinewidth\":0,\"ticks\":\"\"}}}],\"scatterpolargl\":[{\"type\":\"scatterpolargl\",\"marker\":{\"colorbar\":{\"outlinewidth\":0,\"ticks\":\"\"}}}],\"bar\":[{\"error_x\":{\"color\":\"#2a3f5f\"},\"error_y\":{\"color\":\"#2a3f5f\"},\"marker\":{\"line\":{\"color\":\"#E5ECF6\",\"width\":0.5},\"pattern\":{\"fillmode\":\"overlay\",\"size\":10,\"solidity\":0.2}},\"type\":\"bar\"}],\"scattergeo\":[{\"type\":\"scattergeo\",\"marker\":{\"colorbar\":{\"outlinewidth\":0,\"ticks\":\"\"}}}],\"scatterpolar\":[{\"type\":\"scatterpolar\",\"marker\":{\"colorbar\":{\"outlinewidth\":0,\"ticks\":\"\"}}}],\"histogram\":[{\"marker\":{\"pattern\":{\"fillmode\":\"overlay\",\"size\":10,\"solidity\":0.2}},\"type\":\"histogram\"}],\"scattergl\":[{\"type\":\"scattergl\",\"marker\":{\"colorbar\":{\"outlinewidth\":0,\"ticks\":\"\"}}}],\"scatter3d\":[{\"type\":\"scatter3d\",\"line\":{\"colorbar\":{\"outlinewidth\":0,\"ticks\":\"\"}},\"marker\":{\"colorbar\":{\"outlinewidth\":0,\"ticks\":\"\"}}}],\"scattermapbox\":[{\"type\":\"scattermapbox\",\"marker\":{\"colorbar\":{\"outlinewidth\":0,\"ticks\":\"\"}}}],\"scatterternary\":[{\"type\":\"scatterternary\",\"marker\":{\"colorbar\":{\"outlinewidth\":0,\"ticks\":\"\"}}}],\"scattercarpet\":[{\"type\":\"scattercarpet\",\"marker\":{\"colorbar\":{\"outlinewidth\":0,\"ticks\":\"\"}}}],\"carpet\":[{\"aaxis\":{\"endlinecolor\":\"#2a3f5f\",\"gridcolor\":\"white\",\"linecolor\":\"white\",\"minorgridcolor\":\"white\",\"startlinecolor\":\"#2a3f5f\"},\"baxis\":{\"endlinecolor\":\"#2a3f5f\",\"gridcolor\":\"white\",\"linecolor\":\"white\",\"minorgridcolor\":\"white\",\"startlinecolor\":\"#2a3f5f\"},\"type\":\"carpet\"}],\"table\":[{\"cells\":{\"fill\":{\"color\":\"#EBF0F8\"},\"line\":{\"color\":\"white\"}},\"header\":{\"fill\":{\"color\":\"#C8D4E3\"},\"line\":{\"color\":\"white\"}},\"type\":\"table\"}],\"barpolar\":[{\"marker\":{\"line\":{\"color\":\"#E5ECF6\",\"width\":0.5},\"pattern\":{\"fillmode\":\"overlay\",\"size\":10,\"solidity\":0.2}},\"type\":\"barpolar\"}],\"pie\":[{\"automargin\":true,\"type\":\"pie\"}]},\"layout\":{\"autotypenumbers\":\"strict\",\"colorway\":[\"#636efa\",\"#EF553B\",\"#00cc96\",\"#ab63fa\",\"#FFA15A\",\"#19d3f3\",\"#FF6692\",\"#B6E880\",\"#FF97FF\",\"#FECB52\"],\"font\":{\"color\":\"#2a3f5f\"},\"hovermode\":\"closest\",\"hoverlabel\":{\"align\":\"left\"},\"paper_bgcolor\":\"white\",\"plot_bgcolor\":\"#E5ECF6\",\"polar\":{\"bgcolor\":\"#E5ECF6\",\"angularaxis\":{\"gridcolor\":\"white\",\"linecolor\":\"white\",\"ticks\":\"\"},\"radialaxis\":{\"gridcolor\":\"white\",\"linecolor\":\"white\",\"ticks\":\"\"}},\"ternary\":{\"bgcolor\":\"#E5ECF6\",\"aaxis\":{\"gridcolor\":\"white\",\"linecolor\":\"white\",\"ticks\":\"\"},\"baxis\":{\"gridcolor\":\"white\",\"linecolor\":\"white\",\"ticks\":\"\"},\"caxis\":{\"gridcolor\":\"white\",\"linecolor\":\"white\",\"ticks\":\"\"}},\"coloraxis\":{\"colorbar\":{\"outlinewidth\":0,\"ticks\":\"\"}},\"colorscale\":{\"sequential\":[[0.0,\"#0d0887\"],[0.1111111111111111,\"#46039f\"],[0.2222222222222222,\"#7201a8\"],[0.3333333333333333,\"#9c179e\"],[0.4444444444444444,\"#bd3786\"],[0.5555555555555556,\"#d8576b\"],[0.6666666666666666,\"#ed7953\"],[0.7777777777777778,\"#fb9f3a\"],[0.8888888888888888,\"#fdca26\"],[1.0,\"#f0f921\"]],\"sequentialminus\":[[0.0,\"#0d0887\"],[0.1111111111111111,\"#46039f\"],[0.2222222222222222,\"#7201a8\"],[0.3333333333333333,\"#9c179e\"],[0.4444444444444444,\"#bd3786\"],[0.5555555555555556,\"#d8576b\"],[0.6666666666666666,\"#ed7953\"],[0.7777777777777778,\"#fb9f3a\"],[0.8888888888888888,\"#fdca26\"],[1.0,\"#f0f921\"]],\"diverging\":[[0,\"#8e0152\"],[0.1,\"#c51b7d\"],[0.2,\"#de77ae\"],[0.3,\"#f1b6da\"],[0.4,\"#fde0ef\"],[0.5,\"#f7f7f7\"],[0.6,\"#e6f5d0\"],[0.7,\"#b8e186\"],[0.8,\"#7fbc41\"],[0.9,\"#4d9221\"],[1,\"#276419\"]]},\"xaxis\":{\"gridcolor\":\"white\",\"linecolor\":\"white\",\"ticks\":\"\",\"title\":{\"standoff\":15},\"zerolinecolor\":\"white\",\"automargin\":true,\"zerolinewidth\":2},\"yaxis\":{\"gridcolor\":\"white\",\"linecolor\":\"white\",\"ticks\":\"\",\"title\":{\"standoff\":15},\"zerolinecolor\":\"white\",\"automargin\":true,\"zerolinewidth\":2},\"scene\":{\"xaxis\":{\"backgroundcolor\":\"#E5ECF6\",\"gridcolor\":\"white\",\"linecolor\":\"white\",\"showbackground\":true,\"ticks\":\"\",\"zerolinecolor\":\"white\",\"gridwidth\":2},\"yaxis\":{\"backgroundcolor\":\"#E5ECF6\",\"gridcolor\":\"white\",\"linecolor\":\"white\",\"showbackground\":true,\"ticks\":\"\",\"zerolinecolor\":\"white\",\"gridwidth\":2},\"zaxis\":{\"backgroundcolor\":\"#E5ECF6\",\"gridcolor\":\"white\",\"linecolor\":\"white\",\"showbackground\":true,\"ticks\":\"\",\"zerolinecolor\":\"white\",\"gridwidth\":2}},\"shapedefaults\":{\"line\":{\"color\":\"#2a3f5f\"}},\"annotationdefaults\":{\"arrowcolor\":\"#2a3f5f\",\"arrowhead\":0,\"arrowwidth\":1},\"geo\":{\"bgcolor\":\"white\",\"landcolor\":\"#E5ECF6\",\"subunitcolor\":\"white\",\"showland\":true,\"showlakes\":true,\"lakecolor\":\"white\"},\"title\":{\"x\":0.05},\"mapbox\":{\"style\":\"light\"}}}},                        {\"responsive\": true}                    ).then(function(){\n",
              "                            \n",
              "var gd = document.getElementById('597519eb-5ca3-4084-a0e5-94ad1673f041');\n",
              "var x = new MutationObserver(function (mutations, observer) {{\n",
              "        var display = window.getComputedStyle(gd).display;\n",
              "        if (!display || display === 'none') {{\n",
              "            console.log([gd, 'removed!']);\n",
              "            Plotly.purge(gd);\n",
              "            observer.disconnect();\n",
              "        }}\n",
              "}});\n",
              "\n",
              "// Listen for the removal of the full notebook cells\n",
              "var notebookContainer = gd.closest('#notebook-container');\n",
              "if (notebookContainer) {{\n",
              "    x.observe(notebookContainer, {childList: true});\n",
              "}}\n",
              "\n",
              "// Listen for the clearing of the current output cell\n",
              "var outputEl = gd.closest('.output');\n",
              "if (outputEl) {{\n",
              "    x.observe(outputEl, {childList: true});\n",
              "}}\n",
              "\n",
              "                        })                };                            </script>        </div>\n",
              "</body>\n",
              "</html>"
            ]
          },
          "metadata": {}
        },
        {
          "output_type": "display_data",
          "data": {
            "text/html": [
              "<html>\n",
              "<head><meta charset=\"utf-8\" /></head>\n",
              "<body>\n",
              "    <div>            <script src=\"https://cdnjs.cloudflare.com/ajax/libs/mathjax/2.7.5/MathJax.js?config=TeX-AMS-MML_SVG\"></script><script type=\"text/javascript\">if (window.MathJax && window.MathJax.Hub && window.MathJax.Hub.Config) {window.MathJax.Hub.Config({SVG: {font: \"STIX-Web\"}});}</script>                <script type=\"text/javascript\">window.PlotlyConfig = {MathJaxConfig: 'local'};</script>\n",
              "        <script charset=\"utf-8\" src=\"https://cdn.plot.ly/plotly-2.35.2.min.js\"></script>                <div id=\"820ae33f-bee8-4566-9c39-477a752739da\" class=\"plotly-graph-div\" style=\"height:525px; width:100%;\"></div>            <script type=\"text/javascript\">                                    window.PLOTLYENV=window.PLOTLYENV || {};                                    if (document.getElementById(\"820ae33f-bee8-4566-9c39-477a752739da\")) {                    Plotly.newPlot(                        \"820ae33f-bee8-4566-9c39-477a752739da\",                        [{\"cliponaxis\":false,\"hovertemplate\":[\"max_depth (IntDistribution): 0.0033313902891892577\\u003cextra\\u003e\\u003c\\u002fextra\\u003e\",\"reg_lambda (FloatDistribution): 0.0057481566719481\\u003cextra\\u003e\\u003c\\u002fextra\\u003e\",\"gamma (FloatDistribution): 0.010658467158895901\\u003cextra\\u003e\\u003c\\u002fextra\\u003e\",\"n_estimators (IntDistribution): 0.011651453153098018\\u003cextra\\u003e\\u003c\\u002fextra\\u003e\",\"min_child_weight (IntDistribution): 0.015302579409999292\\u003cextra\\u003e\\u003c\\u002fextra\\u003e\",\"colsample_bytree (FloatDistribution): 0.027708513392600696\\u003cextra\\u003e\\u003c\\u002fextra\\u003e\",\"learning_rate (FloatDistribution): 0.031027363900062162\\u003cextra\\u003e\\u003c\\u002fextra\\u003e\",\"subsample (FloatDistribution): 0.07756585257267071\\u003cextra\\u003e\\u003c\\u002fextra\\u003e\",\"reg_alpha (FloatDistribution): 0.817006223451536\\u003cextra\\u003e\\u003c\\u002fextra\\u003e\"],\"name\":\"Objective Value\",\"orientation\":\"h\",\"text\":[\"\\u003c0.01\",\"\\u003c0.01\",\"0.01\",\"0.01\",\"0.02\",\"0.03\",\"0.03\",\"0.08\",\"0.82\"],\"textposition\":\"outside\",\"x\":[0.0033313902891892577,0.0057481566719481,0.010658467158895901,0.011651453153098018,0.015302579409999292,0.027708513392600696,0.031027363900062162,0.07756585257267071,0.817006223451536],\"y\":[\"max_depth\",\"reg_lambda\",\"gamma\",\"n_estimators\",\"min_child_weight\",\"colsample_bytree\",\"learning_rate\",\"subsample\",\"reg_alpha\"],\"type\":\"bar\"}],                        {\"title\":{\"text\":\"Hyperparameter Importances\"},\"xaxis\":{\"title\":{\"text\":\"Hyperparameter Importance\"}},\"yaxis\":{\"title\":{\"text\":\"Hyperparameter\"}},\"template\":{\"data\":{\"histogram2dcontour\":[{\"type\":\"histogram2dcontour\",\"colorbar\":{\"outlinewidth\":0,\"ticks\":\"\"},\"colorscale\":[[0.0,\"#0d0887\"],[0.1111111111111111,\"#46039f\"],[0.2222222222222222,\"#7201a8\"],[0.3333333333333333,\"#9c179e\"],[0.4444444444444444,\"#bd3786\"],[0.5555555555555556,\"#d8576b\"],[0.6666666666666666,\"#ed7953\"],[0.7777777777777778,\"#fb9f3a\"],[0.8888888888888888,\"#fdca26\"],[1.0,\"#f0f921\"]]}],\"choropleth\":[{\"type\":\"choropleth\",\"colorbar\":{\"outlinewidth\":0,\"ticks\":\"\"}}],\"histogram2d\":[{\"type\":\"histogram2d\",\"colorbar\":{\"outlinewidth\":0,\"ticks\":\"\"},\"colorscale\":[[0.0,\"#0d0887\"],[0.1111111111111111,\"#46039f\"],[0.2222222222222222,\"#7201a8\"],[0.3333333333333333,\"#9c179e\"],[0.4444444444444444,\"#bd3786\"],[0.5555555555555556,\"#d8576b\"],[0.6666666666666666,\"#ed7953\"],[0.7777777777777778,\"#fb9f3a\"],[0.8888888888888888,\"#fdca26\"],[1.0,\"#f0f921\"]]}],\"heatmap\":[{\"type\":\"heatmap\",\"colorbar\":{\"outlinewidth\":0,\"ticks\":\"\"},\"colorscale\":[[0.0,\"#0d0887\"],[0.1111111111111111,\"#46039f\"],[0.2222222222222222,\"#7201a8\"],[0.3333333333333333,\"#9c179e\"],[0.4444444444444444,\"#bd3786\"],[0.5555555555555556,\"#d8576b\"],[0.6666666666666666,\"#ed7953\"],[0.7777777777777778,\"#fb9f3a\"],[0.8888888888888888,\"#fdca26\"],[1.0,\"#f0f921\"]]}],\"heatmapgl\":[{\"type\":\"heatmapgl\",\"colorbar\":{\"outlinewidth\":0,\"ticks\":\"\"},\"colorscale\":[[0.0,\"#0d0887\"],[0.1111111111111111,\"#46039f\"],[0.2222222222222222,\"#7201a8\"],[0.3333333333333333,\"#9c179e\"],[0.4444444444444444,\"#bd3786\"],[0.5555555555555556,\"#d8576b\"],[0.6666666666666666,\"#ed7953\"],[0.7777777777777778,\"#fb9f3a\"],[0.8888888888888888,\"#fdca26\"],[1.0,\"#f0f921\"]]}],\"contourcarpet\":[{\"type\":\"contourcarpet\",\"colorbar\":{\"outlinewidth\":0,\"ticks\":\"\"}}],\"contour\":[{\"type\":\"contour\",\"colorbar\":{\"outlinewidth\":0,\"ticks\":\"\"},\"colorscale\":[[0.0,\"#0d0887\"],[0.1111111111111111,\"#46039f\"],[0.2222222222222222,\"#7201a8\"],[0.3333333333333333,\"#9c179e\"],[0.4444444444444444,\"#bd3786\"],[0.5555555555555556,\"#d8576b\"],[0.6666666666666666,\"#ed7953\"],[0.7777777777777778,\"#fb9f3a\"],[0.8888888888888888,\"#fdca26\"],[1.0,\"#f0f921\"]]}],\"surface\":[{\"type\":\"surface\",\"colorbar\":{\"outlinewidth\":0,\"ticks\":\"\"},\"colorscale\":[[0.0,\"#0d0887\"],[0.1111111111111111,\"#46039f\"],[0.2222222222222222,\"#7201a8\"],[0.3333333333333333,\"#9c179e\"],[0.4444444444444444,\"#bd3786\"],[0.5555555555555556,\"#d8576b\"],[0.6666666666666666,\"#ed7953\"],[0.7777777777777778,\"#fb9f3a\"],[0.8888888888888888,\"#fdca26\"],[1.0,\"#f0f921\"]]}],\"mesh3d\":[{\"type\":\"mesh3d\",\"colorbar\":{\"outlinewidth\":0,\"ticks\":\"\"}}],\"scatter\":[{\"fillpattern\":{\"fillmode\":\"overlay\",\"size\":10,\"solidity\":0.2},\"type\":\"scatter\"}],\"parcoords\":[{\"type\":\"parcoords\",\"line\":{\"colorbar\":{\"outlinewidth\":0,\"ticks\":\"\"}}}],\"scatterpolargl\":[{\"type\":\"scatterpolargl\",\"marker\":{\"colorbar\":{\"outlinewidth\":0,\"ticks\":\"\"}}}],\"bar\":[{\"error_x\":{\"color\":\"#2a3f5f\"},\"error_y\":{\"color\":\"#2a3f5f\"},\"marker\":{\"line\":{\"color\":\"#E5ECF6\",\"width\":0.5},\"pattern\":{\"fillmode\":\"overlay\",\"size\":10,\"solidity\":0.2}},\"type\":\"bar\"}],\"scattergeo\":[{\"type\":\"scattergeo\",\"marker\":{\"colorbar\":{\"outlinewidth\":0,\"ticks\":\"\"}}}],\"scatterpolar\":[{\"type\":\"scatterpolar\",\"marker\":{\"colorbar\":{\"outlinewidth\":0,\"ticks\":\"\"}}}],\"histogram\":[{\"marker\":{\"pattern\":{\"fillmode\":\"overlay\",\"size\":10,\"solidity\":0.2}},\"type\":\"histogram\"}],\"scattergl\":[{\"type\":\"scattergl\",\"marker\":{\"colorbar\":{\"outlinewidth\":0,\"ticks\":\"\"}}}],\"scatter3d\":[{\"type\":\"scatter3d\",\"line\":{\"colorbar\":{\"outlinewidth\":0,\"ticks\":\"\"}},\"marker\":{\"colorbar\":{\"outlinewidth\":0,\"ticks\":\"\"}}}],\"scattermapbox\":[{\"type\":\"scattermapbox\",\"marker\":{\"colorbar\":{\"outlinewidth\":0,\"ticks\":\"\"}}}],\"scatterternary\":[{\"type\":\"scatterternary\",\"marker\":{\"colorbar\":{\"outlinewidth\":0,\"ticks\":\"\"}}}],\"scattercarpet\":[{\"type\":\"scattercarpet\",\"marker\":{\"colorbar\":{\"outlinewidth\":0,\"ticks\":\"\"}}}],\"carpet\":[{\"aaxis\":{\"endlinecolor\":\"#2a3f5f\",\"gridcolor\":\"white\",\"linecolor\":\"white\",\"minorgridcolor\":\"white\",\"startlinecolor\":\"#2a3f5f\"},\"baxis\":{\"endlinecolor\":\"#2a3f5f\",\"gridcolor\":\"white\",\"linecolor\":\"white\",\"minorgridcolor\":\"white\",\"startlinecolor\":\"#2a3f5f\"},\"type\":\"carpet\"}],\"table\":[{\"cells\":{\"fill\":{\"color\":\"#EBF0F8\"},\"line\":{\"color\":\"white\"}},\"header\":{\"fill\":{\"color\":\"#C8D4E3\"},\"line\":{\"color\":\"white\"}},\"type\":\"table\"}],\"barpolar\":[{\"marker\":{\"line\":{\"color\":\"#E5ECF6\",\"width\":0.5},\"pattern\":{\"fillmode\":\"overlay\",\"size\":10,\"solidity\":0.2}},\"type\":\"barpolar\"}],\"pie\":[{\"automargin\":true,\"type\":\"pie\"}]},\"layout\":{\"autotypenumbers\":\"strict\",\"colorway\":[\"#636efa\",\"#EF553B\",\"#00cc96\",\"#ab63fa\",\"#FFA15A\",\"#19d3f3\",\"#FF6692\",\"#B6E880\",\"#FF97FF\",\"#FECB52\"],\"font\":{\"color\":\"#2a3f5f\"},\"hovermode\":\"closest\",\"hoverlabel\":{\"align\":\"left\"},\"paper_bgcolor\":\"white\",\"plot_bgcolor\":\"#E5ECF6\",\"polar\":{\"bgcolor\":\"#E5ECF6\",\"angularaxis\":{\"gridcolor\":\"white\",\"linecolor\":\"white\",\"ticks\":\"\"},\"radialaxis\":{\"gridcolor\":\"white\",\"linecolor\":\"white\",\"ticks\":\"\"}},\"ternary\":{\"bgcolor\":\"#E5ECF6\",\"aaxis\":{\"gridcolor\":\"white\",\"linecolor\":\"white\",\"ticks\":\"\"},\"baxis\":{\"gridcolor\":\"white\",\"linecolor\":\"white\",\"ticks\":\"\"},\"caxis\":{\"gridcolor\":\"white\",\"linecolor\":\"white\",\"ticks\":\"\"}},\"coloraxis\":{\"colorbar\":{\"outlinewidth\":0,\"ticks\":\"\"}},\"colorscale\":{\"sequential\":[[0.0,\"#0d0887\"],[0.1111111111111111,\"#46039f\"],[0.2222222222222222,\"#7201a8\"],[0.3333333333333333,\"#9c179e\"],[0.4444444444444444,\"#bd3786\"],[0.5555555555555556,\"#d8576b\"],[0.6666666666666666,\"#ed7953\"],[0.7777777777777778,\"#fb9f3a\"],[0.8888888888888888,\"#fdca26\"],[1.0,\"#f0f921\"]],\"sequentialminus\":[[0.0,\"#0d0887\"],[0.1111111111111111,\"#46039f\"],[0.2222222222222222,\"#7201a8\"],[0.3333333333333333,\"#9c179e\"],[0.4444444444444444,\"#bd3786\"],[0.5555555555555556,\"#d8576b\"],[0.6666666666666666,\"#ed7953\"],[0.7777777777777778,\"#fb9f3a\"],[0.8888888888888888,\"#fdca26\"],[1.0,\"#f0f921\"]],\"diverging\":[[0,\"#8e0152\"],[0.1,\"#c51b7d\"],[0.2,\"#de77ae\"],[0.3,\"#f1b6da\"],[0.4,\"#fde0ef\"],[0.5,\"#f7f7f7\"],[0.6,\"#e6f5d0\"],[0.7,\"#b8e186\"],[0.8,\"#7fbc41\"],[0.9,\"#4d9221\"],[1,\"#276419\"]]},\"xaxis\":{\"gridcolor\":\"white\",\"linecolor\":\"white\",\"ticks\":\"\",\"title\":{\"standoff\":15},\"zerolinecolor\":\"white\",\"automargin\":true,\"zerolinewidth\":2},\"yaxis\":{\"gridcolor\":\"white\",\"linecolor\":\"white\",\"ticks\":\"\",\"title\":{\"standoff\":15},\"zerolinecolor\":\"white\",\"automargin\":true,\"zerolinewidth\":2},\"scene\":{\"xaxis\":{\"backgroundcolor\":\"#E5ECF6\",\"gridcolor\":\"white\",\"linecolor\":\"white\",\"showbackground\":true,\"ticks\":\"\",\"zerolinecolor\":\"white\",\"gridwidth\":2},\"yaxis\":{\"backgroundcolor\":\"#E5ECF6\",\"gridcolor\":\"white\",\"linecolor\":\"white\",\"showbackground\":true,\"ticks\":\"\",\"zerolinecolor\":\"white\",\"gridwidth\":2},\"zaxis\":{\"backgroundcolor\":\"#E5ECF6\",\"gridcolor\":\"white\",\"linecolor\":\"white\",\"showbackground\":true,\"ticks\":\"\",\"zerolinecolor\":\"white\",\"gridwidth\":2}},\"shapedefaults\":{\"line\":{\"color\":\"#2a3f5f\"}},\"annotationdefaults\":{\"arrowcolor\":\"#2a3f5f\",\"arrowhead\":0,\"arrowwidth\":1},\"geo\":{\"bgcolor\":\"white\",\"landcolor\":\"#E5ECF6\",\"subunitcolor\":\"white\",\"showland\":true,\"showlakes\":true,\"lakecolor\":\"white\"},\"title\":{\"x\":0.05},\"mapbox\":{\"style\":\"light\"}}}},                        {\"responsive\": true}                    ).then(function(){\n",
              "                            \n",
              "var gd = document.getElementById('820ae33f-bee8-4566-9c39-477a752739da');\n",
              "var x = new MutationObserver(function (mutations, observer) {{\n",
              "        var display = window.getComputedStyle(gd).display;\n",
              "        if (!display || display === 'none') {{\n",
              "            console.log([gd, 'removed!']);\n",
              "            Plotly.purge(gd);\n",
              "            observer.disconnect();\n",
              "        }}\n",
              "}});\n",
              "\n",
              "// Listen for the removal of the full notebook cells\n",
              "var notebookContainer = gd.closest('#notebook-container');\n",
              "if (notebookContainer) {{\n",
              "    x.observe(notebookContainer, {childList: true});\n",
              "}}\n",
              "\n",
              "// Listen for the clearing of the current output cell\n",
              "var outputEl = gd.closest('.output');\n",
              "if (outputEl) {{\n",
              "    x.observe(outputEl, {childList: true});\n",
              "}}\n",
              "\n",
              "                        })                };                            </script>        </div>\n",
              "</body>\n",
              "</html>"
            ]
          },
          "metadata": {}
        },
        {
          "output_type": "stream",
          "name": "stdout",
          "text": [
            "Генерация графиков Optuna завершена.\n"
          ]
        }
      ]
    },
    {
      "cell_type": "code",
      "source": [
        "# prompt: optuna surface plot\n",
        "\n",
        "optuna.visualization.plot_slice(study).show()"
      ],
      "metadata": {
        "id": "BpnL5eC7NpZU",
        "colab": {
          "base_uri": "https://localhost:8080/",
          "height": 562
        },
        "outputId": "b4e9b460-1383-4edf-cbd0-8971459edbee"
      },
      "execution_count": null,
      "outputs": [
        {
          "output_type": "display_data",
          "data": {
            "text/html": [
              "<html>\n",
              "<head><meta charset=\"utf-8\" /></head>\n",
              "<body>\n",
              "    <div>            <script src=\"https://cdnjs.cloudflare.com/ajax/libs/mathjax/2.7.5/MathJax.js?config=TeX-AMS-MML_SVG\"></script><script type=\"text/javascript\">if (window.MathJax && window.MathJax.Hub && window.MathJax.Hub.Config) {window.MathJax.Hub.Config({SVG: {font: \"STIX-Web\"}});}</script>                <script type=\"text/javascript\">window.PlotlyConfig = {MathJaxConfig: 'local'};</script>\n",
              "        <script charset=\"utf-8\" src=\"https://cdn.plot.ly/plotly-2.35.2.min.js\"></script>                <div id=\"97e94b4a-4553-42c6-9d81-ba5ba4064133\" class=\"plotly-graph-div\" style=\"height:525px; width:2700px;\"></div>            <script type=\"text/javascript\">                                    window.PLOTLYENV=window.PLOTLYENV || {};                                    if (document.getElementById(\"97e94b4a-4553-42c6-9d81-ba5ba4064133\")) {                    Plotly.newPlot(                        \"97e94b4a-4553-42c6-9d81-ba5ba4064133\",                        [{\"marker\":{\"color\":[0,1,2,3,4,5,6,7,8,9,10,11,12,13,14,15,16,17,18,19,20,21,22,23,24,25,26,27,28,29,30,31,32,33,34,35,36,37,38,39,40,41,42,43,44,45,46,47,48,49,50,51,52,53,54,55,56,57,58,59,60,61,62,63,64,65,66,67,68,69,70,71,72,73,74,75,76,77,78,79,80,81,82,83,84,85,86,87,88,89,90,91,92,93,94,95,96,97,98,99],\"colorbar\":{\"title\":{\"text\":\"Trial\"},\"x\":1.0,\"xpad\":40},\"colorscale\":[[0.0,\"rgb(247,251,255)\"],[0.125,\"rgb(222,235,247)\"],[0.25,\"rgb(198,219,239)\"],[0.375,\"rgb(158,202,225)\"],[0.5,\"rgb(107,174,214)\"],[0.625,\"rgb(66,146,198)\"],[0.75,\"rgb(33,113,181)\"],[0.875,\"rgb(8,81,156)\"],[1.0,\"rgb(8,48,107)\"]],\"line\":{\"color\":\"Grey\",\"width\":0.5},\"showscale\":true},\"mode\":\"markers\",\"name\":\"Feasible Trial\",\"showlegend\":false,\"x\":[0.5978225518918112,0.5952845563427231,0.5995334597483175,0.6077588560346204,0.5990976822441556,0.5982187140435887,0.6065409001728569,0.6070377460485523,0.5930503695634194,0.601346549380176,0.6157545223085894,0.594593733522923,0.5905560637297586,0.5937319594978269,0.6124991121641411,0.5947348058891831,0.6037285788863486,0.5915878282049823,0.5908272295467382,0.6110130389309993,0.6198953942897522,0.5949384480349106,0.5962879319712738,0.5901516388548232,0.6025943237382206,0.5961906017228085,0.5925333101657256,0.6005528239383551,0.5924865936789443,0.5971393564325612,0.5972349717228179,0.5972259398945094,0.5957513215169136,0.5960814445363993,0.599762303928456,0.598227293318638,0.59423049752834,0.6017538208090152,0.6051068300793567,0.5986896815054507,0.5959602857117402,0.5959944091862249,0.5994056403664403,0.5970172395185193,0.5932569562879882,0.5951253343918252,0.600516866672204,0.591780525934847,0.5917657007927821,0.5935829262613295,0.5919056968802063,0.5911551853155599,0.593816309664421,0.5918541480168173,0.5945729957062291,0.6086790426871892,0.5953712468731711,0.5979091790959438,0.5948354620127407,0.5985245768503397,0.590129178164654,0.5972985153980074,0.5952726555707104,0.5960691013595059,0.5977238983970669,0.5964142645790017,0.6000423520557252,0.5941650351514962,0.5979853627833798,0.6021575168257128,0.5952971463661935,0.5953598000875708,0.5966306158065506,0.5928288798213553,0.5989957604657621,0.595800328662524,0.6033648245888745,0.5976002217705257,0.6163185136907665,0.5943212157263579,0.601051303121708,0.5976427920806059,0.5962219210956393,0.5959022838011374,0.5968582725659072,0.5988665921030418,0.5929886807751205,0.5976662667522791,0.5946093740780828,0.5956691211728526,0.5971736520592836,0.5982072307972023,0.5993083373650278,0.600175866338817,0.5994882560728295,0.5983960188808448,0.5974908500988745,0.6009518704886092,0.5974574317509049,0.5990640246255854],\"y\":[0.8475867353793435,0.8483604993887844,0.8474838985763736,0.8476282018321538,0.8479640800999175,0.8477443079000228,0.8474216988971582,0.8471430443342727,0.8476240551868728,0.848029597095358,0.8476588870072332,0.8485346584905878,0.8478479740320485,0.8466023217896258,0.8478794885361844,0.8478148008698003,0.8482095615005548,0.8484177230936628,0.8477078174215495,0.8483248382393676,0.8475801007468937,0.8475154130805097,0.8482153668039483,0.8480743808643931,0.8482269774107352,0.8484832400891031,0.8484185524227189,0.8480005705783906,0.8481257992658779,0.8483969898672578,0.8485968581698036,0.8482435639918594,0.8489725442322653,0.8487511133742579,0.8480884794583486,0.8476348364646035,0.8484807521019345,0.8476729856011889,0.8480204744757396,0.847753430519641,0.8482982997095689,0.848299129038625,0.8476837668789197,0.8475444395974768,0.8480611115994938,0.8479375415701189,0.8482452226499717,0.8485288531871946,0.8486242260286584,0.8478114835535755,0.8479110030403203,0.847954128151243,0.8475908820246244,0.8482170254620607,0.8487527720323704,0.8475784420887813,0.8486905723531548,0.8486947189984358,0.8484003071834825,0.8477783103913272,0.8477277213188986,0.8487900918398997,0.8489783495356586,0.8487701879425508,0.8486773030882556,0.8483115689744684,0.8484434322944052,0.8484019658415948,0.8482286360688476,0.846502802302881,0.8479010510916458,0.8485985168279159,0.8486366659645013,0.8480063758817842,0.8482137081458359,0.8488680487711832,0.8482692731926016,0.8488033611047989,0.8484683121660914,0.8480544769670441,0.8479549574802994,0.8482560039277023,0.8483082516582434,0.8478230941603624,0.8485752956143421,0.8485139252641827,0.848414405777438,0.8491185061461577,0.8484500669268547,0.8480121811851775,0.8480354023987513,0.8488025317757426,0.849015669343188,0.8484973386830585,0.8486773030882556,0.8487262335025717,0.8488829766941948,0.8484658241789228,0.8483107396454121,0.8483911845638641],\"type\":\"scatter\",\"xaxis\":\"x\",\"yaxis\":\"y\"},{\"marker\":{\"color\":[0,1,2,3,4,5,6,7,8,9,10,11,12,13,14,15,16,17,18,19,20,21,22,23,24,25,26,27,28,29,30,31,32,33,34,35,36,37,38,39,40,41,42,43,44,45,46,47,48,49,50,51,52,53,54,55,56,57,58,59,60,61,62,63,64,65,66,67,68,69,70,71,72,73,74,75,76,77,78,79,80,81,82,83,84,85,86,87,88,89,90,91,92,93,94,95,96,97,98,99],\"colorbar\":{\"title\":{\"text\":\"Trial\"},\"x\":1.0,\"xpad\":40},\"colorscale\":[[0.0,\"rgb(247,251,255)\"],[0.125,\"rgb(222,235,247)\"],[0.25,\"rgb(198,219,239)\"],[0.375,\"rgb(158,202,225)\"],[0.5,\"rgb(107,174,214)\"],[0.625,\"rgb(66,146,198)\"],[0.75,\"rgb(33,113,181)\"],[0.875,\"rgb(8,81,156)\"],[1.0,\"rgb(8,48,107)\"]],\"line\":{\"color\":\"Grey\",\"width\":0.5},\"showscale\":false},\"mode\":\"markers\",\"name\":\"Feasible Trial\",\"showlegend\":false,\"x\":[0.09627065321891087,0.09692718585964337,0.08693060578839726,0.09645167514865059,0.09226599478990952,0.09242885707810794,0.08536430810396324,0.09269648761523608,0.08297936043096779,0.09513208309564262,0.09912636572560067,0.0996270387948307,0.0999905343643998,0.09768264860829251,0.0800141860980913,0.08941541616822844,0.09971717591082875,0.09523635315515905,0.09419702747106502,0.09419123250253106,0.09093481580277044,0.09781671331530392,0.09752853293529462,0.09555612757788509,0.09799550781519561,0.08901397214349198,0.08863028545322256,0.08800871412211843,0.08551223920118928,0.08947294391483476,0.08814789911065062,0.0881365433763068,0.09099536309800778,0.08633816164733056,0.08625232756245123,0.08372296578252604,0.09089193856692221,0.08392543258222324,0.08725906572276543,0.08200720821122563,0.09093428241883031,0.08658830800781893,0.08521724472772749,0.09177407853859743,0.08991090122022272,0.08763831948595373,0.09292457672813513,0.0845340258409079,0.08131048995871387,0.08011775509171645,0.08152206400733604,0.08419648516188613,0.0824506441629997,0.08099519521063658,0.08602482370460161,0.08578230938043119,0.08332927285019383,0.08471582212668707,0.08308433497157634,0.08478838588135194,0.08305560260391055,0.0871197394416913,0.08693313546275162,0.08682444130816673,0.08640252138400582,0.08711999706300352,0.08576405347379296,0.08718380500865501,0.08494908886284666,0.08899663658155807,0.08608225562194699,0.08340607672427577,0.0867060348573222,0.08842504603739686,0.08425757257156145,0.08761802482816247,0.08544463341440268,0.08781052520829358,0.08769809206273001,0.08996744241144701,0.08870398008383445,0.08754277760435077,0.08681054440765484,0.09055021175788856,0.08598369298598546,0.08922365934405833,0.08791288748808367,0.08532710002089249,0.08660674971213415,0.09206435139620836,0.08519587487696667,0.08708471856919806,0.08737442043669649,0.08830167432257847,0.08730596577641582,0.08963227326399154,0.08700903141945493,0.09045320003245881,0.09155128150484389,0.08695220823279984],\"y\":[0.8475867353793435,0.8483604993887844,0.8474838985763736,0.8476282018321538,0.8479640800999175,0.8477443079000228,0.8474216988971582,0.8471430443342727,0.8476240551868728,0.848029597095358,0.8476588870072332,0.8485346584905878,0.8478479740320485,0.8466023217896258,0.8478794885361844,0.8478148008698003,0.8482095615005548,0.8484177230936628,0.8477078174215495,0.8483248382393676,0.8475801007468937,0.8475154130805097,0.8482153668039483,0.8480743808643931,0.8482269774107352,0.8484832400891031,0.8484185524227189,0.8480005705783906,0.8481257992658779,0.8483969898672578,0.8485968581698036,0.8482435639918594,0.8489725442322653,0.8487511133742579,0.8480884794583486,0.8476348364646035,0.8484807521019345,0.8476729856011889,0.8480204744757396,0.847753430519641,0.8482982997095689,0.848299129038625,0.8476837668789197,0.8475444395974768,0.8480611115994938,0.8479375415701189,0.8482452226499717,0.8485288531871946,0.8486242260286584,0.8478114835535755,0.8479110030403203,0.847954128151243,0.8475908820246244,0.8482170254620607,0.8487527720323704,0.8475784420887813,0.8486905723531548,0.8486947189984358,0.8484003071834825,0.8477783103913272,0.8477277213188986,0.8487900918398997,0.8489783495356586,0.8487701879425508,0.8486773030882556,0.8483115689744684,0.8484434322944052,0.8484019658415948,0.8482286360688476,0.846502802302881,0.8479010510916458,0.8485985168279159,0.8486366659645013,0.8480063758817842,0.8482137081458359,0.8488680487711832,0.8482692731926016,0.8488033611047989,0.8484683121660914,0.8480544769670441,0.8479549574802994,0.8482560039277023,0.8483082516582434,0.8478230941603624,0.8485752956143421,0.8485139252641827,0.848414405777438,0.8491185061461577,0.8484500669268547,0.8480121811851775,0.8480354023987513,0.8488025317757426,0.849015669343188,0.8484973386830585,0.8486773030882556,0.8487262335025717,0.8488829766941948,0.8484658241789228,0.8483107396454121,0.8483911845638641],\"type\":\"scatter\",\"xaxis\":\"x2\",\"yaxis\":\"y2\"},{\"marker\":{\"color\":[0,1,2,3,4,5,6,7,8,9,10,11,12,13,14,15,16,17,18,19,20,21,22,23,24,25,26,27,28,29,30,31,32,33,34,35,36,37,38,39,40,41,42,43,44,45,46,47,48,49,50,51,52,53,54,55,56,57,58,59,60,61,62,63,64,65,66,67,68,69,70,71,72,73,74,75,76,77,78,79,80,81,82,83,84,85,86,87,88,89,90,91,92,93,94,95,96,97,98,99],\"colorbar\":{\"title\":{\"text\":\"Trial\"},\"x\":1.0,\"xpad\":40},\"colorscale\":[[0.0,\"rgb(247,251,255)\"],[0.125,\"rgb(222,235,247)\"],[0.25,\"rgb(198,219,239)\"],[0.375,\"rgb(158,202,225)\"],[0.5,\"rgb(107,174,214)\"],[0.625,\"rgb(66,146,198)\"],[0.75,\"rgb(33,113,181)\"],[0.875,\"rgb(8,81,156)\"],[1.0,\"rgb(8,48,107)\"]],\"line\":{\"color\":\"Grey\",\"width\":0.5},\"showscale\":false},\"mode\":\"markers\",\"name\":\"Feasible Trial\",\"showlegend\":false,\"x\":[0.09960476566732211,0.0953466905664748,0.09264897775545142,0.09979443387984277,0.09077786955992817,0.09775763008010996,0.09129955907827879,0.09225959205992472,0.09171594494957329,0.09961290656666061,0.0951854098166623,0.09606029237268136,0.0952964384749197,0.09717337015297148,0.09396706912720638,0.09670602577991953,0.09416472059016312,0.09636196492302657,0.09830536048800326,0.09610823815531797,0.09340505826881962,0.09594876042609538,0.09463514519911988,0.09832782199529348,0.09627097489178553,0.09558072138074804,0.0977277377556106,0.09753383170793674,0.09863815183203894,0.09901184049978067,0.09694658929793736,0.09700242293825406,0.09770145404987209,0.09586101244071588,0.09477319489861932,0.09002091176101076,0.09697362343994188,0.0958574558249832,0.09920670030505836,0.09780149091361283,0.0973835488249816,0.09570015066322494,0.09648874696949565,0.09549784145967388,0.09502428604950346,0.09413748069721807,0.09334239149961028,0.09677909964007879,0.09812296887047005,0.09822906012976255,0.09976982821375227,0.09672235330861867,0.0980230317585423,0.09728280647577604,0.0987558315280955,0.09880477475233022,0.09856627254286202,0.09921940224721557,0.09934927222540117,0.09866863143077645,0.09997059456062155,0.09947075932105522,0.09913424899575031,0.09944596925077605,0.09947087297567747,0.09916833608339763,0.09962167591551112,0.09883879698080576,0.09906493602466485,0.09968668261863602,0.09999105842698712,0.09848931758317521,0.09850156264807665,0.09940759221838714,0.09891777029756206,0.09798228921193287,0.097789590848201,0.09919647203538036,0.09750512170340851,0.09821814827266258,0.09787146563928599,0.09916358104938935,0.0993368306565739,0.09888863393868315,0.09970924851828869,0.0994726887350707,0.09838933088081478,0.09803493626354244,0.09804127217653319,0.09254664136298839,0.09767599744228472,0.09864874585186713,0.0986555043974065,0.09867363115115588,0.0990025709159505,0.09839573765906526,0.09870836532815923,0.09799404917530201,0.09723337397124682,0.0983066448983749],\"y\":[0.8475867353793435,0.8483604993887844,0.8474838985763736,0.8476282018321538,0.8479640800999175,0.8477443079000228,0.8474216988971582,0.8471430443342727,0.8476240551868728,0.848029597095358,0.8476588870072332,0.8485346584905878,0.8478479740320485,0.8466023217896258,0.8478794885361844,0.8478148008698003,0.8482095615005548,0.8484177230936628,0.8477078174215495,0.8483248382393676,0.8475801007468937,0.8475154130805097,0.8482153668039483,0.8480743808643931,0.8482269774107352,0.8484832400891031,0.8484185524227189,0.8480005705783906,0.8481257992658779,0.8483969898672578,0.8485968581698036,0.8482435639918594,0.8489725442322653,0.8487511133742579,0.8480884794583486,0.8476348364646035,0.8484807521019345,0.8476729856011889,0.8480204744757396,0.847753430519641,0.8482982997095689,0.848299129038625,0.8476837668789197,0.8475444395974768,0.8480611115994938,0.8479375415701189,0.8482452226499717,0.8485288531871946,0.8486242260286584,0.8478114835535755,0.8479110030403203,0.847954128151243,0.8475908820246244,0.8482170254620607,0.8487527720323704,0.8475784420887813,0.8486905723531548,0.8486947189984358,0.8484003071834825,0.8477783103913272,0.8477277213188986,0.8487900918398997,0.8489783495356586,0.8487701879425508,0.8486773030882556,0.8483115689744684,0.8484434322944052,0.8484019658415948,0.8482286360688476,0.846502802302881,0.8479010510916458,0.8485985168279159,0.8486366659645013,0.8480063758817842,0.8482137081458359,0.8488680487711832,0.8482692731926016,0.8488033611047989,0.8484683121660914,0.8480544769670441,0.8479549574802994,0.8482560039277023,0.8483082516582434,0.8478230941603624,0.8485752956143421,0.8485139252641827,0.848414405777438,0.8491185061461577,0.8484500669268547,0.8480121811851775,0.8480354023987513,0.8488025317757426,0.849015669343188,0.8484973386830585,0.8486773030882556,0.8487262335025717,0.8488829766941948,0.8484658241789228,0.8483107396454121,0.8483911845638641],\"type\":\"scatter\",\"xaxis\":\"x3\",\"yaxis\":\"y3\"},{\"marker\":{\"color\":[0,1,2,3,4,5,6,7,8,9,10,11,12,13,14,15,16,17,18,19,20,21,22,23,24,25,26,27,28,29,30,31,32,33,34,35,36,37,38,39,40,41,42,43,44,45,46,47,48,49,50,51,52,53,54,55,56,57,58,59,60,61,62,63,64,65,66,67,68,69,70,71,72,73,74,75,76,77,78,79,80,81,82,83,84,85,86,87,88,89,90,91,92,93,94,95,96,97,98,99],\"colorbar\":{\"title\":{\"text\":\"Trial\"},\"x\":1.0,\"xpad\":40},\"colorscale\":[[0.0,\"rgb(247,251,255)\"],[0.125,\"rgb(222,235,247)\"],[0.25,\"rgb(198,219,239)\"],[0.375,\"rgb(158,202,225)\"],[0.5,\"rgb(107,174,214)\"],[0.625,\"rgb(66,146,198)\"],[0.75,\"rgb(33,113,181)\"],[0.875,\"rgb(8,81,156)\"],[1.0,\"rgb(8,48,107)\"]],\"line\":{\"color\":\"Grey\",\"width\":0.5},\"showscale\":false},\"mode\":\"markers\",\"name\":\"Feasible Trial\",\"showlegend\":false,\"x\":[8,10,12,9,6,6,13,11,14,7,15,9,10,10,9,11,16,8,8,8,7,10,9,12,7,9,9,9,12,9,11,11,10,10,13,11,12,10,13,11,10,9,10,8,11,10,10,7,6,12,6,6,7,6,7,6,7,8,8,7,7,6,6,8,8,6,8,8,7,7,6,7,6,7,8,7,9,8,14,6,7,8,9,8,8,9,16,7,7,6,6,7,7,7,6,7,7,7,6,7],\"y\":[0.8475867353793435,0.8483604993887844,0.8474838985763736,0.8476282018321538,0.8479640800999175,0.8477443079000228,0.8474216988971582,0.8471430443342727,0.8476240551868728,0.848029597095358,0.8476588870072332,0.8485346584905878,0.8478479740320485,0.8466023217896258,0.8478794885361844,0.8478148008698003,0.8482095615005548,0.8484177230936628,0.8477078174215495,0.8483248382393676,0.8475801007468937,0.8475154130805097,0.8482153668039483,0.8480743808643931,0.8482269774107352,0.8484832400891031,0.8484185524227189,0.8480005705783906,0.8481257992658779,0.8483969898672578,0.8485968581698036,0.8482435639918594,0.8489725442322653,0.8487511133742579,0.8480884794583486,0.8476348364646035,0.8484807521019345,0.8476729856011889,0.8480204744757396,0.847753430519641,0.8482982997095689,0.848299129038625,0.8476837668789197,0.8475444395974768,0.8480611115994938,0.8479375415701189,0.8482452226499717,0.8485288531871946,0.8486242260286584,0.8478114835535755,0.8479110030403203,0.847954128151243,0.8475908820246244,0.8482170254620607,0.8487527720323704,0.8475784420887813,0.8486905723531548,0.8486947189984358,0.8484003071834825,0.8477783103913272,0.8477277213188986,0.8487900918398997,0.8489783495356586,0.8487701879425508,0.8486773030882556,0.8483115689744684,0.8484434322944052,0.8484019658415948,0.8482286360688476,0.846502802302881,0.8479010510916458,0.8485985168279159,0.8486366659645013,0.8480063758817842,0.8482137081458359,0.8488680487711832,0.8482692731926016,0.8488033611047989,0.8484683121660914,0.8480544769670441,0.8479549574802994,0.8482560039277023,0.8483082516582434,0.8478230941603624,0.8485752956143421,0.8485139252641827,0.848414405777438,0.8491185061461577,0.8484500669268547,0.8480121811851775,0.8480354023987513,0.8488025317757426,0.849015669343188,0.8484973386830585,0.8486773030882556,0.8487262335025717,0.8488829766941948,0.8484658241789228,0.8483107396454121,0.8483911845638641],\"type\":\"scatter\",\"xaxis\":\"x4\",\"yaxis\":\"y4\"},{\"marker\":{\"color\":[0,1,2,3,4,5,6,7,8,9,10,11,12,13,14,15,16,17,18,19,20,21,22,23,24,25,26,27,28,29,30,31,32,33,34,35,36,37,38,39,40,41,42,43,44,45,46,47,48,49,50,51,52,53,54,55,56,57,58,59,60,61,62,63,64,65,66,67,68,69,70,71,72,73,74,75,76,77,78,79,80,81,82,83,84,85,86,87,88,89,90,91,92,93,94,95,96,97,98,99],\"colorbar\":{\"title\":{\"text\":\"Trial\"},\"x\":1.0,\"xpad\":40},\"colorscale\":[[0.0,\"rgb(247,251,255)\"],[0.125,\"rgb(222,235,247)\"],[0.25,\"rgb(198,219,239)\"],[0.375,\"rgb(158,202,225)\"],[0.5,\"rgb(107,174,214)\"],[0.625,\"rgb(66,146,198)\"],[0.75,\"rgb(33,113,181)\"],[0.875,\"rgb(8,81,156)\"],[1.0,\"rgb(8,48,107)\"]],\"line\":{\"color\":\"Grey\",\"width\":0.5},\"showscale\":false},\"mode\":\"markers\",\"name\":\"Feasible Trial\",\"showlegend\":false,\"x\":[15,13,15,18,18,19,19,12,15,16,10,12,12,12,10,13,13,13,11,14,11,13,14,14,16,11,11,11,10,11,12,12,11,10,10,12,10,12,16,20,17,11,11,10,12,10,11,14,14,15,13,14,15,14,12,12,13,13,13,13,13,12,13,12,12,12,11,12,11,10,13,12,13,13,13,12,11,11,11,10,12,12,11,11,12,10,12,11,10,11,11,12,11,11,12,12,11,11,11,11],\"y\":[0.8475867353793435,0.8483604993887844,0.8474838985763736,0.8476282018321538,0.8479640800999175,0.8477443079000228,0.8474216988971582,0.8471430443342727,0.8476240551868728,0.848029597095358,0.8476588870072332,0.8485346584905878,0.8478479740320485,0.8466023217896258,0.8478794885361844,0.8478148008698003,0.8482095615005548,0.8484177230936628,0.8477078174215495,0.8483248382393676,0.8475801007468937,0.8475154130805097,0.8482153668039483,0.8480743808643931,0.8482269774107352,0.8484832400891031,0.8484185524227189,0.8480005705783906,0.8481257992658779,0.8483969898672578,0.8485968581698036,0.8482435639918594,0.8489725442322653,0.8487511133742579,0.8480884794583486,0.8476348364646035,0.8484807521019345,0.8476729856011889,0.8480204744757396,0.847753430519641,0.8482982997095689,0.848299129038625,0.8476837668789197,0.8475444395974768,0.8480611115994938,0.8479375415701189,0.8482452226499717,0.8485288531871946,0.8486242260286584,0.8478114835535755,0.8479110030403203,0.847954128151243,0.8475908820246244,0.8482170254620607,0.8487527720323704,0.8475784420887813,0.8486905723531548,0.8486947189984358,0.8484003071834825,0.8477783103913272,0.8477277213188986,0.8487900918398997,0.8489783495356586,0.8487701879425508,0.8486773030882556,0.8483115689744684,0.8484434322944052,0.8484019658415948,0.8482286360688476,0.846502802302881,0.8479010510916458,0.8485985168279159,0.8486366659645013,0.8480063758817842,0.8482137081458359,0.8488680487711832,0.8482692731926016,0.8488033611047989,0.8484683121660914,0.8480544769670441,0.8479549574802994,0.8482560039277023,0.8483082516582434,0.8478230941603624,0.8485752956143421,0.8485139252641827,0.848414405777438,0.8491185061461577,0.8484500669268547,0.8480121811851775,0.8480354023987513,0.8488025317757426,0.849015669343188,0.8484973386830585,0.8486773030882556,0.8487262335025717,0.8488829766941948,0.8484658241789228,0.8483107396454121,0.8483911845638641],\"type\":\"scatter\",\"xaxis\":\"x5\",\"yaxis\":\"y5\"},{\"marker\":{\"color\":[0,1,2,3,4,5,6,7,8,9,10,11,12,13,14,15,16,17,18,19,20,21,22,23,24,25,26,27,28,29,30,31,32,33,34,35,36,37,38,39,40,41,42,43,44,45,46,47,48,49,50,51,52,53,54,55,56,57,58,59,60,61,62,63,64,65,66,67,68,69,70,71,72,73,74,75,76,77,78,79,80,81,82,83,84,85,86,87,88,89,90,91,92,93,94,95,96,97,98,99],\"colorbar\":{\"title\":{\"text\":\"Trial\"},\"x\":1.0,\"xpad\":40},\"colorscale\":[[0.0,\"rgb(247,251,255)\"],[0.125,\"rgb(222,235,247)\"],[0.25,\"rgb(198,219,239)\"],[0.375,\"rgb(158,202,225)\"],[0.5,\"rgb(107,174,214)\"],[0.625,\"rgb(66,146,198)\"],[0.75,\"rgb(33,113,181)\"],[0.875,\"rgb(8,81,156)\"],[1.0,\"rgb(8,48,107)\"]],\"line\":{\"color\":\"Grey\",\"width\":0.5},\"showscale\":false},\"mode\":\"markers\",\"name\":\"Feasible Trial\",\"showlegend\":false,\"x\":[2312,2022,2360,2254,2164,2497,2254,2122,2486,2422,2050,2005,2012,2098,2020,2181,2095,2001,2183,2077,2139,2003,2050,2052,2003,2221,2218,2304,2217,2324,2228,2222,2292,2284,2294,2369,2341,2275,2395,2271,2433,2232,2254,2198,2147,2344,2282,2315,2317,2460,2377,2307,2329,2399,2246,2243,2350,2261,2268,2355,2291,2253,2265,2193,2199,2253,2243,2200,2168,2266,2284,2295,2260,2235,2332,2211,2208,2162,2181,2138,2163,2213,2188,2113,2233,2249,2157,2301,2303,2274,2281,2260,2180,2187,2132,2174,2220,2224,2199,2151],\"y\":[0.8475867353793435,0.8483604993887844,0.8474838985763736,0.8476282018321538,0.8479640800999175,0.8477443079000228,0.8474216988971582,0.8471430443342727,0.8476240551868728,0.848029597095358,0.8476588870072332,0.8485346584905878,0.8478479740320485,0.8466023217896258,0.8478794885361844,0.8478148008698003,0.8482095615005548,0.8484177230936628,0.8477078174215495,0.8483248382393676,0.8475801007468937,0.8475154130805097,0.8482153668039483,0.8480743808643931,0.8482269774107352,0.8484832400891031,0.8484185524227189,0.8480005705783906,0.8481257992658779,0.8483969898672578,0.8485968581698036,0.8482435639918594,0.8489725442322653,0.8487511133742579,0.8480884794583486,0.8476348364646035,0.8484807521019345,0.8476729856011889,0.8480204744757396,0.847753430519641,0.8482982997095689,0.848299129038625,0.8476837668789197,0.8475444395974768,0.8480611115994938,0.8479375415701189,0.8482452226499717,0.8485288531871946,0.8486242260286584,0.8478114835535755,0.8479110030403203,0.847954128151243,0.8475908820246244,0.8482170254620607,0.8487527720323704,0.8475784420887813,0.8486905723531548,0.8486947189984358,0.8484003071834825,0.8477783103913272,0.8477277213188986,0.8487900918398997,0.8489783495356586,0.8487701879425508,0.8486773030882556,0.8483115689744684,0.8484434322944052,0.8484019658415948,0.8482286360688476,0.846502802302881,0.8479010510916458,0.8485985168279159,0.8486366659645013,0.8480063758817842,0.8482137081458359,0.8488680487711832,0.8482692731926016,0.8488033611047989,0.8484683121660914,0.8480544769670441,0.8479549574802994,0.8482560039277023,0.8483082516582434,0.8478230941603624,0.8485752956143421,0.8485139252641827,0.848414405777438,0.8491185061461577,0.8484500669268547,0.8480121811851775,0.8480354023987513,0.8488025317757426,0.849015669343188,0.8484973386830585,0.8486773030882556,0.8487262335025717,0.8488829766941948,0.8484658241789228,0.8483107396454121,0.8483911845638641],\"type\":\"scatter\",\"xaxis\":\"x6\",\"yaxis\":\"y6\"},{\"marker\":{\"color\":[0,1,2,3,4,5,6,7,8,9,10,11,12,13,14,15,16,17,18,19,20,21,22,23,24,25,26,27,28,29,30,31,32,33,34,35,36,37,38,39,40,41,42,43,44,45,46,47,48,49,50,51,52,53,54,55,56,57,58,59,60,61,62,63,64,65,66,67,68,69,70,71,72,73,74,75,76,77,78,79,80,81,82,83,84,85,86,87,88,89,90,91,92,93,94,95,96,97,98,99],\"colorbar\":{\"title\":{\"text\":\"Trial\"},\"x\":1.0,\"xpad\":40},\"colorscale\":[[0.0,\"rgb(247,251,255)\"],[0.125,\"rgb(222,235,247)\"],[0.25,\"rgb(198,219,239)\"],[0.375,\"rgb(158,202,225)\"],[0.5,\"rgb(107,174,214)\"],[0.625,\"rgb(66,146,198)\"],[0.75,\"rgb(33,113,181)\"],[0.875,\"rgb(8,81,156)\"],[1.0,\"rgb(8,48,107)\"]],\"line\":{\"color\":\"Grey\",\"width\":0.5},\"showscale\":false},\"mode\":\"markers\",\"name\":\"Feasible Trial\",\"showlegend\":false,\"x\":[23.79482920739249,26.64000823080019,24.26515312745208,28.16091519802796,30.9648560732172,30.164456431023353,23.81314146975183,22.09860262143469,32.16030619788683,29.484455684523617,26.736422703269383,28.487092902187438,26.708606559933052,20.031763849023495,28.571820622201237,25.6598654470349,32.76329091660539,27.7906053151707,27.756226739610344,31.15423391513286,29.1030077846423,24.912101757483608,27.48562100347521,25.696024774406258,27.099940207638937,29.139711815798915,30.038238502346264,30.19677586687297,31.326932839314033,29.449428737158666,28.88037181033493,30.168724448628456,29.09597986937576,28.769403761154322,28.445954788999153,25.983176218825708,28.604689858996874,31.048848434535188,31.859963126781295,28.051456187681637,29.7574970530654,28.935455579396994,29.11202514987282,27.296467290568224,30.635823652349128,28.1981824901138,30.619681765025565,29.492517652867786,26.449308178717786,24.776770299099454,26.225698520480098,26.58713474710103,23.427530002574237,26.972211439321846,27.735267353607412,27.838295458489963,28.693378363706735,27.52473699679453,25.144369158699966,27.540979815620382,26.445052102710154,28.246225936311294,28.19884393584584,28.173800501972604,28.136657389929333,27.31908987217937,28.178926033761687,26.99013070359816,27.7847028137807,20.29212778871719,29.680238567215145,28.614658210095364,28.69927984824982,29.267256113041814,28.24772827514094,29.912091420365506,27.51160209332779,29.78189072108573,30.496891628082526,29.78855036970075,31.424712903753534,29.97548911577033,27.900278654910185,29.002717124928857,29.38794355890436,28.470280853661674,30.19068343138599,28.882831581634914,28.945117672821176,29.37063904422662,30.760472508399943,28.375770913526107,28.47512051900406,28.34973053084581,30.3945597414067,29.562576623456373,27.993003002792165,29.914940816916054,29.089872856630016,27.171498316649146],\"y\":[0.8475867353793435,0.8483604993887844,0.8474838985763736,0.8476282018321538,0.8479640800999175,0.8477443079000228,0.8474216988971582,0.8471430443342727,0.8476240551868728,0.848029597095358,0.8476588870072332,0.8485346584905878,0.8478479740320485,0.8466023217896258,0.8478794885361844,0.8478148008698003,0.8482095615005548,0.8484177230936628,0.8477078174215495,0.8483248382393676,0.8475801007468937,0.8475154130805097,0.8482153668039483,0.8480743808643931,0.8482269774107352,0.8484832400891031,0.8484185524227189,0.8480005705783906,0.8481257992658779,0.8483969898672578,0.8485968581698036,0.8482435639918594,0.8489725442322653,0.8487511133742579,0.8480884794583486,0.8476348364646035,0.8484807521019345,0.8476729856011889,0.8480204744757396,0.847753430519641,0.8482982997095689,0.848299129038625,0.8476837668789197,0.8475444395974768,0.8480611115994938,0.8479375415701189,0.8482452226499717,0.8485288531871946,0.8486242260286584,0.8478114835535755,0.8479110030403203,0.847954128151243,0.8475908820246244,0.8482170254620607,0.8487527720323704,0.8475784420887813,0.8486905723531548,0.8486947189984358,0.8484003071834825,0.8477783103913272,0.8477277213188986,0.8487900918398997,0.8489783495356586,0.8487701879425508,0.8486773030882556,0.8483115689744684,0.8484434322944052,0.8484019658415948,0.8482286360688476,0.846502802302881,0.8479010510916458,0.8485985168279159,0.8486366659645013,0.8480063758817842,0.8482137081458359,0.8488680487711832,0.8482692731926016,0.8488033611047989,0.8484683121660914,0.8480544769670441,0.8479549574802994,0.8482560039277023,0.8483082516582434,0.8478230941603624,0.8485752956143421,0.8485139252641827,0.848414405777438,0.8491185061461577,0.8484500669268547,0.8480121811851775,0.8480354023987513,0.8488025317757426,0.849015669343188,0.8484973386830585,0.8486773030882556,0.8487262335025717,0.8488829766941948,0.8484658241789228,0.8483107396454121,0.8483911845638641],\"type\":\"scatter\",\"xaxis\":\"x7\",\"yaxis\":\"y7\"},{\"marker\":{\"color\":[0,1,2,3,4,5,6,7,8,9,10,11,12,13,14,15,16,17,18,19,20,21,22,23,24,25,26,27,28,29,30,31,32,33,34,35,36,37,38,39,40,41,42,43,44,45,46,47,48,49,50,51,52,53,54,55,56,57,58,59,60,61,62,63,64,65,66,67,68,69,70,71,72,73,74,75,76,77,78,79,80,81,82,83,84,85,86,87,88,89,90,91,92,93,94,95,96,97,98,99],\"colorbar\":{\"title\":{\"text\":\"Trial\"},\"x\":1.0,\"xpad\":40},\"colorscale\":[[0.0,\"rgb(247,251,255)\"],[0.125,\"rgb(222,235,247)\"],[0.25,\"rgb(198,219,239)\"],[0.375,\"rgb(158,202,225)\"],[0.5,\"rgb(107,174,214)\"],[0.625,\"rgb(66,146,198)\"],[0.75,\"rgb(33,113,181)\"],[0.875,\"rgb(8,81,156)\"],[1.0,\"rgb(8,48,107)\"]],\"line\":{\"color\":\"Grey\",\"width\":0.5},\"showscale\":false},\"mode\":\"markers\",\"name\":\"Feasible Trial\",\"showlegend\":false,\"x\":[0.0021101222306900338,0.000324721970749034,0.00004737070896299573,0.00009917042914935824,0.002449914062921427,0.0002701141036865659,0.004552082917534909,0.00010112729713578859,0.00033425505021768373,0.00015776002404821468,0.000011344335499621288,0.0006020048671501197,0.0007433460808816016,0.0008364822402749878,0.000783689435659927,0.008278251557092676,0.00003117566255134943,0.00039303118535567586,0.0018794190572367843,0.0005428129121302456,0.0013235265095538293,0.0003077576068043484,0.0001593475366541242,0.0004200276506568078,0.00019438045121936013,0.0012433170749515368,0.004065530480291512,0.005856633598295681,0.00360855233090065,0.0014164918273660684,0.009838637718487038,0.009951143333716769,0.003085056682669459,0.002780052680727731,0.0028428941273941225,0.006892092517094602,0.0020323616682481663,0.005726058144921093,0.0033585688551028142,0.0021519728439538424,0.0045175545994621605,0.0011888022948695711,0.0009890853839870037,0.0005671405872008219,0.0014299323474075908,0.003057736266553211,0.0005977260091057414,0.0017329676437615874,0.00241339042129218,0.007669242041173113,0.005730877700451567,0.0025070820270023104,0.0019567696603486097,0.0017613951460982,0.0008781634843981397,0.0008765671613215,0.00008464385518954274,0.00010148653813437752,0.00009558855756955031,0.000052101570678159434,0.00006333075976970524,0.00003572300453800786,0.00002422452251133195,0.000026967347323130354,0.0000297916743205598,0.000013613217007189784,0.000023872775078827496,0.000015187351962105938,0.00004248560257927466,0.000019126008505130068,0.000038128370572608594,0.0000847597435445542,0.00013320624674418704,0.00005558634131696962,0.00024393957294667568,0.00003255019306653705,0.000010162028645994509,0.000024706316066730893,0.000025783318992400247,0.000019475558921025922,0.00003475329353005373,0.00001740065365056298,0.000023356084807485973,0.00006651555538084287,0.000026901388413414515,0.00001304863543184956,0.00003441349292921719,0.00004630214316652597,0.00004451200875134304,0.000021638517021061443,0.00002951800062240586,0.000039146077573166357,0.00004170346295787854,0.00003848581934522477,0.00005012561810751319,0.000016037112846799053,0.00006348951498863003,0.00005897217496406648,0.00007692050461375432,0.000032696411692057005],\"y\":[0.8475867353793435,0.8483604993887844,0.8474838985763736,0.8476282018321538,0.8479640800999175,0.8477443079000228,0.8474216988971582,0.8471430443342727,0.8476240551868728,0.848029597095358,0.8476588870072332,0.8485346584905878,0.8478479740320485,0.8466023217896258,0.8478794885361844,0.8478148008698003,0.8482095615005548,0.8484177230936628,0.8477078174215495,0.8483248382393676,0.8475801007468937,0.8475154130805097,0.8482153668039483,0.8480743808643931,0.8482269774107352,0.8484832400891031,0.8484185524227189,0.8480005705783906,0.8481257992658779,0.8483969898672578,0.8485968581698036,0.8482435639918594,0.8489725442322653,0.8487511133742579,0.8480884794583486,0.8476348364646035,0.8484807521019345,0.8476729856011889,0.8480204744757396,0.847753430519641,0.8482982997095689,0.848299129038625,0.8476837668789197,0.8475444395974768,0.8480611115994938,0.8479375415701189,0.8482452226499717,0.8485288531871946,0.8486242260286584,0.8478114835535755,0.8479110030403203,0.847954128151243,0.8475908820246244,0.8482170254620607,0.8487527720323704,0.8475784420887813,0.8486905723531548,0.8486947189984358,0.8484003071834825,0.8477783103913272,0.8477277213188986,0.8487900918398997,0.8489783495356586,0.8487701879425508,0.8486773030882556,0.8483115689744684,0.8484434322944052,0.8484019658415948,0.8482286360688476,0.846502802302881,0.8479010510916458,0.8485985168279159,0.8486366659645013,0.8480063758817842,0.8482137081458359,0.8488680487711832,0.8482692731926016,0.8488033611047989,0.8484683121660914,0.8480544769670441,0.8479549574802994,0.8482560039277023,0.8483082516582434,0.8478230941603624,0.8485752956143421,0.8485139252641827,0.848414405777438,0.8491185061461577,0.8484500669268547,0.8480121811851775,0.8480354023987513,0.8488025317757426,0.849015669343188,0.8484973386830585,0.8486773030882556,0.8487262335025717,0.8488829766941948,0.8484658241789228,0.8483107396454121,0.8483911845638641],\"type\":\"scatter\",\"xaxis\":\"x8\",\"yaxis\":\"y8\"},{\"marker\":{\"color\":[0,1,2,3,4,5,6,7,8,9,10,11,12,13,14,15,16,17,18,19,20,21,22,23,24,25,26,27,28,29,30,31,32,33,34,35,36,37,38,39,40,41,42,43,44,45,46,47,48,49,50,51,52,53,54,55,56,57,58,59,60,61,62,63,64,65,66,67,68,69,70,71,72,73,74,75,76,77,78,79,80,81,82,83,84,85,86,87,88,89,90,91,92,93,94,95,96,97,98,99],\"colorbar\":{\"title\":{\"text\":\"Trial\"},\"x\":1.0,\"xpad\":40},\"colorscale\":[[0.0,\"rgb(247,251,255)\"],[0.125,\"rgb(222,235,247)\"],[0.25,\"rgb(198,219,239)\"],[0.375,\"rgb(158,202,225)\"],[0.5,\"rgb(107,174,214)\"],[0.625,\"rgb(66,146,198)\"],[0.75,\"rgb(33,113,181)\"],[0.875,\"rgb(8,81,156)\"],[1.0,\"rgb(8,48,107)\"]],\"line\":{\"color\":\"Grey\",\"width\":0.5},\"showscale\":false},\"mode\":\"markers\",\"name\":\"Feasible Trial\",\"showlegend\":false,\"x\":[0.5646323188934086,0.48820585776775827,0.5238939431747547,0.4921158888969852,0.5566420972339842,0.5463479857607537,0.48957534405151937,0.5634433030675026,0.5389080807473349,0.5898469182180279,0.46052156246183384,0.5883259836198096,0.5954513576100239,0.5065486586279849,0.45446405124596556,0.4819400422163515,0.5123192140965316,0.5796317840110472,0.5786590891872813,0.57855787238742,0.5985055086423725,0.5358503083146522,0.5814956414955387,0.46657337487384704,0.4739350388899413,0.5076062574546278,0.5048156474119201,0.5029294636800652,0.5263915492090881,0.5134738269492399,0.5219938711967866,0.5234836471500174,0.49813435772386294,0.49708154770296786,0.4938199745194427,0.5196698218633321,0.49496343706045587,0.4832845316772294,0.5511141886174904,0.5349579736619383,0.4985341909032869,0.5140710829130386,0.4777254996283977,0.5279992039499277,0.5654449461339291,0.4879166544979389,0.5437469082502868,0.5103481089192221,0.49802759532546664,0.49873964719418884,0.4705691136440322,0.5175464440141045,0.4845997725601633,0.5096297532769045,0.5011184937530918,0.49212125654102096,0.5007140576580537,0.5005922194235907,0.5001107868335412,0.4883982372432778,0.48089544145946117,0.5039674817356478,0.5037206921555935,0.5032685118810104,0.5066185038060647,0.5153631193383069,0.5036497011716519,0.48978279991000373,0.4957813675196607,0.5316232282097999,0.47823276104270523,0.5045790929249987,0.5022721413900423,0.4931141011931759,0.5090750347966861,0.5007251504361532,0.4884448681183084,0.5190645813356352,0.5178768526370862,0.5106122901679715,0.5219075140402744,0.5052891299921549,0.495768848756535,0.48541805623109446,0.515885339615544,0.5124136310291206,0.49633862479380064,0.5013332683726727,0.5076800942847868,0.5281911258832133,0.4919769568512489,0.5013060927844598,0.5024509315988298,0.504189024511803,0.5007975759435193,0.5115502521937939,0.5192119699258844,0.5193999594825286,0.5238953821861353,0.5147618991512779],\"y\":[0.8475867353793435,0.8483604993887844,0.8474838985763736,0.8476282018321538,0.8479640800999175,0.8477443079000228,0.8474216988971582,0.8471430443342727,0.8476240551868728,0.848029597095358,0.8476588870072332,0.8485346584905878,0.8478479740320485,0.8466023217896258,0.8478794885361844,0.8478148008698003,0.8482095615005548,0.8484177230936628,0.8477078174215495,0.8483248382393676,0.8475801007468937,0.8475154130805097,0.8482153668039483,0.8480743808643931,0.8482269774107352,0.8484832400891031,0.8484185524227189,0.8480005705783906,0.8481257992658779,0.8483969898672578,0.8485968581698036,0.8482435639918594,0.8489725442322653,0.8487511133742579,0.8480884794583486,0.8476348364646035,0.8484807521019345,0.8476729856011889,0.8480204744757396,0.847753430519641,0.8482982997095689,0.848299129038625,0.8476837668789197,0.8475444395974768,0.8480611115994938,0.8479375415701189,0.8482452226499717,0.8485288531871946,0.8486242260286584,0.8478114835535755,0.8479110030403203,0.847954128151243,0.8475908820246244,0.8482170254620607,0.8487527720323704,0.8475784420887813,0.8486905723531548,0.8486947189984358,0.8484003071834825,0.8477783103913272,0.8477277213188986,0.8487900918398997,0.8489783495356586,0.8487701879425508,0.8486773030882556,0.8483115689744684,0.8484434322944052,0.8484019658415948,0.8482286360688476,0.846502802302881,0.8479010510916458,0.8485985168279159,0.8486366659645013,0.8480063758817842,0.8482137081458359,0.8488680487711832,0.8482692731926016,0.8488033611047989,0.8484683121660914,0.8480544769670441,0.8479549574802994,0.8482560039277023,0.8483082516582434,0.8478230941603624,0.8485752956143421,0.8485139252641827,0.848414405777438,0.8491185061461577,0.8484500669268547,0.8480121811851775,0.8480354023987513,0.8488025317757426,0.849015669343188,0.8484973386830585,0.8486773030882556,0.8487262335025717,0.8488829766941948,0.8484658241789228,0.8483107396454121,0.8483911845638641],\"type\":\"scatter\",\"xaxis\":\"x9\",\"yaxis\":\"y9\"}],                        {\"template\":{\"data\":{\"histogram2dcontour\":[{\"type\":\"histogram2dcontour\",\"colorbar\":{\"outlinewidth\":0,\"ticks\":\"\"},\"colorscale\":[[0.0,\"#0d0887\"],[0.1111111111111111,\"#46039f\"],[0.2222222222222222,\"#7201a8\"],[0.3333333333333333,\"#9c179e\"],[0.4444444444444444,\"#bd3786\"],[0.5555555555555556,\"#d8576b\"],[0.6666666666666666,\"#ed7953\"],[0.7777777777777778,\"#fb9f3a\"],[0.8888888888888888,\"#fdca26\"],[1.0,\"#f0f921\"]]}],\"choropleth\":[{\"type\":\"choropleth\",\"colorbar\":{\"outlinewidth\":0,\"ticks\":\"\"}}],\"histogram2d\":[{\"type\":\"histogram2d\",\"colorbar\":{\"outlinewidth\":0,\"ticks\":\"\"},\"colorscale\":[[0.0,\"#0d0887\"],[0.1111111111111111,\"#46039f\"],[0.2222222222222222,\"#7201a8\"],[0.3333333333333333,\"#9c179e\"],[0.4444444444444444,\"#bd3786\"],[0.5555555555555556,\"#d8576b\"],[0.6666666666666666,\"#ed7953\"],[0.7777777777777778,\"#fb9f3a\"],[0.8888888888888888,\"#fdca26\"],[1.0,\"#f0f921\"]]}],\"heatmap\":[{\"type\":\"heatmap\",\"colorbar\":{\"outlinewidth\":0,\"ticks\":\"\"},\"colorscale\":[[0.0,\"#0d0887\"],[0.1111111111111111,\"#46039f\"],[0.2222222222222222,\"#7201a8\"],[0.3333333333333333,\"#9c179e\"],[0.4444444444444444,\"#bd3786\"],[0.5555555555555556,\"#d8576b\"],[0.6666666666666666,\"#ed7953\"],[0.7777777777777778,\"#fb9f3a\"],[0.8888888888888888,\"#fdca26\"],[1.0,\"#f0f921\"]]}],\"heatmapgl\":[{\"type\":\"heatmapgl\",\"colorbar\":{\"outlinewidth\":0,\"ticks\":\"\"},\"colorscale\":[[0.0,\"#0d0887\"],[0.1111111111111111,\"#46039f\"],[0.2222222222222222,\"#7201a8\"],[0.3333333333333333,\"#9c179e\"],[0.4444444444444444,\"#bd3786\"],[0.5555555555555556,\"#d8576b\"],[0.6666666666666666,\"#ed7953\"],[0.7777777777777778,\"#fb9f3a\"],[0.8888888888888888,\"#fdca26\"],[1.0,\"#f0f921\"]]}],\"contourcarpet\":[{\"type\":\"contourcarpet\",\"colorbar\":{\"outlinewidth\":0,\"ticks\":\"\"}}],\"contour\":[{\"type\":\"contour\",\"colorbar\":{\"outlinewidth\":0,\"ticks\":\"\"},\"colorscale\":[[0.0,\"#0d0887\"],[0.1111111111111111,\"#46039f\"],[0.2222222222222222,\"#7201a8\"],[0.3333333333333333,\"#9c179e\"],[0.4444444444444444,\"#bd3786\"],[0.5555555555555556,\"#d8576b\"],[0.6666666666666666,\"#ed7953\"],[0.7777777777777778,\"#fb9f3a\"],[0.8888888888888888,\"#fdca26\"],[1.0,\"#f0f921\"]]}],\"surface\":[{\"type\":\"surface\",\"colorbar\":{\"outlinewidth\":0,\"ticks\":\"\"},\"colorscale\":[[0.0,\"#0d0887\"],[0.1111111111111111,\"#46039f\"],[0.2222222222222222,\"#7201a8\"],[0.3333333333333333,\"#9c179e\"],[0.4444444444444444,\"#bd3786\"],[0.5555555555555556,\"#d8576b\"],[0.6666666666666666,\"#ed7953\"],[0.7777777777777778,\"#fb9f3a\"],[0.8888888888888888,\"#fdca26\"],[1.0,\"#f0f921\"]]}],\"mesh3d\":[{\"type\":\"mesh3d\",\"colorbar\":{\"outlinewidth\":0,\"ticks\":\"\"}}],\"scatter\":[{\"fillpattern\":{\"fillmode\":\"overlay\",\"size\":10,\"solidity\":0.2},\"type\":\"scatter\"}],\"parcoords\":[{\"type\":\"parcoords\",\"line\":{\"colorbar\":{\"outlinewidth\":0,\"ticks\":\"\"}}}],\"scatterpolargl\":[{\"type\":\"scatterpolargl\",\"marker\":{\"colorbar\":{\"outlinewidth\":0,\"ticks\":\"\"}}}],\"bar\":[{\"error_x\":{\"color\":\"#2a3f5f\"},\"error_y\":{\"color\":\"#2a3f5f\"},\"marker\":{\"line\":{\"color\":\"#E5ECF6\",\"width\":0.5},\"pattern\":{\"fillmode\":\"overlay\",\"size\":10,\"solidity\":0.2}},\"type\":\"bar\"}],\"scattergeo\":[{\"type\":\"scattergeo\",\"marker\":{\"colorbar\":{\"outlinewidth\":0,\"ticks\":\"\"}}}],\"scatterpolar\":[{\"type\":\"scatterpolar\",\"marker\":{\"colorbar\":{\"outlinewidth\":0,\"ticks\":\"\"}}}],\"histogram\":[{\"marker\":{\"pattern\":{\"fillmode\":\"overlay\",\"size\":10,\"solidity\":0.2}},\"type\":\"histogram\"}],\"scattergl\":[{\"type\":\"scattergl\",\"marker\":{\"colorbar\":{\"outlinewidth\":0,\"ticks\":\"\"}}}],\"scatter3d\":[{\"type\":\"scatter3d\",\"line\":{\"colorbar\":{\"outlinewidth\":0,\"ticks\":\"\"}},\"marker\":{\"colorbar\":{\"outlinewidth\":0,\"ticks\":\"\"}}}],\"scattermapbox\":[{\"type\":\"scattermapbox\",\"marker\":{\"colorbar\":{\"outlinewidth\":0,\"ticks\":\"\"}}}],\"scatterternary\":[{\"type\":\"scatterternary\",\"marker\":{\"colorbar\":{\"outlinewidth\":0,\"ticks\":\"\"}}}],\"scattercarpet\":[{\"type\":\"scattercarpet\",\"marker\":{\"colorbar\":{\"outlinewidth\":0,\"ticks\":\"\"}}}],\"carpet\":[{\"aaxis\":{\"endlinecolor\":\"#2a3f5f\",\"gridcolor\":\"white\",\"linecolor\":\"white\",\"minorgridcolor\":\"white\",\"startlinecolor\":\"#2a3f5f\"},\"baxis\":{\"endlinecolor\":\"#2a3f5f\",\"gridcolor\":\"white\",\"linecolor\":\"white\",\"minorgridcolor\":\"white\",\"startlinecolor\":\"#2a3f5f\"},\"type\":\"carpet\"}],\"table\":[{\"cells\":{\"fill\":{\"color\":\"#EBF0F8\"},\"line\":{\"color\":\"white\"}},\"header\":{\"fill\":{\"color\":\"#C8D4E3\"},\"line\":{\"color\":\"white\"}},\"type\":\"table\"}],\"barpolar\":[{\"marker\":{\"line\":{\"color\":\"#E5ECF6\",\"width\":0.5},\"pattern\":{\"fillmode\":\"overlay\",\"size\":10,\"solidity\":0.2}},\"type\":\"barpolar\"}],\"pie\":[{\"automargin\":true,\"type\":\"pie\"}]},\"layout\":{\"autotypenumbers\":\"strict\",\"colorway\":[\"#636efa\",\"#EF553B\",\"#00cc96\",\"#ab63fa\",\"#FFA15A\",\"#19d3f3\",\"#FF6692\",\"#B6E880\",\"#FF97FF\",\"#FECB52\"],\"font\":{\"color\":\"#2a3f5f\"},\"hovermode\":\"closest\",\"hoverlabel\":{\"align\":\"left\"},\"paper_bgcolor\":\"white\",\"plot_bgcolor\":\"#E5ECF6\",\"polar\":{\"bgcolor\":\"#E5ECF6\",\"angularaxis\":{\"gridcolor\":\"white\",\"linecolor\":\"white\",\"ticks\":\"\"},\"radialaxis\":{\"gridcolor\":\"white\",\"linecolor\":\"white\",\"ticks\":\"\"}},\"ternary\":{\"bgcolor\":\"#E5ECF6\",\"aaxis\":{\"gridcolor\":\"white\",\"linecolor\":\"white\",\"ticks\":\"\"},\"baxis\":{\"gridcolor\":\"white\",\"linecolor\":\"white\",\"ticks\":\"\"},\"caxis\":{\"gridcolor\":\"white\",\"linecolor\":\"white\",\"ticks\":\"\"}},\"coloraxis\":{\"colorbar\":{\"outlinewidth\":0,\"ticks\":\"\"}},\"colorscale\":{\"sequential\":[[0.0,\"#0d0887\"],[0.1111111111111111,\"#46039f\"],[0.2222222222222222,\"#7201a8\"],[0.3333333333333333,\"#9c179e\"],[0.4444444444444444,\"#bd3786\"],[0.5555555555555556,\"#d8576b\"],[0.6666666666666666,\"#ed7953\"],[0.7777777777777778,\"#fb9f3a\"],[0.8888888888888888,\"#fdca26\"],[1.0,\"#f0f921\"]],\"sequentialminus\":[[0.0,\"#0d0887\"],[0.1111111111111111,\"#46039f\"],[0.2222222222222222,\"#7201a8\"],[0.3333333333333333,\"#9c179e\"],[0.4444444444444444,\"#bd3786\"],[0.5555555555555556,\"#d8576b\"],[0.6666666666666666,\"#ed7953\"],[0.7777777777777778,\"#fb9f3a\"],[0.8888888888888888,\"#fdca26\"],[1.0,\"#f0f921\"]],\"diverging\":[[0,\"#8e0152\"],[0.1,\"#c51b7d\"],[0.2,\"#de77ae\"],[0.3,\"#f1b6da\"],[0.4,\"#fde0ef\"],[0.5,\"#f7f7f7\"],[0.6,\"#e6f5d0\"],[0.7,\"#b8e186\"],[0.8,\"#7fbc41\"],[0.9,\"#4d9221\"],[1,\"#276419\"]]},\"xaxis\":{\"gridcolor\":\"white\",\"linecolor\":\"white\",\"ticks\":\"\",\"title\":{\"standoff\":15},\"zerolinecolor\":\"white\",\"automargin\":true,\"zerolinewidth\":2},\"yaxis\":{\"gridcolor\":\"white\",\"linecolor\":\"white\",\"ticks\":\"\",\"title\":{\"standoff\":15},\"zerolinecolor\":\"white\",\"automargin\":true,\"zerolinewidth\":2},\"scene\":{\"xaxis\":{\"backgroundcolor\":\"#E5ECF6\",\"gridcolor\":\"white\",\"linecolor\":\"white\",\"showbackground\":true,\"ticks\":\"\",\"zerolinecolor\":\"white\",\"gridwidth\":2},\"yaxis\":{\"backgroundcolor\":\"#E5ECF6\",\"gridcolor\":\"white\",\"linecolor\":\"white\",\"showbackground\":true,\"ticks\":\"\",\"zerolinecolor\":\"white\",\"gridwidth\":2},\"zaxis\":{\"backgroundcolor\":\"#E5ECF6\",\"gridcolor\":\"white\",\"linecolor\":\"white\",\"showbackground\":true,\"ticks\":\"\",\"zerolinecolor\":\"white\",\"gridwidth\":2}},\"shapedefaults\":{\"line\":{\"color\":\"#2a3f5f\"}},\"annotationdefaults\":{\"arrowcolor\":\"#2a3f5f\",\"arrowhead\":0,\"arrowwidth\":1},\"geo\":{\"bgcolor\":\"white\",\"landcolor\":\"#E5ECF6\",\"subunitcolor\":\"white\",\"showland\":true,\"showlakes\":true,\"lakecolor\":\"white\"},\"title\":{\"x\":0.05},\"mapbox\":{\"style\":\"light\"}}},\"xaxis\":{\"anchor\":\"y\",\"domain\":[0.0,0.09135802469135802],\"title\":{\"text\":\"colsample_bytree\"}},\"yaxis\":{\"anchor\":\"x\",\"domain\":[0.0,1.0],\"title\":{\"text\":\"Objective Value\"}},\"xaxis2\":{\"anchor\":\"y2\",\"domain\":[0.11358024691358025,0.20493827160493827],\"title\":{\"text\":\"gamma\"}},\"yaxis2\":{\"anchor\":\"x2\",\"domain\":[0.0,1.0],\"matches\":\"y\",\"showticklabels\":false},\"xaxis3\":{\"anchor\":\"y3\",\"domain\":[0.2271604938271605,0.31851851851851853],\"title\":{\"text\":\"learning_rate\"},\"type\":\"log\"},\"yaxis3\":{\"anchor\":\"x3\",\"domain\":[0.0,1.0],\"matches\":\"y\",\"showticklabels\":false},\"xaxis4\":{\"anchor\":\"y4\",\"domain\":[0.34074074074074073,0.43209876543209874],\"title\":{\"text\":\"max_depth\"}},\"yaxis4\":{\"anchor\":\"x4\",\"domain\":[0.0,1.0],\"matches\":\"y\",\"showticklabels\":false},\"xaxis5\":{\"anchor\":\"y5\",\"domain\":[0.454320987654321,0.5456790123456791],\"title\":{\"text\":\"min_child_weight\"}},\"yaxis5\":{\"anchor\":\"x5\",\"domain\":[0.0,1.0],\"matches\":\"y\",\"showticklabels\":false},\"xaxis6\":{\"anchor\":\"y6\",\"domain\":[0.5679012345679012,0.6592592592592592],\"title\":{\"text\":\"n_estimators\"}},\"yaxis6\":{\"anchor\":\"x6\",\"domain\":[0.0,1.0],\"matches\":\"y\",\"showticklabels\":false},\"xaxis7\":{\"anchor\":\"y7\",\"domain\":[0.6814814814814815,0.7728395061728395],\"title\":{\"text\":\"reg_alpha\"}},\"yaxis7\":{\"anchor\":\"x7\",\"domain\":[0.0,1.0],\"matches\":\"y\",\"showticklabels\":false},\"xaxis8\":{\"anchor\":\"y8\",\"domain\":[0.7950617283950617,0.8864197530864197],\"title\":{\"text\":\"reg_lambda\"},\"type\":\"log\"},\"yaxis8\":{\"anchor\":\"x8\",\"domain\":[0.0,1.0],\"matches\":\"y\",\"showticklabels\":false},\"xaxis9\":{\"anchor\":\"y9\",\"domain\":[0.908641975308642,1.0],\"title\":{\"text\":\"subsample\"}},\"yaxis9\":{\"anchor\":\"x9\",\"domain\":[0.0,1.0],\"matches\":\"y\",\"showticklabels\":false},\"title\":{\"text\":\"Slice Plot\"},\"width\":2700},                        {\"responsive\": true}                    ).then(function(){\n",
              "                            \n",
              "var gd = document.getElementById('97e94b4a-4553-42c6-9d81-ba5ba4064133');\n",
              "var x = new MutationObserver(function (mutations, observer) {{\n",
              "        var display = window.getComputedStyle(gd).display;\n",
              "        if (!display || display === 'none') {{\n",
              "            console.log([gd, 'removed!']);\n",
              "            Plotly.purge(gd);\n",
              "            observer.disconnect();\n",
              "        }}\n",
              "}});\n",
              "\n",
              "// Listen for the removal of the full notebook cells\n",
              "var notebookContainer = gd.closest('#notebook-container');\n",
              "if (notebookContainer) {{\n",
              "    x.observe(notebookContainer, {childList: true});\n",
              "}}\n",
              "\n",
              "// Listen for the clearing of the current output cell\n",
              "var outputEl = gd.closest('.output');\n",
              "if (outputEl) {{\n",
              "    x.observe(outputEl, {childList: true});\n",
              "}}\n",
              "\n",
              "                        })                };                            </script>        </div>\n",
              "</body>\n",
              "</html>"
            ]
          },
          "metadata": {}
        }
      ]
    },
    {
      "cell_type": "code",
      "source": [
        "# Save the trained model\n",
        "joblib.dump(final_xgb_churn_model, \"/tmp/xgb_churn_model.joblib\")\n"
      ],
      "metadata": {
        "colab": {
          "base_uri": "https://localhost:8080/"
        },
        "id": "8MZclZVqsVUT",
        "outputId": "ea6a85dc-e48a-4a7b-b06d-f34c1644c337"
      },
      "execution_count": null,
      "outputs": [
        {
          "output_type": "execute_result",
          "data": {
            "text/plain": [
              "['/tmp/xgb_churn_model.joblib']"
            ]
          },
          "metadata": {},
          "execution_count": 88
        }
      ]
    },
    {
      "cell_type": "markdown",
      "source": [],
      "metadata": {
        "id": "toKk_9e8MxBg"
      }
    },
    {
      "cell_type": "markdown",
      "source": [
        "ЗАДЕЛ НА БУДУЩЕЕ: сопряжение с MLFlow.\n",
        "\n",
        "Конфигурирование MLFlow выходит за рамки этого проекта, поэтому пока ставим заглушку.\n",
        "\n"
      ],
      "metadata": {
        "id": "zabGvkRJIgJF"
      }
    },
    {
      "cell_type": "code",
      "source": [
        "y_pred_churn_proba = final_xgb_churn_model.predict_proba(X_test_churn_processed)[:, 1]\n",
        "y_pred_churn = (y_pred_churn_proba > 0.43).astype(int) # Default threshold\n",
        "\n",
        "# ROC-AUC Score\n",
        "roc_auc_churn = roc_auc_score(y_test_churn, y_pred_churn_proba)\n",
        "print(f\"\\nROC-AUC на тестовой выборке: {roc_auc_churn:.4f}\")\n",
        "\n",
        "# Confusion Matrix\n",
        "cm_churn = confusion_matrix(y_test_churn, y_pred_churn)\n",
        "print(\"\\nМатрица ошибок на тестовой выборке:\")\n",
        "print(cm_churn)\n",
        "\n",
        "plt.figure(figsize=(6, 5))\n",
        "sns.heatmap(cm_churn, annot=True, fmt='d', cmap='Blues',\n",
        "            xticklabels=['Не отток', 'Отток'],\n",
        "            yticklabels=['Не отток', 'Отток'])\n",
        "plt.title('Матрица ошибок')\n",
        "plt.xlabel('Предсказанный класс')\n",
        "plt.ylabel('Истинный класс')\n",
        "plt.show()\n",
        "\n",
        "# Classification Report\n",
        "report_churn = classification_report(y_test_churn, y_pred_churn, target_names=['Не отток', 'Отток'])\n",
        "print(\"\\nОтчет о классификации на тестовой выборке:\")\n",
        "print(report_churn)\n"
      ],
      "metadata": {
        "colab": {
          "base_uri": "https://localhost:8080/",
          "height": 802
        },
        "id": "WO3fm0-z4_SO",
        "outputId": "1f7f5aa4-147b-48d0-ee38-d998b0461e9e"
      },
      "execution_count": null,
      "outputs": [
        {
          "output_type": "stream",
          "name": "stdout",
          "text": [
            "\n",
            "ROC-AUC на тестовой выборке: 0.8489\n",
            "\n",
            "Матрица ошибок на тестовой выборке:\n",
            "[[1123  168]\n",
            " [ 168  299]]\n"
          ]
        },
        {
          "output_type": "display_data",
          "data": {
            "text/plain": [
              "<Figure size 600x500 with 2 Axes>"
            ],
            "image/png": "[encoded data removed]"
          },
          "metadata": {}
        },
        {
          "output_type": "stream",
          "name": "stdout",
          "text": [
            "\n",
            "Отчет о классификации на тестовой выборке:\n",
            "              precision    recall  f1-score   support\n",
            "\n",
            "    Не отток       0.87      0.87      0.87      1291\n",
            "       Отток       0.64      0.64      0.64       467\n",
            "\n",
            "    accuracy                           0.81      1758\n",
            "   macro avg       0.76      0.76      0.76      1758\n",
            "weighted avg       0.81      0.81      0.81      1758\n",
            "\n"
          ]
        }
      ]
    },
    {
      "cell_type": "code",
      "source": [
        "import mlflow\n",
        "import mlflow.sklearn\n",
        "with mlflow.start_run(run_name=\"ChurnPrediction_XGBoost\"):\n",
        "    mlflow.log_param(\"classifier_model\", \"XGBoost\")\n",
        "    mlflow.log_param(\"n_estimators\", final_xgb_churn_model.n_estimators)\n",
        "    mlflow.log_param(\"learning_rate\", final_xgb_churn_model.learning_rate)\n",
        "    # mlflow.log_param(\"scale_pos_weight\", scale_pos_weight_value) # Логируем новый параметр\n",
        "    # # # Note: best_iteration is only available if early stopping actually occurred and model was saved.\n",
        "    # If not, xgb_churn_model.best_iteration might not be set.\n",
        "    if hasattr(final_xgb_churn_model, 'best_iteration'):\n",
        "        mlflow.log_metric(\"best_iteration\", final_xgb_churn_model.best_iteration)\n",
        "\n",
        "    mlflow.sklearn.log_model(\n",
        "        sk_model=final_xgb_churn_model,\n",
        "        artifact_path=\"xgb_churn_model\"\n",
        "    )\n",
        "    print(\"Модель XGBoost для оттока зарегистрирована в MLflow (локально).\")\n"
      ],
      "metadata": {
        "colab": {
          "base_uri": "https://localhost:8080/"
        },
        "id": "8LqfkDEy40MN",
        "outputId": "0e40a325-2580-4738-eaae-cabe29cf7f7d"
      },
      "execution_count": null,
      "outputs": [
        {
          "output_type": "stream",
          "name": "stderr",
          "text": [
            "2025/07/03 13:55:46 WARNING mlflow.models.model: `artifact_path` is deprecated. Please use `name` instead.\n",
            "\u001b[31m2025/07/03 13:55:53 WARNING mlflow.models.model: Model logged without a signature and input example. Please set `input_example` parameter when logging the model to auto infer the model signature.\u001b[0m\n"
          ]
        },
        {
          "output_type": "stream",
          "name": "stdout",
          "text": [
            "Модель XGBoost для оттока зарегистрирована в MLflow (локально).\n"
          ]
        }
      ]
    },
    {
      "cell_type": "markdown",
      "source": [
        "### 6. Оценка и Интерпретация Модели\n",
        "\n",
        "#### Оценка моделей прогнозирования оттока (бинарная классификация) требует особого внимания к метрикам Precision, Recall, F1-score, ROC-AUC.\n",
        "\n",
        "### **Бизнес-контекст ошибок:**\n",
        "#### -   **Ложноположительный результат (FP):** Клиент, который не собирался уходить, ошибочно помечен как \"риск оттока\". Приводит к ненужным маркетинговым усилиям и потенциальному раздражению клиента.\n",
        "#### -   **Ложноотрицательный результат (FN):** Клиент, который действительно собирался уйти, ошибочно помечен как \"не риск оттока\". Приводит к упущенным возможностям удержания и потере клиента.\n",
        "#### В прогнозировании оттока **ущерб от FN часто выше ущерба от FP**, поэтому более высокий Recall для класса \"отток\" предпочтителен.\n"
      ],
      "metadata": {
        "id": "w5VrTRPbNhL3"
      }
    },
    {
      "cell_type": "markdown",
      "source": [
        "\n",
        "Интерпретация результатов:\"\n",
        " - Высокий ROC-AUC указывает на хорошую общую способность модели различать клиентов, которые уйдут, и тех, кто останется.\n",
        " - Достаточно высокий Recall для 'Отток' означает, что мы выявляем многих клиентов, которые на самом деле уйдут.\n",
        " - Матрица ошибок дает конкретное количество ложноположительных и ложноотрицательных результатов, позволяя оценить бизнес-влияние этих ошибок.\n",
        " - Выбор порога классификации (по умолчанию 0.5) может быть скорректирован для балансировки компромиссов между FP и FN в соответствии с бизнес-стратегией (например, максимизировать Recall, если стоимость упущенного клиента очень высока)."
      ],
      "metadata": {
        "id": "30UGZ2spO4W_"
      }
    },
    {
      "cell_type": "code",
      "source": [
        "# ## 8. Соображения MLOps\n",
        "#\n",
        "# Внедрение ML-моделей в производство требует надежных практик MLOps.\n",
        "#\n",
        "# ### Отслеживание экспериментов и Реестр моделей (MLflow)\n",
        "# `MLflow` позволяет отслеживать параметры, метрики и артефакты каждого запуска эксперимента.\n",
        "# `MLflow Model Registry` предоставляет централизованное хранилище для управления версиями моделей,\n",
        "# их жизненным циклом (staging, production) и аннотациями.\n",
        "#\n",
        "# **Концепция:**\n",
        "# ```python\n",
        "# # Пример логирования в MLflow (как показано в шаге 5)\n",
        "import mlflow\n",
        "import mlflow.sklearn\n",
        "with mlflow.start_run(run_name=\"ChurnPrediction_XGBoost_Local\"):\n",
        "    # ... обучение модели ...\n",
        "    mlflow.log_param(\"n_estimators\", final_xgb_churn_model.n_estimators)\n",
        "    mlflow.log_metric(\"roc_auc\", roc_auc_churn)\n",
        "    mlflow.sklearn.log_model(\n",
        "        sk_model=final_xgb_churn_model,\n",
        "        artifact_path=\"xgb_churn_model\",\n",
        "        registered_model_name=\"XGBoostChurnPredictor\"\n",
        "    )"
      ],
      "metadata": {
        "colab": {
          "base_uri": "https://localhost:8080/"
        },
        "id": "eXTkjtbvKrwQ",
        "outputId": "5e8627e1-6759-4481-8ab4-a4413b64370b"
      },
      "execution_count": null,
      "outputs": [
        {
          "output_type": "stream",
          "name": "stderr",
          "text": [
            "2025/07/03 13:55:53 WARNING mlflow.models.model: `artifact_path` is deprecated. Please use `name` instead.\n",
            "\u001b[31m2025/07/03 13:55:56 WARNING mlflow.models.model: Model logged without a signature and input example. Please set `input_example` parameter when logging the model to auto infer the model signature.\u001b[0m\n",
            "Successfully registered model 'XGBoostChurnPredictor'.\n",
            "Created version '1' of model 'XGBoostChurnPredictor'.\n"
          ]
        }
      ]
    },
    {
      "cell_type": "markdown",
      "source": [
        "\n",
        "## Мониторинг модели\n",
        "### После развертывания модели критически важен мониторинг ее производительности и дрейфа.\n",
        "\n",
        "## **Ключевые метрики для мониторинга:**\n",
        "###-   **Метрики производительности модели:** ROC-AUC, Precision, Recall, F1-score на актуальных данных.\n",
        "### -   **Дрейф данных (Data Drift):** Изменение распределения входных признаков (например, демографии клиентов, паттернов использования сервисов). Может указывать на изменение клиентской базы или продукта.\n",
        "### -   **Дрейф модели (Model Drift):** Деградация предсказательной способности модели со временем по сравнению с целевой переменной.\n",
        "### -   **Бизнес-метрики:** Фактический процент оттока, ROI маркетинговых кампаний, стоимость удержания.\n",
        "### -   **Инфраструктурные метрики:** Задержка инференса, пропускная способность API, использование ресурсов (CPU/RAM).\n"
      ],
      "metadata": {
        "id": "rDKcJCrxVfM-"
      }
    },
    {
      "cell_type": "code",
      "source": [
        "from scipy.stats import ks_2samp\n",
        "\n",
        "def detect_data_drift(baseline_data, current_data, feature_name, alpha=0.05):\n",
        "    \"\"\"\n",
        "    Проверяет наличие дрейфа данных для числового признака с использованием теста Колмогорова-Смирнова.\n",
        "    \"\"\"\n",
        "    if feature_name not in baseline_data.columns or feature_name not in current_data.columns:\n",
        "        print(f\"Признак '{feature_name}' не найден в одном из датасетов.\")\n",
        "        return False\n",
        "\n",
        "    stat, p_value = ks_2samp(baseline_data[feature_name], current_data[feature_name])\n",
        "    if p_value < alpha:\n",
        "        print(f\"Дрейф обнаружен для признака '{feature_name}': p-value = {p_value:.4f}\")\n",
        "        return True\n",
        "    else:\n",
        "        print(f\"Дрейфа не обнаружено для признака '{feature_name}': p-value = {p_value:.4f}\")\n",
        "        return False\n",
        "\n",
        "# Пример использования\n",
        "baseline_data = X_train_churn_processed # Данные, на которых была обучена модель\n",
        "current_data = X_test_churn_processed # Имитация новых производственных данных\n",
        "\n",
        "for feature in baseline_data.columns: # Проверяем первые 5 признаков\n",
        "    detect_data_drift(baseline_data, current_data, feature)"
      ],
      "metadata": {
        "colab": {
          "base_uri": "https://localhost:8080/"
        },
        "id": "17FUZU2qWIZm",
        "outputId": "820bc920-56d4-4b66-ec81-d7de5145c5a0"
      },
      "execution_count": null,
      "outputs": [
        {
          "output_type": "stream",
          "name": "stdout",
          "text": [
            "Дрейфа не обнаружено для признака 'SeniorCitizen': p-value = 1.0000\n",
            "Дрейфа не обнаружено для признака 'tenure': p-value = 0.7379\n",
            "Дрейфа не обнаружено для признака 'MonthlyCharges': p-value = 0.3504\n",
            "Дрейфа не обнаружено для признака 'TotalCharges': p-value = 0.8717\n",
            "Дрейфа не обнаружено для признака 'gender_Male': p-value = 0.8627\n",
            "Дрейфа не обнаружено для признака 'Partner_Yes': p-value = 0.9998\n",
            "Дрейфа не обнаружено для признака 'Dependents_Yes': p-value = 1.0000\n",
            "Дрейфа не обнаружено для признака 'PhoneService_Yes': p-value = 1.0000\n",
            "Дрейфа не обнаружено для признака 'MultipleLines_No phone service': p-value = 1.0000\n",
            "Дрейфа не обнаружено для признака 'MultipleLines_Yes': p-value = 1.0000\n",
            "Дрейфа не обнаружено для признака 'InternetService_Fiber optic': p-value = 1.0000\n",
            "Дрейфа не обнаружено для признака 'InternetService_No': p-value = 1.0000\n",
            "Дрейфа не обнаружено для признака 'OnlineSecurity_No internet service': p-value = 1.0000\n",
            "Дрейфа не обнаружено для признака 'OnlineSecurity_Yes': p-value = 1.0000\n",
            "Дрейфа не обнаружено для признака 'OnlineBackup_No internet service': p-value = 1.0000\n",
            "Дрейфа не обнаружено для признака 'OnlineBackup_Yes': p-value = 0.9125\n",
            "Дрейфа не обнаружено для признака 'DeviceProtection_No internet service': p-value = 1.0000\n",
            "Дрейфа не обнаружено для признака 'DeviceProtection_Yes': p-value = 0.9050\n",
            "Дрейфа не обнаружено для признака 'TechSupport_No internet service': p-value = 1.0000\n",
            "Дрейфа не обнаружено для признака 'TechSupport_Yes': p-value = 0.7713\n",
            "Дрейфа не обнаружено для признака 'StreamingTV_No internet service': p-value = 1.0000\n",
            "Дрейфа не обнаружено для признака 'StreamingTV_Yes': p-value = 0.7822\n",
            "Дрейфа не обнаружено для признака 'StreamingMovies_No internet service': p-value = 1.0000\n",
            "Дрейфа не обнаружено для признака 'StreamingMovies_Yes': p-value = 1.0000\n",
            "Дрейфа не обнаружено для признака 'Contract_One year': p-value = 1.0000\n",
            "Дрейфа не обнаружено для признака 'Contract_Two year': p-value = 0.9993\n",
            "Дрейфа не обнаружено для признака 'PaperlessBilling_Yes': p-value = 0.9453\n",
            "Дрейфа не обнаружено для признака 'PaymentMethod_Credit card (automatic)': p-value = 1.0000\n",
            "Дрейфа не обнаружено для признака 'PaymentMethod_Electronic check': p-value = 0.9993\n",
            "Дрейфа не обнаружено для признака 'PaymentMethod_Mailed check': p-value = 1.0000\n"
          ]
        }
      ]
    },
    {
      "cell_type": "code",
      "source": [
        "\n",
        "# ### CI/CD\n",
        "# `CI/CD (Continuous Integration/Continuous Delivery)` автоматизирует процессы тестирования, сборки и развертывания ML-кода.\n",
        "\n",
        "# **Ключевые этапы:**\n",
        "# 1.  **Непрерывная интеграция (CI):** Автоматическое тестирование кода при каждом коммите (модульные тесты, тесты интеграции, тесты качества кода).\n",
        "# 2.  **Непрерывная доставка (CD):** Автоматическое развертывание проверенного кода в промежуточные или продакшн-среды.\n",
        "# 3.  **Автоматизированные тесты:**\n",
        "#     * **Модульные тесты:** Для функций предобработки, генерации признаков.\n",
        "#     * **Тесты данных:** Проверка ожиданий по качеству данных (например, уникальность ID, отсутствие NULLs в критически важных полях).\n",
        "#     * **Тесты модели:** Проверка минимальной производительности модели (например, ROC-AUC > X), стабильности предсказаний.\n",
        "\n",
        "# **Инструменты:** `Jenkins`, `GitLab CI/CD`, `GitHub Actions`, `Azure DevOps`.\n",
        "\n",
        "# <codecell>"
      ],
      "metadata": {
        "id": "rfFrAoSPfguF"
      },
      "execution_count": null,
      "outputs": []
    },
    {
      "cell_type": "code",
      "source": [
        "\n",
        "# 9. Дизайн A/B/C-тестирования для Uplift-моделирования\n",
        "\n",
        "Uplift-моделирование направлено на идентификацию клиентов, которые будут\n",
        "**инкрементально** реагировать на вмешательство. A/B/C-тестирование\n",
        "является основой для оценки таких моделей.\n",
        "\n",
        "**Цель A/B/C-теста:** Определить оптимальную стратегию маркетингового воздействия,\n",
        "которая максимизирует целевое поведение (например, удержание клиента) при\n",
        "минимизации затрат.\n",
        "\n",
        "### Дизайн эксперимента:\n",
        "\n",
        "1.  **Гипотеза:** Применение персонализированных предложений, основанных на\n",
        "    прогнозах uplift-модели, приведет к увеличению удержания клиентов на X%\n",
        "    по сравнению со случайным таргетингом или отсутствием воздействия.\n",
        "2.  **Целевая аудитория:** Случайно выбранная группа клиентов, потенциально\n",
        "    подверженных оттоку.\n",
        "3.  **Группы:**\n",
        "    -   **Контрольная группа (A - Control):** Клиенты не получают никакого вмешательства.\n",
        "    -   **Группа случайного воздействия (B - Random Treatment):** Клиенты получают стандартное предложение.\n",
        "    -   **Группа целевого воздействия (C - Targeted Treatment):** Клиенты получают предложение,\n",
        "        определенное uplift-моделью (например, только для тех, у кого высокий predicted uplift).\n",
        "4.  **Разделение трафика:** Обычно по `customer_id` для обеспечения согласованности.\n"
      ],
      "metadata": {
        "id": "tfTjsGpEWfGX"
      },
      "execution_count": null,
      "outputs": []
    },
    {
      "cell_type": "code",
      "source": [
        "# Пример распределения клиентов по группам A/B/C (используем имитированные данные uplift)\n",
        "\n",
        "# Случайное распределение по группам A (контроль), B (случайное воздействие), C (целевое воздействие)\n",
        "# Для реального A/B теста это делается на этапе выборки перед началом кампании.\n",
        "df_uplift_pd['assigned_experiment_group'] = np.random.choice(\n",
        "    ['A_Control', 'B_Random_Treatment', 'C_Targeted_Treatment'],\n",
        "    size=len(df_uplift_pd),\n",
        "    p=[0.33, 0.33, 0.34]\n",
        ")\n",
        "\n",
        "print(\"\\nРаспределение клиентов по смоделированным группам A/B/C:\")\n",
        "print(df_uplift_pd['assigned_experiment_group'].value_counts(normalize=True))\n"
      ],
      "metadata": {
        "colab": {
          "base_uri": "https://localhost:8080/"
        },
        "id": "VmiD5LhXggUa",
        "outputId": "6fb07468-04a9-4149-973a-f5c1a6b045b5"
      },
      "execution_count": null,
      "outputs": [
        {
          "output_type": "stream",
          "name": "stdout",
          "text": [
            "\n",
            "Распределение клиентов по смоделированным группам A/B/C:\n",
            "assigned_experiment_group\n",
            "C_Targeted_Treatment    0.3490\n",
            "A_Control               0.3287\n",
            "B_Random_Treatment      0.3223\n",
            "Name: proportion, dtype: float64\n"
          ]
        }
      ]
    },
    {
      "cell_type": "markdown",
      "source": [
        "\n",
        "# 9. Дизайн A/B/C-тестирования для Uplift-моделирования\n",
        "\n",
        "Uplift-моделирование направлено на идентификацию клиентов, которые будут\n",
        "**инкрементально** реагировать на вмешательство. A/B/C-тестирование\n",
        "является основой для оценки таких моделей.\n",
        "\n",
        "**Цель A/B/C-теста:** Определить оптимальную стратегию маркетингового воздействия,\n",
        "которая максимизирует целевое поведение (например, удержание клиента) при\n",
        "минимизации затрат.\n",
        "\n",
        "### Дизайн эксперимента:\n",
        "\n",
        "1.  **Гипотеза:** Применение персонализированных предложений, основанных на\n",
        "    прогнозах uplift-модели, приведет к увеличению удержания клиентов на X%\n",
        "    по сравнению со случайным таргетингом или отсутствием воздействия.\n",
        "2.  **Целевая аудитория:** Случайно выбранная группа клиентов, потенциально\n",
        "    подверженных оттоку.\n",
        "3.  **Группы:**\n",
        "    -   **Контрольная группа (A - Control):** Клиенты не получают никакого вмешательства.\n",
        "    -   **Группа случайного воздействия (B - Random Treatment):** Клиенты получают стандартное предложение.\n",
        "    -   **Группа целевого воздействия (C - Targeted Treatment):** Клиенты получают предложение,\n",
        "        определенное uplift-моделью (например, только для тех, у кого высокий predicted uplift).\n",
        "4.  **Разделение трафика:** Обычно по `customer_id` для обеспечения согласованности.\n",
        "5.  **Метрики для измерения:**\n",
        "    -   **Первичные метрики:** Процент удержания клиентов, процент оттока, ROI кампании.\n",
        "    -   **Вторичные метрики:** Ответ на предложение, пожизненная ценность клиента (LTV).\n",
        "6.  **Длительность эксперимента:** Зависит от жизненного цикла клиента, периода, необходимого для оттока, и ожидаемого эффекта. Может потребоваться несколько месяцев.\n",
        "\n",
        "**Расчет размера выборки:**\n",
        "Расчет размера выборки будет зависеть от выбранных метрик (пропорции оттока/удержания).\n",
        "Используйте соответствующие статистические формулы для сравнения пропорций (например, Z-тест).\n",
        "\n",
        "**Анализ результатов:**\n",
        "После сбора данных из всех групп, используйте Python (Pandas) и статистические тесты (например, `scipy.stats`) для агрегации\n",
        "метрик и проведения статистических тестов."
      ],
      "metadata": {
        "id": "jLXCadU8k6PR"
      }
    },
    {
      "cell_type": "code",
      "source": [
        "# Пример анализа результатов A/B/C теста (концептуально)\n",
        "# Предположим, что df_uplift_pd содержит реальные результаты кампании (outcome, treatment_group)\n",
        "\n",
        "# Агрегация метрик по группам\n",
        "metrics_df_uplift = df_uplift_pd.groupby('assigned_experiment_group')['outcome'].agg(\n",
        "    total_customers='count',\n",
        "    positive_outcomes=lambda x: (x == 1).sum()\n",
        ").reset_index()\n",
        "\n",
        "metrics_df_uplift['conversion_rate'] = metrics_df_uplift['positive_outcomes'] / metrics_df_uplift['total_customers']\n",
        "\n",
        "print(\"\\nАгрегированные метрики по группам A/B/C:\")\n",
        "print(metrics_df_uplift)\n",
        "\n",
        "# Проведение статистических тестов (например, Z-тест для пропорций)\n",
        "from statsmodels.stats.proportion import proportions_ztest\n",
        "\n",
        "# Пример сравнения 'C_Targeted_Treatment' vs 'A_Control'\n",
        "count_c = metrics_df_uplift[metrics_df_uplift['assigned_experiment_group'] == 'C_Targeted_Treatment']['positive_outcomes'].iloc[0]\n",
        "nobs_c = metrics_df_uplift[metrics_df_uplift['assigned_experiment_group'] == 'C_Targeted_Treatment']['total_customers'].iloc[0]\n",
        "\n",
        "count_a = metrics_df_uplift[metrics_df_uplift['assigned_experiment_group'] == 'A_Control']['positive_outcomes'].iloc[0]\n",
        "nobs_a = metrics_df_uplift[metrics_df_uplift['assigned_experiment_group'] == 'A_Control']['total_customers'].iloc[0]\n",
        "\n",
        "if nobs_a > 0 and nobs_c > 0:\n",
        "    stat, pval = proportions_ztest([count_c, count_a], [nobs_c, nobs_a], alternative='larger') # Test if C > A\n",
        "    print(f\"\\nZ-тест (C_Targeted_Treatment vs A_Control): Z-статистика = {stat:.4f}, P-значение = {pval:.4f}\")\n",
        "    if pval < 0.05:\n",
        "        print(\"Статистически значимое увеличение конверсии в группе C по сравнению с группой A.\")\n",
        "    else:\n",
        "        print(\"Статистически значимого увеличения конверсии не обнаружено.\")\n",
        "else:\n",
        "    print(\"\\nНедостаточно данных для Z-теста в одной из групп.\")"
      ],
      "metadata": {
        "colab": {
          "base_uri": "https://localhost:8080/"
        },
        "id": "AJTFbk6wg1XR",
        "outputId": "baa4b46e-f8fd-4be4-fd6b-6598c39c0555"
      },
      "execution_count": null,
      "outputs": [
        {
          "output_type": "stream",
          "name": "stdout",
          "text": [
            "\n",
            "Агрегированные метрики по группам A/B/C:\n",
            "  assigned_experiment_group  total_customers  positive_outcomes  \\\n",
            "0                 A_Control             3287                499   \n",
            "1        B_Random_Treatment             3223                561   \n",
            "2      C_Targeted_Treatment             3490                602   \n",
            "\n",
            "   conversion_rate  \n",
            "0         0.151810  \n",
            "1         0.174061  \n",
            "2         0.172493  \n",
            "\n",
            "Z-тест (C_Targeted_Treatment vs A_Control): Z-статистика = 2.3069, P-значение = 0.0105\n",
            "Статистически значимое увеличение конверсии в группе C по сравнению с группой A.\n"
          ]
        }
      ]
    },
    {
      "cell_type": "markdown",
      "source": [
        "## 10. Заключение и дальнейшие шаги\n",
        "\n",
        "Этот ноутбук реализует сквозной подход к созданию модели прогнозирования оттока клиентов и основам Uplift-моделирования:\n",
        "-   **EDA и понимание клиентских данных:** Работа с данными о клиентах и несбалансированностью классов.\n",
        "-   **Генерация признаков и предварительная обработка:** Создание поведенческих и демографических признаков.\n",
        "-   **Выбор и обучение моделей:** Использование XGBoost для прогнозирования оттока.\n",
        "-   **Оценка и интерпретация:** Фокус на метриках Precision, Recall, ROC-AUC и бизнес-последствиях ошибок.\n",
        "-   **Базовое развертывание:** Развёртывание концепции с помощью FastAPI и Docker для развертывания модели.\n",
        "-   **MLOps:** Интеграция с MLflow для отслеживания, версионирование данных, Airflow для оркестрации и принципы мониторинга. (заглушка)\n",
        "-   **A/B/C-тестирование:** Проектирование эксперимента для оценки влияния на удержание клиентов. (имитация данных)\n",
        "\n",
        "### Дальнейшие шаги и улучшения:\n",
        "\n",
        "1.  **Продвинутое Uplift-моделирование:** Использование более сложных методов uplift-моделирования\n",
        "    (например, методы дерева uplift из `causalml`, `Transformed Outcome`, `Causal Forest`) для более точного\n",
        "    определения оптимальных стратегий воздействия.\n",
        "2.  **Потоковое прогнозирование оттока:** Реализация системы, которая оценивает риск оттока в реальном времени\n",
        "    на основе текущего поведения клиента (например, с использованием Kafka и Spark Structured Streaming).\n",
        "3.  **Интеграция с системами персонализации:** Автоматическая активация персонализированных\n",
        "    кампаний удержания на основе прогнозов модели.\n",
        "4.  **Учет стоимости удержания:** Оптимизация кампаний не только по удержанию, но и по\n",
        "    стоимости удержания каждого клиента, например, с использованием обучения с учетом затрат.\n",
        "5.  **Динамическая сегментация клиентов:** Использование методов кластеризации для\n",
        "    динамического создания сегментов клиентов и применения к ним специфических моделей/предложений.\n",
        "6.  **Моделирование жизненного цикла клиента:** Построение моделей, которые прогнозируют\n",
        "    не только отток, но и другие важные этапы в жизненном цикле клиента (например, активация, рост, лояльность).\n",
        "7.  **Интерпретируемость uplift-моделей:** Использование SHAP или LIME для объяснения, почему для определенных клиентов\n",
        "    прогнозируется высокий uplift, что помогает маркетологам в создании более эффективных предложений."
      ],
      "metadata": {
        "id": "rvRPF10ClXnT"
      }
    },
    {
      "cell_type": "code",
      "metadata": {
        "id": "f07ebccc"
      },
      "source": [
        "!pip install apache-airflow[cncf.kubernetes,docker,google,http,postgres,slack,statsd,virtualenv,ssh]==2.9.3 --constraint \"https://raw.githubusercontent.com/apache/airflow/constraints-2.9.3/constraints-no-providers-3.9.txt\""
      ],
      "execution_count": null,
      "outputs": []
    },
    {
      "cell_type": "markdown",
      "metadata": {
        "id": "6ee04f74"
      },
      "source": [
        "**Note:** Installing `apache-airflow` here will allow the import to succeed, but to actually run an Airflow DAG, you need a full Airflow environment setup. The code in the previous cell is for demonstration purposes only and requires a complete Airflow installation to be functional."
      ]
    }
  ],
  "metadata": {
    "colab": {
      "provenance": [],
      "include_colab_link": true
    },
    "kernelspec": {
      "display_name": "Python 3",
      "name": "python3"
    }
  },
  "nbformat": 4,
  "nbformat_minor": 0
}